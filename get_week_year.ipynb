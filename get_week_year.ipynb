{
 "cells": [
  {
   "cell_type": "code",
   "execution_count": 1,
   "id": "d53d6f96-e7f3-41ed-96ee-6176d9ef4eeb",
   "metadata": {},
   "outputs": [],
   "source": [
    "import pandas as pd\n",
    "import numpy as np\n",
    "import os\n",
    "import requests\n",
    "\n",
    "import config\n",
    "from yandex_disk_func import *\n",
    "from parse_functions import *\n",
    "from google_connector import *\n",
    "from date_time_func import *\n",
    "\n",
    "# забираем токен для подключения к гугл\n",
    "service_key = config.service\n",
    "# Ссылка Стас 'https://docs.google.com/spreadsheets/d/1eakG0BJF1eSyi0hyGUpdw166TH_C9h_2zjnyrsMeejk/edit?usp=sharing'\n",
    "# Ссылка Леша 'https://docs.google.com/spreadsheets/d/1654-wSgdHnl4Mj4V6Swa5_H7sAUq3xXW2yZ6wlqNqq4/edit?usp=sharing'\n",
    "google_sheet_link = 'https://docs.google.com/spreadsheets/d/1654-wSgdHnl4Mj4V6Swa5_H7sAUq3xXW2yZ6wlqNqq4/edit?usp=sharing'\n",
    "\n",
    "gmail = config.gmail\n"
   ]
  },
  {
   "cell_type": "code",
   "execution_count": 2,
   "id": "e785406d-f5fd-49d9-987e-b705eec3f381",
   "metadata": {},
   "outputs": [
    {
     "name": "stdout",
     "output_type": "stream",
     "text": [
      "start: 2024-01-01, end: 2024-12-31\n"
     ]
    }
   ],
   "source": [
    "# создаем кастомный календарь для медиаплана\n",
    "sheet_name = 'weekYear'\n",
    "calendar_df = get_mediaplan_calendar(cur_year='2024', start_day_num=0)"
   ]
  },
  {
   "cell_type": "code",
   "execution_count": 3,
   "id": "79931584-3b4c-45c5-a5aa-344e00f62e5f",
   "metadata": {},
   "outputs": [
    {
     "name": "stdout",
     "output_type": "stream",
     "text": [
      "Connection established successfully...\n"
     ]
    }
   ],
   "source": [
    "# создаем подключение к Гуглу\n",
    "client = create_connection(service_key)"
   ]
  },
  {
   "cell_type": "code",
   "execution_count": 4,
   "id": "d7b52872-fa1d-47c4-b004-632846f8cd6a",
   "metadata": {},
   "outputs": [],
   "source": [
    "# прописываем путь и подключаемсяк нужному листу Гугл докса\n",
    "sh = client.open_by_url(google_sheet_link)\n",
    "sh.share(gmail, perm_type='user', role='writer')\n",
    "google_sheet = sh.worksheet(sheet_name)"
   ]
  },
  {
   "cell_type": "code",
   "execution_count": 5,
   "id": "72c66eaa-bea7-4f3e-897e-92378db4ca92",
   "metadata": {},
   "outputs": [
    {
     "name": "stdout",
     "output_type": "stream",
     "text": [
      "DataFrame exported successfully...\n"
     ]
    }
   ],
   "source": [
    "# выгружем наш датаФрейм на лист\n",
    "google_sheet.clear()\n",
    "export_dataframe_to_google_sheet(google_sheet, calendar_df)"
   ]
  }
 ],
 "metadata": {
  "kernelspec": {
   "display_name": "Python 3 (ipykernel)",
   "language": "python",
   "name": "python3"
  },
  "language_info": {
   "codemirror_mode": {
    "name": "ipython",
    "version": 3
   },
   "file_extension": ".py",
   "mimetype": "text/x-python",
   "name": "python",
   "nbconvert_exporter": "python",
   "pygments_lexer": "ipython3",
   "version": "3.11.7"
  }
 },
 "nbformat": 4,
 "nbformat_minor": 5
}
