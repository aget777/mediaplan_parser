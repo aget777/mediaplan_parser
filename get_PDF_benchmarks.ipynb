{
 "cells": [
  {
   "cell_type": "code",
   "execution_count": 1,
   "id": "cd7d8618-6478-42c7-8910-140ef183707a",
   "metadata": {},
   "outputs": [
    {
     "name": "stdout",
     "output_type": "stream",
     "text": [
      "200\n"
     ]
    }
   ],
   "source": [
    "import pandas as pd\n",
    "import numpy as np\n",
    "import os\n",
    "import requests\n",
    "from io import BytesIO\n",
    "import json\n",
    "import yadisk\n",
    "from datetime import datetime, date, timedelta\n",
    "import re\n",
    "import gspread\n",
    "from oauth2client.service_account import ServiceAccountCredentials\n",
    "\n",
    "import config\n",
    "from yandex_disk_func import *\n",
    "from parse_functions import *\n",
    "from google_connector import *\n",
    "from date_time_func import *\n",
    "\n",
    "# забираем токен для подключения к гугл\n",
    "service_key = config.service\n",
    "google_sheet_link = 'https://docs.google.com/spreadsheets/d/1xIVvTrbMUOhGiz6aA4jx9CRspigGgljVzqAJzsLLQtQ/edit?usp=sharing' \n",
    "gmail = config.gmail\n",
    "sheet_name = 'bench_raw'\n",
    "\n",
    "# обычная ссылка на доступ к папке одного данного ФЛАЙТА из личного кабинета\n",
    "public_key = config.public_key \n",
    "\n",
    "# забираем список папок в нужной нам директории\n",
    "res = get_yandex_disk_folders(public_key)\n",
    "yandex_folders = res.json() # парсим ответ"
   ]
  },
  {
   "cell_type": "code",
   "execution_count": 2,
   "id": "38650b18-70ed-41e4-a923-d3081139968b",
   "metadata": {},
   "outputs": [],
   "source": [
    "# Включаем отображение всех колонок\n",
    "pd.set_option('display.max_columns', None)\n",
    "# Задаем ширину столбцов по контенту\n",
    "pd.set_option('display.max_colwidth', None)\n",
    "pd.set_option('display.max_rows', None)\n",
    "pd.options.mode.chained_assignment = None\n",
    "# pd.set_option('display.float_format', lambda x: '%.2f' % x)"
   ]
  },
  {
   "cell_type": "code",
   "execution_count": 3,
   "id": "969c250b-9eb6-4f8b-adbe-c821d4c63304",
   "metadata": {},
   "outputs": [],
   "source": [
    "# создаем словарь, где сохраним каждый продукт в отдельный датаФрейм со своим ключом\n",
    "main_dict = {}"
   ]
  },
  {
   "cell_type": "code",
   "execution_count": 4,
   "id": "7302a4d0-b921-43bb-9dc7-8ff8c8c609c4",
   "metadata": {},
   "outputs": [
    {
     "name": "stdout",
     "output_type": "stream",
     "text": [
      "/01_yandex\n",
      "/02_prog\n",
      "/03_split\n"
     ]
    },
    {
     "name": "stderr",
     "output_type": "stream",
     "text": [
      "Ignoring wrong pointing object 23 0 (offset 0)\n",
      "Ignoring wrong pointing object 31 0 (offset 0)\n",
      "Ignoring wrong pointing object 45 0 (offset 0)\n",
      "Ignoring wrong pointing object 64 0 (offset 0)\n",
      "Ignoring wrong pointing object 125 0 (offset 0)\n",
      "Ignoring wrong pointing object 140 0 (offset 0)\n"
     ]
    },
    {
     "name": "stdout",
     "output_type": "stream",
     "text": [
      "бенчмарки сентябрь 2024\n",
      "26\n",
      "бенчмарки vk реклама\n",
      "бенчмарки vk реклама в категории авто\n",
      "бенчмарки vk рекламав категории ecom\n",
      "бенчмарки vk реклама в категориифинансы\n",
      "бенчмарки vk реклама в категорииfmcg\n",
      "бенчмарки vk реклама в категориимедицина и здоровье\n",
      "бенчмарки vk реклама в категориинедвижимость\n",
      "бенчмаркиmytarget\n",
      "бенчмаркиmytarget в категорииавто \n",
      "бенчмаркиmytarget в категории ecom\n",
      "бенчмаркиmytarget в категории финансы\n",
      "бенчмаркиmytarget в категории fmcg\n",
      "бенчмаркиmytarget в категории медицина и здоровье\n",
      "бенчмаркиmytarget в категории недвижимость\n",
      "бенчмаркивконтакте\n",
      "бенчмаркивконтактев категории авто\n",
      "бенчмаркивконтактев категории ecom\n",
      "бенчмаркивконтактев категории финансы\n",
      "бенчмаркивконтактев категории fmcg\n",
      "бенчмаркивконтактев категории медицина и здоровье\n",
      "бенчмаркивконтактев категории недвижимость\n"
     ]
    }
   ],
   "source": [
    "get_data_from_ya_folder(yandex_folders, main_dict, flag='split', extention='pdf')"
   ]
  },
  {
   "cell_type": "code",
   "execution_count": 5,
   "id": "0c499bc9-2fa8-405b-84c7-c18ca72e0a1c",
   "metadata": {},
   "outputs": [],
   "source": [
    "df = pd.concat(main_dict, ignore_index=True)\n",
    "df = df.fillna('')\n",
    "df = df[['период', 'source', 'категория', 'объект рекламы', 'цель рекламы', 'format_type', 'cpc без ндс', 'cpm без ндс', 'ctr %']]"
   ]
  },
  {
   "cell_type": "code",
   "execution_count": 6,
   "id": "36a48b97-1042-44f2-ba5d-5952c4e30351",
   "metadata": {},
   "outputs": [
    {
     "data": {
      "text/html": [
       "<div>\n",
       "<style scoped>\n",
       "    .dataframe tbody tr th:only-of-type {\n",
       "        vertical-align: middle;\n",
       "    }\n",
       "\n",
       "    .dataframe tbody tr th {\n",
       "        vertical-align: top;\n",
       "    }\n",
       "\n",
       "    .dataframe thead th {\n",
       "        text-align: right;\n",
       "    }\n",
       "</style>\n",
       "<table border=\"1\" class=\"dataframe\">\n",
       "  <thead>\n",
       "    <tr style=\"text-align: right;\">\n",
       "      <th></th>\n",
       "      <th>период</th>\n",
       "      <th>source</th>\n",
       "      <th>категория</th>\n",
       "      <th>объект рекламы</th>\n",
       "      <th>цель рекламы</th>\n",
       "      <th>format_type</th>\n",
       "      <th>cpc без ндс</th>\n",
       "      <th>cpm без ндс</th>\n",
       "      <th>ctr %</th>\n",
       "    </tr>\n",
       "  </thead>\n",
       "  <tbody>\n",
       "    <tr>\n",
       "      <th>0</th>\n",
       "      <td>01.09.2024-30.09.2024</td>\n",
       "      <td>VK Ads</td>\n",
       "      <td>авто</td>\n",
       "      <td>Mini app</td>\n",
       "      <td>Переходы в VK Mini Apps</td>\n",
       "      <td></td>\n",
       "      <td>22.0</td>\n",
       "      <td>140.9</td>\n",
       "      <td>0.64</td>\n",
       "    </tr>\n",
       "    <tr>\n",
       "      <th>1</th>\n",
       "      <td>01.09.2024-30.09.2024</td>\n",
       "      <td>VK Ads</td>\n",
       "      <td>авто</td>\n",
       "      <td>Видео и трансляции</td>\n",
       "      <td>Показы рекламы (запись, видео или клип)</td>\n",
       "      <td></td>\n",
       "      <td>47.7</td>\n",
       "      <td>70.6</td>\n",
       "      <td>0.15</td>\n",
       "    </tr>\n",
       "    <tr>\n",
       "      <th>2</th>\n",
       "      <td>01.09.2024-30.09.2024</td>\n",
       "      <td>VK Ads</td>\n",
       "      <td>авто</td>\n",
       "      <td>Видео и трансляции</td>\n",
       "      <td>Продвижение трансляций</td>\n",
       "      <td></td>\n",
       "      <td>47.2</td>\n",
       "      <td>71.5</td>\n",
       "      <td>0.15</td>\n",
       "    </tr>\n",
       "    <tr>\n",
       "      <th>3</th>\n",
       "      <td>01.09.2024-30.09.2024</td>\n",
       "      <td>VK Ads</td>\n",
       "      <td>авто</td>\n",
       "      <td>Дзен</td>\n",
       "      <td>Клики по рекламе</td>\n",
       "      <td></td>\n",
       "      <td>5.8</td>\n",
       "      <td>97.9</td>\n",
       "      <td>1.68</td>\n",
       "    </tr>\n",
       "    <tr>\n",
       "      <th>4</th>\n",
       "      <td>01.09.2024-30.09.2024</td>\n",
       "      <td>VK Ads</td>\n",
       "      <td>авто</td>\n",
       "      <td>Дзен</td>\n",
       "      <td>Подписчики</td>\n",
       "      <td></td>\n",
       "      <td>13.2</td>\n",
       "      <td>67.4</td>\n",
       "      <td>0.51</td>\n",
       "    </tr>\n",
       "  </tbody>\n",
       "</table>\n",
       "</div>"
      ],
      "text/plain": [
       "                  период  source категория      объект рекламы  \\\n",
       "0  01.09.2024-30.09.2024  VK Ads      авто            Mini app   \n",
       "1  01.09.2024-30.09.2024  VK Ads      авто  Видео и трансляции   \n",
       "2  01.09.2024-30.09.2024  VK Ads      авто  Видео и трансляции   \n",
       "3  01.09.2024-30.09.2024  VK Ads      авто                Дзен   \n",
       "4  01.09.2024-30.09.2024  VK Ads      авто                Дзен   \n",
       "\n",
       "                              цель рекламы format_type cpc без ндс  \\\n",
       "0                  Переходы в VK Mini Apps                    22.0   \n",
       "1  Показы рекламы (запись, видео или клип)                    47.7   \n",
       "2                   Продвижение трансляций                    47.2   \n",
       "3                         Клики по рекламе                     5.8   \n",
       "4                               Подписчики                    13.2   \n",
       "\n",
       "  cpm без ндс ctr %  \n",
       "0       140.9  0.64  \n",
       "1        70.6  0.15  \n",
       "2        71.5  0.15  \n",
       "3        97.9  1.68  \n",
       "4        67.4  0.51  "
      ]
     },
     "execution_count": 6,
     "metadata": {},
     "output_type": "execute_result"
    }
   ],
   "source": [
    "df.head()"
   ]
  },
  {
   "cell_type": "code",
   "execution_count": 7,
   "id": "5f99e032-8a41-44e5-894c-a738e8821ba7",
   "metadata": {},
   "outputs": [],
   "source": [
    "float_columns = ['cpc без ндс', 'cpm без ндс', 'ctr %']\n",
    "df[float_columns] = df[float_columns].apply(lambda x: x.astype('float')).round(2)"
   ]
  },
  {
   "cell_type": "code",
   "execution_count": 8,
   "id": "f6f6bf2f-ea92-4231-9204-8e2580ac589e",
   "metadata": {},
   "outputs": [
    {
     "data": {
      "text/html": [
       "<div>\n",
       "<style scoped>\n",
       "    .dataframe tbody tr th:only-of-type {\n",
       "        vertical-align: middle;\n",
       "    }\n",
       "\n",
       "    .dataframe tbody tr th {\n",
       "        vertical-align: top;\n",
       "    }\n",
       "\n",
       "    .dataframe thead th {\n",
       "        text-align: right;\n",
       "    }\n",
       "</style>\n",
       "<table border=\"1\" class=\"dataframe\">\n",
       "  <thead>\n",
       "    <tr style=\"text-align: right;\">\n",
       "      <th></th>\n",
       "      <th>период</th>\n",
       "      <th>source</th>\n",
       "      <th>категория</th>\n",
       "      <th>объект рекламы</th>\n",
       "      <th>цель рекламы</th>\n",
       "      <th>format_type</th>\n",
       "      <th>cpc без ндс</th>\n",
       "      <th>cpm без ндс</th>\n",
       "      <th>ctr %</th>\n",
       "    </tr>\n",
       "  </thead>\n",
       "  <tbody>\n",
       "    <tr>\n",
       "      <th>0</th>\n",
       "      <td>01.09.2024-30.09.2024</td>\n",
       "      <td>VK Ads</td>\n",
       "      <td>авто</td>\n",
       "      <td>Mini app</td>\n",
       "      <td>Переходы в VK Mini Apps</td>\n",
       "      <td></td>\n",
       "      <td>22.0</td>\n",
       "      <td>140.9</td>\n",
       "      <td>0.64</td>\n",
       "    </tr>\n",
       "    <tr>\n",
       "      <th>1</th>\n",
       "      <td>01.09.2024-30.09.2024</td>\n",
       "      <td>VK Ads</td>\n",
       "      <td>авто</td>\n",
       "      <td>Видео и трансляции</td>\n",
       "      <td>Показы рекламы (запись, видео или клип)</td>\n",
       "      <td></td>\n",
       "      <td>47.7</td>\n",
       "      <td>70.6</td>\n",
       "      <td>0.15</td>\n",
       "    </tr>\n",
       "    <tr>\n",
       "      <th>2</th>\n",
       "      <td>01.09.2024-30.09.2024</td>\n",
       "      <td>VK Ads</td>\n",
       "      <td>авто</td>\n",
       "      <td>Видео и трансляции</td>\n",
       "      <td>Продвижение трансляций</td>\n",
       "      <td></td>\n",
       "      <td>47.2</td>\n",
       "      <td>71.5</td>\n",
       "      <td>0.15</td>\n",
       "    </tr>\n",
       "    <tr>\n",
       "      <th>3</th>\n",
       "      <td>01.09.2024-30.09.2024</td>\n",
       "      <td>VK Ads</td>\n",
       "      <td>авто</td>\n",
       "      <td>Дзен</td>\n",
       "      <td>Клики по рекламе</td>\n",
       "      <td></td>\n",
       "      <td>5.8</td>\n",
       "      <td>97.9</td>\n",
       "      <td>1.68</td>\n",
       "    </tr>\n",
       "    <tr>\n",
       "      <th>4</th>\n",
       "      <td>01.09.2024-30.09.2024</td>\n",
       "      <td>VK Ads</td>\n",
       "      <td>авто</td>\n",
       "      <td>Дзен</td>\n",
       "      <td>Подписчики</td>\n",
       "      <td></td>\n",
       "      <td>13.2</td>\n",
       "      <td>67.4</td>\n",
       "      <td>0.51</td>\n",
       "    </tr>\n",
       "  </tbody>\n",
       "</table>\n",
       "</div>"
      ],
      "text/plain": [
       "                  период  source категория      объект рекламы  \\\n",
       "0  01.09.2024-30.09.2024  VK Ads      авто            Mini app   \n",
       "1  01.09.2024-30.09.2024  VK Ads      авто  Видео и трансляции   \n",
       "2  01.09.2024-30.09.2024  VK Ads      авто  Видео и трансляции   \n",
       "3  01.09.2024-30.09.2024  VK Ads      авто                Дзен   \n",
       "4  01.09.2024-30.09.2024  VK Ads      авто                Дзен   \n",
       "\n",
       "                              цель рекламы format_type  cpc без ндс  \\\n",
       "0                  Переходы в VK Mini Apps                     22.0   \n",
       "1  Показы рекламы (запись, видео или клип)                     47.7   \n",
       "2                   Продвижение трансляций                     47.2   \n",
       "3                         Клики по рекламе                      5.8   \n",
       "4                               Подписчики                     13.2   \n",
       "\n",
       "   cpm без ндс  ctr %  \n",
       "0        140.9   0.64  \n",
       "1         70.6   0.15  \n",
       "2         71.5   0.15  \n",
       "3         97.9   1.68  \n",
       "4         67.4   0.51  "
      ]
     },
     "execution_count": 8,
     "metadata": {},
     "output_type": "execute_result"
    }
   ],
   "source": [
    "df.head()"
   ]
  },
  {
   "cell_type": "code",
   "execution_count": 9,
   "id": "347b2fef-9687-4309-882c-047a51715753",
   "metadata": {},
   "outputs": [
    {
     "name": "stdout",
     "output_type": "stream",
     "text": [
      "Connection established successfully...\n"
     ]
    }
   ],
   "source": [
    "# создаем подключение к Гуглу\n",
    "client = create_connection(service_key)"
   ]
  },
  {
   "cell_type": "code",
   "execution_count": 10,
   "id": "23d5ab9f-b975-4b7d-9712-20ecc11b319a",
   "metadata": {},
   "outputs": [],
   "source": [
    "# прописываем путь и подключаемсяк нужному листу Гугл докса\n",
    "sh = client.open_by_url(google_sheet_link)\n",
    "sh.share(gmail, perm_type='user', role='writer')\n",
    "google_sheet = sh.worksheet(sheet_name)"
   ]
  },
  {
   "cell_type": "code",
   "execution_count": 11,
   "id": "7a8638e6-d073-4014-ad60-f707a64ecce7",
   "metadata": {},
   "outputs": [
    {
     "name": "stdout",
     "output_type": "stream",
     "text": [
      "DataFrame exported successfully...\n"
     ]
    }
   ],
   "source": [
    "# выгружем наш датаФрейм на лист\n",
    "google_sheet.clear()\n",
    "export_dataframe_to_google_sheet(google_sheet, df)"
   ]
  }
 ],
 "metadata": {
  "kernelspec": {
   "display_name": "Python 3 (ipykernel)",
   "language": "python",
   "name": "python3"
  },
  "language_info": {
   "codemirror_mode": {
    "name": "ipython",
    "version": 3
   },
   "file_extension": ".py",
   "mimetype": "text/x-python",
   "name": "python",
   "nbconvert_exporter": "python",
   "pygments_lexer": "ipython3",
   "version": "3.11.7"
  }
 },
 "nbformat": 4,
 "nbformat_minor": 5
}
