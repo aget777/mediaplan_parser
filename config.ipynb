{
 "cells": [
  {
   "cell_type": "code",
   "execution_count": null,
   "id": "fdc8e8b4-f23f-406a-b12e-6a39c53e30c0",
   "metadata": {},
   "outputs": [],
   "source": [
    "import os\n",
    "file_path = r'C:\\Users\\o.bogomolov\\Desktop\\Jupyter_notebook\\35_mediaplan_parser'\n",
    "\n",
    "yandex_file = 'yandex_token.txt'\n",
    "yandex_token =  open(os.path.join(file_path, yandex_file), encoding='utf-8').read()\n",
    "\n",
    "# указываем путь к основной папке, в которой храняться папки с флайтами\n",
    "gmail = 'ads@ichance.ru'\n",
    "main_folder = '/34_mediaplan_parse_files'\n",
    "public_key = 'https://disk.yandex.ru/d/Q3E26dG_YeS6PA' # обычная ссылка на доступ к папке одного данного ФЛАЙТА из личного кабинета\n",
    "# токен гугл\n",
    "credentials_file = 'mediaplan-parser-aaac8df334b7.json'\n",
    "service = os.path.join(file_path, credentials_file)"
   ]
  }
 ],
 "metadata": {
  "kernelspec": {
   "display_name": "Python 3 (ipykernel)",
   "language": "python",
   "name": "python3"
  },
  "language_info": {
   "codemirror_mode": {
    "name": "ipython",
    "version": 3
   },
   "file_extension": ".py",
   "mimetype": "text/x-python",
   "name": "python",
   "nbconvert_exporter": "python",
   "pygments_lexer": "ipython3",
   "version": "3.11.7"
  }
 },
 "nbformat": 4,
 "nbformat_minor": 5
}
