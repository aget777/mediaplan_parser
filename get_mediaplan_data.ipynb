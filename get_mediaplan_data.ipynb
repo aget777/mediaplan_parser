{
 "cells": [
  {
   "cell_type": "code",
   "execution_count": 1,
   "id": "827c40e9-bcb2-42e4-a2ce-88865ef5dc34",
   "metadata": {},
   "outputs": [
    {
     "name": "stdout",
     "output_type": "stream",
     "text": [
      "200\n"
     ]
    }
   ],
   "source": [
    "import pandas as pd\n",
    "import numpy as np\n",
    "import os\n",
    "import requests\n",
    "from io import BytesIO\n",
    "import json\n",
    "import yadisk\n",
    "from datetime import datetime, date, timedelta\n",
    "import re\n",
    "import gspread\n",
    "from oauth2client.service_account import ServiceAccountCredentials\n",
    "\n",
    "import config\n",
    "from yandex_disk_func import *\n",
    "from parse_functions import *\n",
    "from google_connector import *\n",
    "\n",
    "# # указываем путь и название файла с токеном для Яндекс Диск\n",
    "file_path = r'C:\\Users\\o.bogomolov\\Desktop\\Jupyter_notebook\\35_mediaplan_parser'\n",
    "# забираем токен для подключения к гугл\n",
    "service_key = config.service\n",
    "google_sheet_link = 'https://docs.google.com/spreadsheets/d/11hF_txYEbKrQImRQ0x3Fia3PyJvDAqtpGI25idV7oa4/edit?usp=sharing'\n",
    "gmail = config.gmail\n",
    "sheet_name = 'prog'\n",
    "\n",
    "# обычная ссылка на доступ к папке одного данного ФЛАЙТА из личного кабинета\n",
    "public_key = config.public_key \n",
    "\n",
    "# забираем список папок в нужной нам директории\n",
    "res = get_yandex_disk_folders(public_key)\n",
    "yandex_folders = res.json() # парсим ответ"
   ]
  },
  {
   "cell_type": "code",
   "execution_count": null,
   "id": "8537f16e-1794-4a66-852c-36dc1278a243",
   "metadata": {},
   "outputs": [],
   "source": []
  },
  {
   "cell_type": "code",
   "execution_count": null,
   "id": "4d41ccc6-d250-409c-a8a3-bd6371f7d0a4",
   "metadata": {},
   "outputs": [],
   "source": []
  },
  {
   "cell_type": "code",
   "execution_count": 2,
   "id": "c51bc264-37c5-4b84-8857-b6b0be62e9cc",
   "metadata": {},
   "outputs": [],
   "source": [
    "# Включаем отображение всех колонок\n",
    "pd.set_option('display.max_columns', None)\n",
    "# Задаем ширину столбцов по контенту\n",
    "pd.set_option('display.max_colwidth', None)\n",
    "pd.set_option('display.max_rows', None)\n",
    "pd.options.mode.chained_assignment = None\n",
    "# pd.set_option('display.float_format', lambda x: '%.2f' % x)"
   ]
  },
  {
   "cell_type": "code",
   "execution_count": 3,
   "id": "14c5c0e4-ae27-43a4-89c0-87a6ef0b079f",
   "metadata": {},
   "outputs": [],
   "source": [
    "# создаем словарь, где сохраним каждый продукт в отдельный датаФрейм со своим ключом\n",
    "main_dict = {}"
   ]
  },
  {
   "cell_type": "code",
   "execution_count": 4,
   "id": "91a5a091-5bcf-4313-8c7d-fbaed61e9eba",
   "metadata": {},
   "outputs": [
    {
     "name": "stdout",
     "output_type": "stream",
     "text": [
      "/01_yandex\n",
      "/02_prog\n",
      "beeline_plan_игроник_ингосстрах_кис_лето_banners_020724\n",
      "firstdata_игроник_ингосстрах_срм_media_28.08.2024\n",
      "    mediaplan без ск\n",
      "firstdata_игроник_национальная лотерея_принцесса нури_срм_media_27.08.2024 (1)\n",
      "    mediaplan 1000к\n",
      "    mediaplan 800к\n",
      "    mediaplan 600к\n",
      "hybrid_бронь_игроник_национальная лотерея_день рождения нл_klientskiy_plan_20240920 (1)\n",
      "    медиаплан\n",
      "mp_mobidriven_игроник_ингосстрах_ хореографы_24.09 (1)\n",
      "    мп_4 дня\n",
      "    мп_4 неделе\n",
      "mp_mobidriven_игроник_ингосстрах_инго экосистема_05.09\n",
      "    мп\n",
      "mp_mobidriven_игроник_национальная лотерия_27.08 (1)\n",
      "    мп\n",
      "mp_roxot_игроник_psb_brand-booster_sep-dec24\n",
      "    псб bb banner\n",
      "    псб bb olv\n",
      "plan_игроник_рсхб_beeline_свой вклад_banners_160724 (1)\n",
      "plan_ингосстрах_ beeline_хореографы_banners_240924 (3)\n",
      "beeline_plan_igronik_бриф по тендерам_101024\n",
      "игроник_ segmento __ рсхб __ olv_2024-07-03\n",
      "игроник_дом рф_smart tv_hybrid_klientskiy_plan_20240725\n",
      "    медиаплан (ск 40%)\n",
      "    медиаплан (ск 50%)\n",
      "игроник_псб имидж спецпроект_klientskiy_plan_hybrid_vox_20240830\n",
      "    медиаплан розница\n",
      "    медиаплан бизнес\n",
      "ингосстрах_инго экосистемы_игроник_segmento _2024-09-05\n",
      "рсхб_игроник_ segmento _ рсхб_up_2024\n",
      "/03_Полина\n"
     ]
    }
   ],
   "source": [
    "get_data_from_ya_folder(yandex_folders, main_dict, flag='prog')                     \n"
   ]
  },
  {
   "cell_type": "code",
   "execution_count": 6,
   "id": "987ec2c5-6763-4a61-9e59-996f3505caa1",
   "metadata": {},
   "outputs": [],
   "source": [
    "df = pd.concat(main_dict, ignore_index=True)\n",
    "df = df.fillna('')\n",
    "\n",
    "df['views'] = df['views'].astype('float').round(0)\n",
    "int_columns = ['reach', 'impressions', 'clicks', 'views']\n",
    "df[int_columns] = df[int_columns].apply(lambda x: x.astype('int'))"
   ]
  },
  {
   "cell_type": "code",
   "execution_count": 7,
   "id": "4454127c-766a-468a-a1a4-a1e2c246662d",
   "metadata": {},
   "outputs": [],
   "source": [
    "float_columns = ['unit price', 'budget_without_nds', 'budget_nds', 'vtr, %']\n",
    "df[float_columns] = df[float_columns].apply(lambda x: x.astype('float')).round(2)"
   ]
  },
  {
   "cell_type": "code",
   "execution_count": null,
   "id": "997d1852-2015-48e4-bcce-5d46c73ee4ca",
   "metadata": {},
   "outputs": [],
   "source": [
    "df"
   ]
  },
  {
   "cell_type": "code",
   "execution_count": null,
   "id": "f08877e8-9492-4fc4-8a40-63462e42bcc0",
   "metadata": {},
   "outputs": [],
   "source": [
    "test = df[df['report_name']=='рсхб_игроник_ segmento _ рсхб_up_2024']"
   ]
  },
  {
   "cell_type": "code",
   "execution_count": 8,
   "id": "6a91a043-087c-4954-bb59-d790c7915b22",
   "metadata": {},
   "outputs": [],
   "source": [
    "test = df[df['sheet_name']=='mediaplan 1000к']"
   ]
  },
  {
   "cell_type": "code",
   "execution_count": 9,
   "id": "6dbe4610-ff58-453e-a8ed-47ef89317920",
   "metadata": {},
   "outputs": [
    {
     "data": {
      "text/html": [
       "<div>\n",
       "<style scoped>\n",
       "    .dataframe tbody tr th:only-of-type {\n",
       "        vertical-align: middle;\n",
       "    }\n",
       "\n",
       "    .dataframe tbody tr th {\n",
       "        vertical-align: top;\n",
       "    }\n",
       "\n",
       "    .dataframe thead th {\n",
       "        text-align: right;\n",
       "    }\n",
       "</style>\n",
       "<table border=\"1\" class=\"dataframe\">\n",
       "  <thead>\n",
       "    <tr style=\"text-align: right;\">\n",
       "      <th></th>\n",
       "      <th>supplier</th>\n",
       "      <th>report_name</th>\n",
       "      <th>sheet_name</th>\n",
       "      <th>brand</th>\n",
       "      <th>period</th>\n",
       "      <th>source</th>\n",
       "      <th>site/ssp</th>\n",
       "      <th>placement</th>\n",
       "      <th>targeting</th>\n",
       "      <th>geo</th>\n",
       "      <th>soc_dem</th>\n",
       "      <th>ad copy format</th>\n",
       "      <th>rotation type</th>\n",
       "      <th>unit price</th>\n",
       "      <th>frequency</th>\n",
       "      <th>reach</th>\n",
       "      <th>impressions</th>\n",
       "      <th>clicks</th>\n",
       "      <th>budget_without_nds</th>\n",
       "      <th>budget_nds</th>\n",
       "      <th>views</th>\n",
       "      <th>vtr, %</th>\n",
       "    </tr>\n",
       "  </thead>\n",
       "  <tbody>\n",
       "    <tr>\n",
       "      <th>4</th>\n",
       "      <td>firstdata</td>\n",
       "      <td>firstdata_игроник_национальная лотерея_принцесса нури_срм_media_27.08.2024 (1)</td>\n",
       "      <td>mediaplan 1000к</td>\n",
       "      <td>Национальная лотерея // Принцесса Нури</td>\n",
       "      <td>6 months</td>\n",
       "      <td>Платформа First Data</td>\n",
       "      <td></td>\n",
       "      <td></td>\n",
       "      <td>ГЕО: РФ\\nЦА: Ж, 35-45. Доход В, ВС. Покупатели чая и чайной продукции: Принцесса Нури, Азерчай, Ява, Riston, Майский, Ахмад, Dilmah, Ява, Милфорд, Липтон и др.  Покупатели кондитерских изделий: безе, варенье, джем, повидло, грильяж, желе, зефир, пастила, конфеты, ирис, халва, помадка, муссы, шоколад, торты и др\\nИсточники: ОФД</td>\n",
       "      <td>рф</td>\n",
       "      <td>ж, 35-45. доход в, вс.</td>\n",
       "      <td>Баннеры / Универсальные Баннеры</td>\n",
       "      <td>CPM</td>\n",
       "      <td>240.0</td>\n",
       "      <td>12</td>\n",
       "      <td>2083333</td>\n",
       "      <td>25000000</td>\n",
       "      <td>50000</td>\n",
       "      <td>6000000.0</td>\n",
       "      <td>7200000.0</td>\n",
       "      <td>0</td>\n",
       "      <td>0.0</td>\n",
       "    </tr>\n",
       "  </tbody>\n",
       "</table>\n",
       "</div>"
      ],
      "text/plain": [
       "    supplier  \\\n",
       "4  firstdata   \n",
       "\n",
       "                                                                      report_name  \\\n",
       "4  firstdata_игроник_национальная лотерея_принцесса нури_срм_media_27.08.2024 (1)   \n",
       "\n",
       "        sheet_name                                    brand    period  \\\n",
       "4  mediaplan 1000к  Национальная лотерея // Принцесса Нури   6 months   \n",
       "\n",
       "                 source site/ssp placement  \\\n",
       "4  Платформа First Data                      \n",
       "\n",
       "                                                                                                                                                                                                                                                                                                                                  targeting  \\\n",
       "4  ГЕО: РФ\\nЦА: Ж, 35-45. Доход В, ВС. Покупатели чая и чайной продукции: Принцесса Нури, Азерчай, Ява, Riston, Майский, Ахмад, Dilmah, Ява, Милфорд, Липтон и др.  Покупатели кондитерских изделий: безе, варенье, джем, повидло, грильяж, желе, зефир, пастила, конфеты, ирис, халва, помадка, муссы, шоколад, торты и др\\nИсточники: ОФД   \n",
       "\n",
       "  geo                 soc_dem                   ad copy format rotation type  \\\n",
       "4  рф  ж, 35-45. доход в, вс.  Баннеры / Универсальные Баннеры           CPM   \n",
       "\n",
       "   unit price  frequency    reach  impressions  clicks  budget_without_nds  \\\n",
       "4       240.0         12  2083333     25000000   50000           6000000.0   \n",
       "\n",
       "   budget_nds  views  vtr, %  \n",
       "4   7200000.0      0     0.0  "
      ]
     },
     "execution_count": 9,
     "metadata": {},
     "output_type": "execute_result"
    }
   ],
   "source": [
    "test"
   ]
  },
  {
   "cell_type": "code",
   "execution_count": null,
   "id": "3f36e3b4-50ac-4b08-b387-0abd6038c8f8",
   "metadata": {},
   "outputs": [],
   "source": [
    "test.iloc[1]"
   ]
  },
  {
   "cell_type": "code",
   "execution_count": null,
   "id": "25ffd0bd-1162-4099-b4e7-5af3d8e7db62",
   "metadata": {},
   "outputs": [],
   "source": [
    "test[['reach', 'impressions', 'clicks', 'budget_without_nds']].sum()"
   ]
  },
  {
   "cell_type": "code",
   "execution_count": null,
   "id": "5fc53cbd-9abb-4510-a346-6490bd75055e",
   "metadata": {},
   "outputs": [],
   "source": []
  },
  {
   "cell_type": "code",
   "execution_count": null,
   "id": "f40829aa-033b-4a77-b2a5-42f43b02d3ea",
   "metadata": {},
   "outputs": [],
   "source": [
    "df"
   ]
  },
  {
   "cell_type": "code",
   "execution_count": null,
   "id": "feeb0f58-f3cb-4665-bbc8-de8846f936bb",
   "metadata": {},
   "outputs": [],
   "source": []
  },
  {
   "cell_type": "code",
   "execution_count": null,
   "id": "60c8a0ce-ec98-4a3d-9896-be05e8efc9ed",
   "metadata": {},
   "outputs": [],
   "source": []
  },
  {
   "cell_type": "code",
   "execution_count": null,
   "id": "bf5d5d44-0499-4d86-9abe-2f60d3d1ff1b",
   "metadata": {},
   "outputs": [],
   "source": []
  },
  {
   "cell_type": "code",
   "execution_count": null,
   "id": "63f25684-c1aa-4677-a211-c667af035aa6",
   "metadata": {},
   "outputs": [],
   "source": [
    "# создаем подключение к Гуглу\n",
    "client = create_connection(service_key)"
   ]
  },
  {
   "cell_type": "code",
   "execution_count": null,
   "id": "fcafe2bb-f258-4fea-8acc-d2a83ab8daf8",
   "metadata": {},
   "outputs": [],
   "source": [
    "# прописываем путь и подключаемсяк нужному листу Гугл докса\n",
    "sh = client.open_by_url(google_sheet_link)\n",
    "sh.share(gmail, perm_type='user', role='writer')\n",
    "google_sheet = sh.worksheet(sheet_name)"
   ]
  },
  {
   "cell_type": "code",
   "execution_count": null,
   "id": "80c12087-e1a7-4ad3-82b3-03b57540c3e4",
   "metadata": {},
   "outputs": [],
   "source": [
    "# выгружем наш датаФрейм на лист\n",
    "google_sheet.clear()\n",
    "export_dataframe_to_google_sheet(google_sheet, final_report)"
   ]
  },
  {
   "cell_type": "code",
   "execution_count": null,
   "id": "778a8bc8-7fb4-45c0-8866-ddd633933f19",
   "metadata": {},
   "outputs": [],
   "source": []
  },
  {
   "cell_type": "code",
   "execution_count": null,
   "id": "8ec8ea8c-ada9-416a-b72b-38c837dafd57",
   "metadata": {},
   "outputs": [],
   "source": []
  },
  {
   "cell_type": "code",
   "execution_count": null,
   "id": "11c08e94-8e98-4fe5-a542-51516d6f66e7",
   "metadata": {},
   "outputs": [],
   "source": [
    "main_dict['beeline_plan_игроник_ингосстрах_кис_лето_banners_020724']"
   ]
  },
  {
   "cell_type": "code",
   "execution_count": null,
   "id": "221b0f15-a150-40c4-9d98-d7c9700fdbe1",
   "metadata": {},
   "outputs": [],
   "source": [
    "main_dict['plan_игроник_рсхб_beeline_свой вклад_banners_160724 (1)'].iloc[0]"
   ]
  },
  {
   "cell_type": "code",
   "execution_count": null,
   "id": "4923cbfa-0f82-41ff-a0de-8b27783a3294",
   "metadata": {},
   "outputs": [],
   "source": [
    "main_dict['plan_ингосстрах_ beeline_хореографы_banners_240924 (3)']"
   ]
  },
  {
   "cell_type": "code",
   "execution_count": null,
   "id": "617cefbe-7a6f-4841-a892-82913f09f1b5",
   "metadata": {},
   "outputs": [],
   "source": [
    "main_dict['beeline_plan_igronik_бриф по тендерам_101024']"
   ]
  },
  {
   "cell_type": "code",
   "execution_count": null,
   "id": "fcb4636d-7ea0-49f0-b065-f949ca6ba935",
   "metadata": {},
   "outputs": [],
   "source": []
  },
  {
   "cell_type": "code",
   "execution_count": null,
   "id": "b760fc49-6512-47bb-b6c7-a54a13329206",
   "metadata": {},
   "outputs": [],
   "source": []
  },
  {
   "cell_type": "code",
   "execution_count": null,
   "id": "90949848-5bcc-4c2a-a17d-f83c8f7ad58e",
   "metadata": {},
   "outputs": [],
   "source": []
  },
  {
   "cell_type": "code",
   "execution_count": null,
   "id": "33a69794-f4ae-4c39-aba7-aff2b220cc41",
   "metadata": {},
   "outputs": [],
   "source": []
  },
  {
   "cell_type": "code",
   "execution_count": null,
   "id": "1ab6c790-a46d-4c64-9f08-032d651d6692",
   "metadata": {},
   "outputs": [],
   "source": []
  },
  {
   "cell_type": "code",
   "execution_count": null,
   "id": "47dbaca5-fa14-40bf-9326-f0ea63297355",
   "metadata": {},
   "outputs": [],
   "source": []
  }
 ],
 "metadata": {
  "kernelspec": {
   "display_name": "Python 3 (ipykernel)",
   "language": "python",
   "name": "python3"
  },
  "language_info": {
   "codemirror_mode": {
    "name": "ipython",
    "version": 3
   },
   "file_extension": ".py",
   "mimetype": "text/x-python",
   "name": "python",
   "nbconvert_exporter": "python",
   "pygments_lexer": "ipython3",
   "version": "3.11.7"
  }
 },
 "nbformat": 4,
 "nbformat_minor": 5
}
