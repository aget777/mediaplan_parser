{
 "cells": [
  {
   "cell_type": "code",
   "execution_count": 1,
   "id": "827c40e9-bcb2-42e4-a2ce-88865ef5dc34",
   "metadata": {},
   "outputs": [
    {
     "name": "stdout",
     "output_type": "stream",
     "text": [
      "200\n"
     ]
    }
   ],
   "source": [
    "import pandas as pd\n",
    "import numpy as np\n",
    "import os\n",
    "import requests\n",
    "from io import BytesIO\n",
    "import json\n",
    "import yadisk\n",
    "from datetime import datetime, date, timedelta\n",
    "import re\n",
    "import gspread\n",
    "from oauth2client.service_account import ServiceAccountCredentials\n",
    "\n",
    "import config\n",
    "from yandex_disk_func import *\n",
    "from parse_functions import *\n",
    "from google_connector import *\n",
    "\n",
    "# # указываем путь и название файла с токеном для Яндекс Диск\n",
    "file_path = r'C:\\Users\\o.bogomolov\\Desktop\\Jupyter_notebook\\35_mediaplan_parser'\n",
    "# забираем токен для подключения к гугл\n",
    "service_key = config.service\n",
    "google_sheet_link = 'https://docs.google.com/spreadsheets/d/11hF_txYEbKrQImRQ0x3Fia3PyJvDAqtpGI25idV7oa4/edit?usp=sharing'\n",
    "gmail = 'ads@ichance.ru'\n",
    "sheet_name = 'prog'\n",
    "\n",
    "# забираем Яндекс токен\n",
    "yandex_token = config.yandex_token\n",
    "# # указываем путь к основной папке, в которой храняться папки с флайтами\n",
    "main_folder = config.main_folder\n",
    "public_key = config.public_key # обычная ссылка на доступ к папке одного данного ФЛАЙТА из личного кабинета\n",
    "\n",
    "# забираем список папок в нужной нам директории\n",
    "res = get_yandex_disk_folders(public_key)\n",
    "yandex_folders = res.json() # парсим ответ"
   ]
  },
  {
   "cell_type": "code",
   "execution_count": null,
   "id": "8537f16e-1794-4a66-852c-36dc1278a243",
   "metadata": {},
   "outputs": [],
   "source": []
  },
  {
   "cell_type": "code",
   "execution_count": null,
   "id": "4d41ccc6-d250-409c-a8a3-bd6371f7d0a4",
   "metadata": {},
   "outputs": [],
   "source": []
  },
  {
   "cell_type": "code",
   "execution_count": 2,
   "id": "c51bc264-37c5-4b84-8857-b6b0be62e9cc",
   "metadata": {},
   "outputs": [],
   "source": [
    "# Включаем отображение всех колонок\n",
    "pd.set_option('display.max_columns', None)\n",
    "# Задаем ширину столбцов по контенту\n",
    "pd.set_option('display.max_colwidth', None)\n",
    "pd.set_option('display.max_rows', None)\n",
    "pd.options.mode.chained_assignment = None\n",
    "# pd.set_option('display.float_format', lambda x: '%.2f' % x)"
   ]
  },
  {
   "cell_type": "code",
   "execution_count": 3,
   "id": "14c5c0e4-ae27-43a4-89c0-87a6ef0b079f",
   "metadata": {},
   "outputs": [],
   "source": [
    "# создаем словарь, где сохраним каждый продукт в отдельный датаФрейм со своим ключом\n",
    "main_dict = {}"
   ]
  },
  {
   "cell_type": "code",
   "execution_count": 4,
   "id": "91a5a091-5bcf-4313-8c7d-fbaed61e9eba",
   "metadata": {},
   "outputs": [
    {
     "name": "stdout",
     "output_type": "stream",
     "text": [
      "/01_yandex\n",
      "/02_prog\n",
      "beeline_plan_игроник_ингосстрах_кис_лето_banners_020724\n",
      "firstdata_игроник_ингосстрах_срм_media_28.08.2024\n",
      "mediaplan без ск\n",
      "firstdata_игроник_национальная лотерея_принцесса нури_срм_media_27.08.2024 (1)\n",
      "mediaplan 1000к\n",
      "mediaplan 800к\n",
      "mediaplan 600к\n",
      "plan_игроник_рсхб_beeline_свой вклад_banners_160724 (1)\n",
      "plan_ингосстрах_ beeline_хореографы_banners_240924 (3)\n",
      "beeline_plan_igronik_бриф по тендерам_101024\n",
      "/03_Полина\n"
     ]
    }
   ],
   "source": [
    "get_data_from_ya_folder(main_folder, yandex_folders, yandex_token, main_dict, flag='prog')                     \n"
   ]
  },
  {
   "cell_type": "code",
   "execution_count": 5,
   "id": "987ec2c5-6763-4a61-9e59-996f3505caa1",
   "metadata": {},
   "outputs": [],
   "source": [
    "df = pd.concat(main_dict, ignore_index=True)\n",
    "df = df.fillna('')\n",
    "\n",
    "\n",
    "int_columns = ['unit quantity', 'reach', 'impressions', 'clicks']\n",
    "df[int_columns] = df[int_columns].apply(lambda x: x.astype('int'))\n"
   ]
  },
  {
   "cell_type": "code",
   "execution_count": 6,
   "id": "4454127c-766a-468a-a1a4-a1e2c246662d",
   "metadata": {},
   "outputs": [],
   "source": [
    "float_columns = ['unit price', 'budget_without_nds', 'budget_nds', 'vtr, %']\n",
    "df[float_columns] = df[float_columns].apply(lambda x: x.astype('float')).round(2)"
   ]
  },
  {
   "cell_type": "code",
   "execution_count": null,
   "id": "997d1852-2015-48e4-bcce-5d46c73ee4ca",
   "metadata": {},
   "outputs": [],
   "source": []
  },
  {
   "cell_type": "code",
   "execution_count": null,
   "id": "f08877e8-9492-4fc4-8a40-63462e42bcc0",
   "metadata": {},
   "outputs": [],
   "source": []
  },
  {
   "cell_type": "code",
   "execution_count": 16,
   "id": "6a91a043-087c-4954-bb59-d790c7915b22",
   "metadata": {},
   "outputs": [],
   "source": [
    "test = df[df['sheet_name']=='mediaplan 600к']"
   ]
  },
  {
   "cell_type": "code",
   "execution_count": null,
   "id": "6dbe4610-ff58-453e-a8ed-47ef89317920",
   "metadata": {},
   "outputs": [],
   "source": []
  },
  {
   "cell_type": "code",
   "execution_count": null,
   "id": "3f36e3b4-50ac-4b08-b387-0abd6038c8f8",
   "metadata": {},
   "outputs": [],
   "source": [
    "test.iloc[1]"
   ]
  },
  {
   "cell_type": "code",
   "execution_count": 11,
   "id": "25ffd0bd-1162-4099-b4e7-5af3d8e7db62",
   "metadata": {},
   "outputs": [
    {
     "data": {
      "text/plain": [
       "unit quantity         35550000.0\n",
       "reach                  7110000.0\n",
       "impressions           35550000.0\n",
       "clicks                   71100.0\n",
       "budget_without_nds     5321250.0\n",
       "dtype: float64"
      ]
     },
     "execution_count": 11,
     "metadata": {},
     "output_type": "execute_result"
    }
   ],
   "source": [
    "test[['unit quantity', 'reach', 'impressions', 'clicks', 'budget_without_nds']].sum()"
   ]
  },
  {
   "cell_type": "code",
   "execution_count": null,
   "id": "5fc53cbd-9abb-4510-a346-6490bd75055e",
   "metadata": {},
   "outputs": [],
   "source": []
  },
  {
   "cell_type": "code",
   "execution_count": null,
   "id": "f40829aa-033b-4a77-b2a5-42f43b02d3ea",
   "metadata": {},
   "outputs": [],
   "source": []
  },
  {
   "cell_type": "code",
   "execution_count": null,
   "id": "feeb0f58-f3cb-4665-bbc8-de8846f936bb",
   "metadata": {},
   "outputs": [],
   "source": []
  },
  {
   "cell_type": "code",
   "execution_count": null,
   "id": "60c8a0ce-ec98-4a3d-9896-be05e8efc9ed",
   "metadata": {},
   "outputs": [],
   "source": []
  },
  {
   "cell_type": "code",
   "execution_count": null,
   "id": "bf5d5d44-0499-4d86-9abe-2f60d3d1ff1b",
   "metadata": {},
   "outputs": [],
   "source": []
  },
  {
   "cell_type": "code",
   "execution_count": null,
   "id": "63f25684-c1aa-4677-a211-c667af035aa6",
   "metadata": {},
   "outputs": [],
   "source": [
    "# создаем подключение к Гуглу\n",
    "client = create_connection(service_key)"
   ]
  },
  {
   "cell_type": "code",
   "execution_count": null,
   "id": "fcafe2bb-f258-4fea-8acc-d2a83ab8daf8",
   "metadata": {},
   "outputs": [],
   "source": [
    "# прописываем путь и подключаемсяк нужному листу Гугл докса\n",
    "sh = client.open_by_url(google_sheet_link)\n",
    "sh.share(gmail, perm_type='user', role='writer')\n",
    "google_sheet = sh.worksheet(sheet_name)"
   ]
  },
  {
   "cell_type": "code",
   "execution_count": null,
   "id": "80c12087-e1a7-4ad3-82b3-03b57540c3e4",
   "metadata": {},
   "outputs": [],
   "source": [
    "# выгружем наш датаФрейм на лист\n",
    "google_sheet.clear()\n",
    "export_dataframe_to_google_sheet(google_sheet, final_report)"
   ]
  },
  {
   "cell_type": "code",
   "execution_count": null,
   "id": "778a8bc8-7fb4-45c0-8866-ddd633933f19",
   "metadata": {},
   "outputs": [],
   "source": []
  },
  {
   "cell_type": "code",
   "execution_count": null,
   "id": "8ec8ea8c-ada9-416a-b72b-38c837dafd57",
   "metadata": {},
   "outputs": [],
   "source": []
  },
  {
   "cell_type": "code",
   "execution_count": null,
   "id": "11c08e94-8e98-4fe5-a542-51516d6f66e7",
   "metadata": {},
   "outputs": [],
   "source": [
    "main_dict['beeline_plan_игроник_ингосстрах_кис_лето_banners_020724']"
   ]
  },
  {
   "cell_type": "code",
   "execution_count": null,
   "id": "221b0f15-a150-40c4-9d98-d7c9700fdbe1",
   "metadata": {},
   "outputs": [],
   "source": [
    "main_dict['plan_игроник_рсхб_beeline_свой вклад_banners_160724 (1)'].iloc[0]"
   ]
  },
  {
   "cell_type": "code",
   "execution_count": null,
   "id": "4923cbfa-0f82-41ff-a0de-8b27783a3294",
   "metadata": {},
   "outputs": [],
   "source": [
    "main_dict['plan_ингосстрах_ beeline_хореографы_banners_240924 (3)']"
   ]
  },
  {
   "cell_type": "code",
   "execution_count": null,
   "id": "617cefbe-7a6f-4841-a892-82913f09f1b5",
   "metadata": {},
   "outputs": [],
   "source": [
    "main_dict['beeline_plan_igronik_бриф по тендерам_101024']"
   ]
  },
  {
   "cell_type": "code",
   "execution_count": null,
   "id": "fcb4636d-7ea0-49f0-b065-f949ca6ba935",
   "metadata": {},
   "outputs": [],
   "source": []
  },
  {
   "cell_type": "code",
   "execution_count": null,
   "id": "b760fc49-6512-47bb-b6c7-a54a13329206",
   "metadata": {},
   "outputs": [],
   "source": []
  },
  {
   "cell_type": "code",
   "execution_count": null,
   "id": "90949848-5bcc-4c2a-a17d-f83c8f7ad58e",
   "metadata": {},
   "outputs": [],
   "source": []
  },
  {
   "cell_type": "code",
   "execution_count": null,
   "id": "33a69794-f4ae-4c39-aba7-aff2b220cc41",
   "metadata": {},
   "outputs": [],
   "source": []
  },
  {
   "cell_type": "code",
   "execution_count": null,
   "id": "1ab6c790-a46d-4c64-9f08-032d651d6692",
   "metadata": {},
   "outputs": [],
   "source": []
  },
  {
   "cell_type": "code",
   "execution_count": null,
   "id": "47dbaca5-fa14-40bf-9326-f0ea63297355",
   "metadata": {},
   "outputs": [],
   "source": []
  }
 ],
 "metadata": {
  "kernelspec": {
   "display_name": "Python 3 (ipykernel)",
   "language": "python",
   "name": "python3"
  },
  "language_info": {
   "codemirror_mode": {
    "name": "ipython",
    "version": 3
   },
   "file_extension": ".py",
   "mimetype": "text/x-python",
   "name": "python",
   "nbconvert_exporter": "python",
   "pygments_lexer": "ipython3",
   "version": "3.11.7"
  }
 },
 "nbformat": 4,
 "nbformat_minor": 5
}
