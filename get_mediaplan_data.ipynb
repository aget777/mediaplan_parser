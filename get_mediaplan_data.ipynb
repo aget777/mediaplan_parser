{
 "cells": [
  {
   "cell_type": "code",
   "execution_count": 1,
   "id": "827c40e9-bcb2-42e4-a2ce-88865ef5dc34",
   "metadata": {},
   "outputs": [
    {
     "name": "stdout",
     "output_type": "stream",
     "text": [
      "200\n"
     ]
    }
   ],
   "source": [
    "import pandas as pd\n",
    "import numpy as np\n",
    "import os\n",
    "import requests\n",
    "from io import BytesIO\n",
    "import json\n",
    "import yadisk\n",
    "from datetime import datetime, date, timedelta\n",
    "import re\n",
    "import gspread\n",
    "from oauth2client.service_account import ServiceAccountCredentials\n",
    "\n",
    "import config\n",
    "from yandex_disk_func import *\n",
    "from parse_functions import *\n",
    "from google_connector import *\n",
    "from date_time_func import *\n",
    "\n",
    "# # указываем путь и название файла с токеном для Яндекс Диск\n",
    "file_path = r'C:\\Users\\o.bogomolov\\Desktop\\Jupyter_notebook\\35_mediaplan_parser'\n",
    "# забираем токен для подключения к гугл\n",
    "service_key = config.service\n",
    "google_sheet_link = 'https://docs.google.com/spreadsheets/d/14sD1DTv6CfcsrVGnE0Ujkrc_EsGzVl9n5aiXKWp2hNM/edit?usp=sharing'#'https://docs.google.com/spreadsheets/d/1eakG0BJF1eSyi0hyGUpdw166TH_C9h_2zjnyrsMeejk/edit?usp=sharing' #'https://docs.google.com/spreadsheets/d/11hF_txYEbKrQImRQ0x3Fia3PyJvDAqtpGI25idV7oa4/edit?usp=sharing'\n",
    "gmail = config.gmail\n",
    "sheet_name = 'prog'\n",
    "\n",
    "# обычная ссылка на доступ к папке одного данного ФЛАЙТА из личного кабинета\n",
    "public_key = config.public_key \n",
    "\n",
    "# забираем список папок в нужной нам директории\n",
    "res = get_yandex_disk_folders(public_key)\n",
    "yandex_folders = res.json() # парсим ответ"
   ]
  },
  {
   "cell_type": "code",
   "execution_count": null,
   "id": "8537f16e-1794-4a66-852c-36dc1278a243",
   "metadata": {},
   "outputs": [],
   "source": []
  },
  {
   "cell_type": "code",
   "execution_count": null,
   "id": "4d41ccc6-d250-409c-a8a3-bd6371f7d0a4",
   "metadata": {},
   "outputs": [],
   "source": []
  },
  {
   "cell_type": "code",
   "execution_count": 2,
   "id": "c51bc264-37c5-4b84-8857-b6b0be62e9cc",
   "metadata": {},
   "outputs": [],
   "source": [
    "# Включаем отображение всех колонок\n",
    "pd.set_option('display.max_columns', None)\n",
    "# Задаем ширину столбцов по контенту\n",
    "pd.set_option('display.max_colwidth', None)\n",
    "pd.set_option('display.max_rows', None)\n",
    "pd.options.mode.chained_assignment = None\n",
    "# pd.set_option('display.float_format', lambda x: '%.2f' % x)"
   ]
  },
  {
   "cell_type": "code",
   "execution_count": 3,
   "id": "14c5c0e4-ae27-43a4-89c0-87a6ef0b079f",
   "metadata": {},
   "outputs": [],
   "source": [
    "# создаем словарь, где сохраним каждый продукт в отдельный датаФрейм со своим ключом\n",
    "main_dict = {}"
   ]
  },
  {
   "cell_type": "code",
   "execution_count": 4,
   "id": "91a5a091-5bcf-4313-8c7d-fbaed61e9eba",
   "metadata": {},
   "outputs": [
    {
     "name": "stdout",
     "output_type": "stream",
     "text": [
      "/01_yandex\n",
      "/02_prog\n",
      "firstdata_игроник_национальная лотерея_принцесса нури_срм_media_27.08.2024 (1) (1)\n",
      "    mediaplan 1000к\n",
      "    mediaplan 800к\n",
      "    mediaplan 600к\n",
      "hybrid_игроник_национальная лотерея_ко-промо принцесса нури_klientskiy_plan_20241115 (1)\n",
      "    медиаплан 2024-2025\n",
      "mobidriven_игроник_национальная лотерия_27.08 (1)\n",
      "    мп\n",
      "/03_split\n"
     ]
    }
   ],
   "source": [
    "get_data_from_ya_folder(yandex_folders, main_dict, flag='prog')                     \n"
   ]
  },
  {
   "cell_type": "code",
   "execution_count": 5,
   "id": "987ec2c5-6763-4a61-9e59-996f3505caa1",
   "metadata": {},
   "outputs": [],
   "source": [
    "df = pd.concat(main_dict, ignore_index=True)\n",
    "df = df.fillna('')\n",
    "\n",
    "df['views'] = df['views'].astype('float').round(0)\n",
    "int_columns = ['reach', 'impressions', 'clicks', 'views']\n",
    "df[int_columns] = df[int_columns].apply(lambda x: x.astype('int'))"
   ]
  },
  {
   "cell_type": "code",
   "execution_count": 6,
   "id": "4454127c-766a-468a-a1a4-a1e2c246662d",
   "metadata": {},
   "outputs": [],
   "source": [
    "float_columns = ['unit price', 'budget_without_nds', 'budget_nds', 'vtr, %']\n",
    "df[float_columns] = df[float_columns].apply(lambda x: x.astype('float')).round(2)"
   ]
  },
  {
   "cell_type": "code",
   "execution_count": 7,
   "id": "f96863d3-181a-406c-af26-061adf62ac97",
   "metadata": {},
   "outputs": [
    {
     "data": {
      "text/plain": [
       "Index(['supplier', 'report_name', 'sheet_name', 'brand', 'period', 'source',\n",
       "       'site/ssp', 'placement', 'targeting', 'geo', 'soc_dem',\n",
       "       'ad copy format', 'rotation type', 'unit price', 'frequency', 'reach',\n",
       "       'impressions', 'clicks', 'budget_without_nds', 'budget_nds', 'views',\n",
       "       'vtr, %'],\n",
       "      dtype='object')"
      ]
     },
     "execution_count": 7,
     "metadata": {},
     "output_type": "execute_result"
    }
   ],
   "source": [
    "df.columns"
   ]
  },
  {
   "cell_type": "code",
   "execution_count": 8,
   "id": "3ce52855-193f-4305-b394-68d26aa2b8bc",
   "metadata": {},
   "outputs": [],
   "source": [
    "# download_columns_list = ['supplier', 'report_name', 'sheet_name', 'brand', 'geo', 'soc_dem', 'ad copy format', 'rotation type', 'frequency', 'reach',\n",
    "# 'impressions', 'clicks', 'budget_without_nds', 'budget_nds', 'views', 'vtr, %']"
   ]
  },
  {
   "cell_type": "code",
   "execution_count": 8,
   "id": "3045f184-a016-4b30-8899-3ebc2ca7b5be",
   "metadata": {},
   "outputs": [],
   "source": [
    "download_columns_list = df.columns"
   ]
  },
  {
   "cell_type": "code",
   "execution_count": 9,
   "id": "6bdc6388-202d-4556-beb3-8dc1850d16c7",
   "metadata": {},
   "outputs": [],
   "source": [
    "final_df = df[download_columns_list]"
   ]
  },
  {
   "cell_type": "code",
   "execution_count": 10,
   "id": "29ac0a7c-7f6d-4d59-b600-b17d2465d568",
   "metadata": {},
   "outputs": [
    {
     "data": {
      "text/html": [
       "<div>\n",
       "<style scoped>\n",
       "    .dataframe tbody tr th:only-of-type {\n",
       "        vertical-align: middle;\n",
       "    }\n",
       "\n",
       "    .dataframe tbody tr th {\n",
       "        vertical-align: top;\n",
       "    }\n",
       "\n",
       "    .dataframe thead th {\n",
       "        text-align: right;\n",
       "    }\n",
       "</style>\n",
       "<table border=\"1\" class=\"dataframe\">\n",
       "  <thead>\n",
       "    <tr style=\"text-align: right;\">\n",
       "      <th></th>\n",
       "      <th>supplier</th>\n",
       "      <th>report_name</th>\n",
       "      <th>sheet_name</th>\n",
       "      <th>brand</th>\n",
       "      <th>period</th>\n",
       "      <th>source</th>\n",
       "      <th>site/ssp</th>\n",
       "      <th>placement</th>\n",
       "      <th>targeting</th>\n",
       "      <th>geo</th>\n",
       "      <th>soc_dem</th>\n",
       "      <th>ad copy format</th>\n",
       "      <th>rotation type</th>\n",
       "      <th>unit price</th>\n",
       "      <th>frequency</th>\n",
       "      <th>reach</th>\n",
       "      <th>impressions</th>\n",
       "      <th>clicks</th>\n",
       "      <th>budget_without_nds</th>\n",
       "      <th>budget_nds</th>\n",
       "      <th>views</th>\n",
       "      <th>vtr, %</th>\n",
       "    </tr>\n",
       "  </thead>\n",
       "  <tbody>\n",
       "    <tr>\n",
       "      <th>0</th>\n",
       "      <td>firstdata</td>\n",
       "      <td>firstdata_игроник_национальная лотерея_принцесса нури_срм_media_27.08.2024 (1) (1)</td>\n",
       "      <td>mediaplan 1000к</td>\n",
       "      <td>Национальная лотерея // Принцесса Нури</td>\n",
       "      <td>6 months</td>\n",
       "      <td>Платформа First Data</td>\n",
       "      <td></td>\n",
       "      <td></td>\n",
       "      <td>ГЕО: РФ\\nЦА: Ж, 35-45. Доход В, ВС. Покупатели чая и чайной продукции: Принцесса Нури, Азерчай, Ява, Riston, Майский, Ахмад, Dilmah, Ява, Милфорд, Липтон и др.  Покупатели кондитерских изделий: безе, варенье, джем, повидло, грильяж, желе, зефир, пастила, конфеты, ирис, халва, помадка, муссы, шоколад, торты и др\\nИсточники: ОФД</td>\n",
       "      <td>рф</td>\n",
       "      <td>ж, 35-45. доход в, вс.</td>\n",
       "      <td>Баннеры / Универсальные Баннеры</td>\n",
       "      <td>CPM</td>\n",
       "      <td>240.0</td>\n",
       "      <td>12</td>\n",
       "      <td>2083333</td>\n",
       "      <td>25000000</td>\n",
       "      <td>50000</td>\n",
       "      <td>6000000.0</td>\n",
       "      <td>7200000.0</td>\n",
       "      <td>0</td>\n",
       "      <td>0.0</td>\n",
       "    </tr>\n",
       "    <tr>\n",
       "      <th>1</th>\n",
       "      <td>firstdata</td>\n",
       "      <td>firstdata_игроник_национальная лотерея_принцесса нури_срм_media_27.08.2024 (1) (1)</td>\n",
       "      <td>mediaplan 800к</td>\n",
       "      <td>Национальная лотерея // Принцесса Нури</td>\n",
       "      <td>6 months</td>\n",
       "      <td>Платформа First Data</td>\n",
       "      <td></td>\n",
       "      <td></td>\n",
       "      <td>ГЕО: РФ\\nЦА: Ж, 35-45. Доход В, ВС. Покупатели чая и чайной продукции: Принцесса Нури, Азерчай, Ява, Riston, Майский, Ахмад, Dilmah, Ява, Милфорд, Липтон и др.  Покупатели кондитерских изделий: безе, варенье, джем, повидло, грильяж, желе, зефир, пастила, конфеты, ирис, халва, помадка, муссы, шоколад, торты и др\\nИсточники: ОФД</td>\n",
       "      <td>рф</td>\n",
       "      <td>ж, 35-45. доход в, вс.</td>\n",
       "      <td>Баннеры / Универсальные Баннеры</td>\n",
       "      <td>CPM</td>\n",
       "      <td>240.0</td>\n",
       "      <td>12</td>\n",
       "      <td>1666666</td>\n",
       "      <td>20000000</td>\n",
       "      <td>40000</td>\n",
       "      <td>4800000.0</td>\n",
       "      <td>5760000.0</td>\n",
       "      <td>0</td>\n",
       "      <td>0.0</td>\n",
       "    </tr>\n",
       "    <tr>\n",
       "      <th>2</th>\n",
       "      <td>firstdata</td>\n",
       "      <td>firstdata_игроник_национальная лотерея_принцесса нури_срм_media_27.08.2024 (1) (1)</td>\n",
       "      <td>mediaplan 600к</td>\n",
       "      <td>Национальная лотерея // Принцесса Нури</td>\n",
       "      <td>6 months</td>\n",
       "      <td>Платформа First Data</td>\n",
       "      <td></td>\n",
       "      <td></td>\n",
       "      <td>ГЕО: РФ\\nЦА: Ж, 35-45. Доход В, ВС. Покупатели чая и чайной продукции: Принцесса Нури, Азерчай, Ява, Riston, Майский, Ахмад, Dilmah, Ява, Милфорд, Липтон и др.  Покупатели кондитерских изделий: безе, варенье, джем, повидло, грильяж, желе, зефир, пастила, конфеты, ирис, халва, помадка, муссы, шоколад, торты и др\\nИсточники: ОФД</td>\n",
       "      <td>рф</td>\n",
       "      <td>ж, 35-45. доход в, вс.</td>\n",
       "      <td>Баннеры / Универсальные Баннеры</td>\n",
       "      <td>CPM</td>\n",
       "      <td>260.0</td>\n",
       "      <td>12</td>\n",
       "      <td>1158333</td>\n",
       "      <td>13900000</td>\n",
       "      <td>27800</td>\n",
       "      <td>3614000.0</td>\n",
       "      <td>4336800.0</td>\n",
       "      <td>0</td>\n",
       "      <td>0.0</td>\n",
       "    </tr>\n",
       "    <tr>\n",
       "      <th>3</th>\n",
       "      <td>hybrid</td>\n",
       "      <td>hybrid_игроник_национальная лотерея_ко-промо принцесса нури_klientskiy_plan_20241115 (1)</td>\n",
       "      <td>медиаплан 2024-2025</td>\n",
       "      <td>Национальная лотерея</td>\n",
       "      <td>15.11.2024 – 31.01.2025</td>\n",
       "      <td>hybrid</td>\n",
       "      <td></td>\n",
       "      <td>Desktop+Mobile (web + in-app)***</td>\n",
       "      <td>Национальная лотерея\\nКо-промо Принцесса Нури\\n\\n\\nКонструктор аудитории: Женщины, 35-45 лет, доход средний/выше среднего\\n\\n1. Аудиторные сегменты+Кастомные сегменты Hybrid Segments\\n2. Hybrid Semantica \\n3. Hybrid Places+SuperGeo на посетителей точек продаж столото и продуктовых магазинов.\\n4. Сбор аудитории с сайтов во вкладке \"Пример сайтов\"</td>\n",
       "      <td>РФ</td>\n",
       "      <td></td>\n",
       "      <td>Banner, Native</td>\n",
       "      <td>CPC</td>\n",
       "      <td>53.0</td>\n",
       "      <td>3</td>\n",
       "      <td>3393000</td>\n",
       "      <td>11310000</td>\n",
       "      <td>22620</td>\n",
       "      <td>1198860.0</td>\n",
       "      <td>1438632.0</td>\n",
       "      <td>0</td>\n",
       "      <td>0.0</td>\n",
       "    </tr>\n",
       "    <tr>\n",
       "      <th>4</th>\n",
       "      <td>mobidriven</td>\n",
       "      <td>mobidriven_игроник_национальная лотерия_27.08 (1)</td>\n",
       "      <td>мп</td>\n",
       "      <td>Национальная Лотерия</td>\n",
       "      <td>01.11.24-30.04.25</td>\n",
       "      <td>Mobidriven</td>\n",
       "      <td></td>\n",
       "      <td>in app</td>\n",
       "      <td>Ж 35-45 BC. Семейные с детьми. Работают в офисах или на гос. службе. Интересуются скидками и акциями.</td>\n",
       "      <td>РФ</td>\n",
       "      <td>Ж 35-45 лет</td>\n",
       "      <td>Fullscreen</td>\n",
       "      <td>CPM</td>\n",
       "      <td>290.0</td>\n",
       "      <td>3</td>\n",
       "      <td>6000000</td>\n",
       "      <td>18000000</td>\n",
       "      <td>270000</td>\n",
       "      <td>5220000.0</td>\n",
       "      <td>6264000.0</td>\n",
       "      <td>0</td>\n",
       "      <td>0.0</td>\n",
       "    </tr>\n",
       "    <tr>\n",
       "      <th>5</th>\n",
       "      <td>mobidriven</td>\n",
       "      <td>mobidriven_игроник_национальная лотерия_27.08 (1)</td>\n",
       "      <td>мп</td>\n",
       "      <td>Национальная Лотерия</td>\n",
       "      <td>01.11.24-30.04.25</td>\n",
       "      <td>Mobidriven</td>\n",
       "      <td></td>\n",
       "      <td>in web</td>\n",
       "      <td>Ж 35-45 BC. Семейные с детьми. Работают в офисах или на гос. службе. Интересуются скидками и акциями.</td>\n",
       "      <td>РФ</td>\n",
       "      <td>Ж 35-45 лет</td>\n",
       "      <td>Banners (300*250, 320*100, 320*50)</td>\n",
       "      <td>CPM</td>\n",
       "      <td>110.0</td>\n",
       "      <td>3</td>\n",
       "      <td>5000000</td>\n",
       "      <td>15000000</td>\n",
       "      <td>45000</td>\n",
       "      <td>1650000.0</td>\n",
       "      <td>1980000.0</td>\n",
       "      <td>0</td>\n",
       "      <td>0.0</td>\n",
       "    </tr>\n",
       "    <tr>\n",
       "      <th>6</th>\n",
       "      <td>mobidriven</td>\n",
       "      <td>mobidriven_игроник_национальная лотерия_27.08 (1)</td>\n",
       "      <td>мп</td>\n",
       "      <td>Национальная Лотерия</td>\n",
       "      <td>01.11.24-30.04.25</td>\n",
       "      <td>Mobidriven</td>\n",
       "      <td></td>\n",
       "      <td>in app</td>\n",
       "      <td>Ж 35-45 BC. Семейные с детьми. Работают в офисах или на гос. службе. Интересуются скидками и акциями.</td>\n",
       "      <td>РФ</td>\n",
       "      <td>Ж 35-45 лет</td>\n",
       "      <td>Fullscreen</td>\n",
       "      <td>CPM</td>\n",
       "      <td>319.0</td>\n",
       "      <td>3</td>\n",
       "      <td>12000000</td>\n",
       "      <td>36000000</td>\n",
       "      <td>540000</td>\n",
       "      <td>11484000.0</td>\n",
       "      <td>13780800.0</td>\n",
       "      <td>0</td>\n",
       "      <td>0.0</td>\n",
       "    </tr>\n",
       "    <tr>\n",
       "      <th>7</th>\n",
       "      <td>mobidriven</td>\n",
       "      <td>mobidriven_игроник_национальная лотерия_27.08 (1)</td>\n",
       "      <td>мп</td>\n",
       "      <td>Национальная Лотерия</td>\n",
       "      <td>01.11.24-30.04.25</td>\n",
       "      <td>Mobidriven</td>\n",
       "      <td></td>\n",
       "      <td>in web</td>\n",
       "      <td>Ж 35-45 BC. Семейные с детьми. Работают в офисах или на гос. службе. Интересуются скидками и акциями.</td>\n",
       "      <td>РФ</td>\n",
       "      <td>Ж 35-45 лет</td>\n",
       "      <td>Banners (300*250, 320*100, 320*50)</td>\n",
       "      <td>CPM</td>\n",
       "      <td>121.0</td>\n",
       "      <td>3</td>\n",
       "      <td>10000000</td>\n",
       "      <td>30000000</td>\n",
       "      <td>90000</td>\n",
       "      <td>3630000.0</td>\n",
       "      <td>4356000.0</td>\n",
       "      <td>0</td>\n",
       "      <td>0.0</td>\n",
       "    </tr>\n",
       "  </tbody>\n",
       "</table>\n",
       "</div>"
      ],
      "text/plain": [
       "     supplier  \\\n",
       "0   firstdata   \n",
       "1   firstdata   \n",
       "2   firstdata   \n",
       "3      hybrid   \n",
       "4  mobidriven   \n",
       "5  mobidriven   \n",
       "6  mobidriven   \n",
       "7  mobidriven   \n",
       "\n",
       "                                                                                report_name  \\\n",
       "0        firstdata_игроник_национальная лотерея_принцесса нури_срм_media_27.08.2024 (1) (1)   \n",
       "1        firstdata_игроник_национальная лотерея_принцесса нури_срм_media_27.08.2024 (1) (1)   \n",
       "2        firstdata_игроник_национальная лотерея_принцесса нури_срм_media_27.08.2024 (1) (1)   \n",
       "3  hybrid_игроник_национальная лотерея_ко-промо принцесса нури_klientskiy_plan_20241115 (1)   \n",
       "4                                         mobidriven_игроник_национальная лотерия_27.08 (1)   \n",
       "5                                         mobidriven_игроник_национальная лотерия_27.08 (1)   \n",
       "6                                         mobidriven_игроник_национальная лотерия_27.08 (1)   \n",
       "7                                         mobidriven_игроник_национальная лотерия_27.08 (1)   \n",
       "\n",
       "            sheet_name                                    brand  \\\n",
       "0      mediaplan 1000к  Национальная лотерея // Принцесса Нури    \n",
       "1       mediaplan 800к  Национальная лотерея // Принцесса Нури    \n",
       "2       mediaplan 600к  Национальная лотерея // Принцесса Нури    \n",
       "3  медиаплан 2024-2025                     Национальная лотерея   \n",
       "4                   мп                     Национальная Лотерия   \n",
       "5                   мп                     Национальная Лотерия   \n",
       "6                   мп                     Национальная Лотерия   \n",
       "7                   мп                     Национальная Лотерия   \n",
       "\n",
       "                    period                source site/ssp  \\\n",
       "0                 6 months  Платформа First Data            \n",
       "1                 6 months  Платформа First Data            \n",
       "2                 6 months  Платформа First Data            \n",
       "3  15.11.2024 – 31.01.2025                hybrid            \n",
       "4        01.11.24-30.04.25            Mobidriven            \n",
       "5        01.11.24-30.04.25            Mobidriven            \n",
       "6        01.11.24-30.04.25            Mobidriven            \n",
       "7        01.11.24-30.04.25            Mobidriven            \n",
       "\n",
       "                          placement  \\\n",
       "0                                     \n",
       "1                                     \n",
       "2                                     \n",
       "3  Desktop+Mobile (web + in-app)***   \n",
       "4                            in app   \n",
       "5                            in web   \n",
       "6                            in app   \n",
       "7                            in web   \n",
       "\n",
       "                                                                                                                                                                                                                                                                                                                                                     targeting  \\\n",
       "0                     ГЕО: РФ\\nЦА: Ж, 35-45. Доход В, ВС. Покупатели чая и чайной продукции: Принцесса Нури, Азерчай, Ява, Riston, Майский, Ахмад, Dilmah, Ява, Милфорд, Липтон и др.  Покупатели кондитерских изделий: безе, варенье, джем, повидло, грильяж, желе, зефир, пастила, конфеты, ирис, халва, помадка, муссы, шоколад, торты и др\\nИсточники: ОФД   \n",
       "1                     ГЕО: РФ\\nЦА: Ж, 35-45. Доход В, ВС. Покупатели чая и чайной продукции: Принцесса Нури, Азерчай, Ява, Riston, Майский, Ахмад, Dilmah, Ява, Милфорд, Липтон и др.  Покупатели кондитерских изделий: безе, варенье, джем, повидло, грильяж, желе, зефир, пастила, конфеты, ирис, халва, помадка, муссы, шоколад, торты и др\\nИсточники: ОФД   \n",
       "2                     ГЕО: РФ\\nЦА: Ж, 35-45. Доход В, ВС. Покупатели чая и чайной продукции: Принцесса Нури, Азерчай, Ява, Riston, Майский, Ахмад, Dilmah, Ява, Милфорд, Липтон и др.  Покупатели кондитерских изделий: безе, варенье, джем, повидло, грильяж, желе, зефир, пастила, конфеты, ирис, халва, помадка, муссы, шоколад, торты и др\\nИсточники: ОФД   \n",
       "3  Национальная лотерея\\nКо-промо Принцесса Нури\\n\\n\\nКонструктор аудитории: Женщины, 35-45 лет, доход средний/выше среднего\\n\\n1. Аудиторные сегменты+Кастомные сегменты Hybrid Segments\\n2. Hybrid Semantica \\n3. Hybrid Places+SuperGeo на посетителей точек продаж столото и продуктовых магазинов.\\n4. Сбор аудитории с сайтов во вкладке \"Пример сайтов\"   \n",
       "4                                                                                                                                                                                                                                                        Ж 35-45 BC. Семейные с детьми. Работают в офисах или на гос. службе. Интересуются скидками и акциями.   \n",
       "5                                                                                                                                                                                                                                                        Ж 35-45 BC. Семейные с детьми. Работают в офисах или на гос. службе. Интересуются скидками и акциями.   \n",
       "6                                                                                                                                                                                                                                                        Ж 35-45 BC. Семейные с детьми. Работают в офисах или на гос. службе. Интересуются скидками и акциями.   \n",
       "7                                                                                                                                                                                                                                                        Ж 35-45 BC. Семейные с детьми. Работают в офисах или на гос. службе. Интересуются скидками и акциями.   \n",
       "\n",
       "  geo                 soc_dem                      ad copy format  \\\n",
       "0  рф  ж, 35-45. доход в, вс.     Баннеры / Универсальные Баннеры   \n",
       "1  рф  ж, 35-45. доход в, вс.     Баннеры / Универсальные Баннеры   \n",
       "2  рф  ж, 35-45. доход в, вс.     Баннеры / Универсальные Баннеры   \n",
       "3  РФ                                              Banner, Native   \n",
       "4  РФ             Ж 35-45 лет                          Fullscreen   \n",
       "5  РФ             Ж 35-45 лет  Banners (300*250, 320*100, 320*50)   \n",
       "6  РФ             Ж 35-45 лет                          Fullscreen   \n",
       "7  РФ             Ж 35-45 лет  Banners (300*250, 320*100, 320*50)   \n",
       "\n",
       "  rotation type  unit price  frequency     reach  impressions  clicks  \\\n",
       "0           CPM       240.0         12   2083333     25000000   50000   \n",
       "1           CPM       240.0         12   1666666     20000000   40000   \n",
       "2           CPM       260.0         12   1158333     13900000   27800   \n",
       "3           CPC        53.0          3   3393000     11310000   22620   \n",
       "4           CPM       290.0          3   6000000     18000000  270000   \n",
       "5           CPM       110.0          3   5000000     15000000   45000   \n",
       "6           CPM       319.0          3  12000000     36000000  540000   \n",
       "7           CPM       121.0          3  10000000     30000000   90000   \n",
       "\n",
       "   budget_without_nds  budget_nds  views  vtr, %  \n",
       "0           6000000.0   7200000.0      0     0.0  \n",
       "1           4800000.0   5760000.0      0     0.0  \n",
       "2           3614000.0   4336800.0      0     0.0  \n",
       "3           1198860.0   1438632.0      0     0.0  \n",
       "4           5220000.0   6264000.0      0     0.0  \n",
       "5           1650000.0   1980000.0      0     0.0  \n",
       "6          11484000.0  13780800.0      0     0.0  \n",
       "7           3630000.0   4356000.0      0     0.0  "
      ]
     },
     "execution_count": 10,
     "metadata": {},
     "output_type": "execute_result"
    }
   ],
   "source": [
    "final_df"
   ]
  },
  {
   "cell_type": "code",
   "execution_count": 11,
   "id": "52d7440b-b6b4-4948-9b82-99ec1d241ecb",
   "metadata": {},
   "outputs": [
    {
     "name": "stdout",
     "output_type": "stream",
     "text": [
      "Connection established successfully...\n"
     ]
    }
   ],
   "source": [
    "# создаем подключение к Гуглу\n",
    "client = create_connection(service_key)"
   ]
  },
  {
   "cell_type": "code",
   "execution_count": 12,
   "id": "338c1cf8-cae6-484a-ac17-8760ae47aae4",
   "metadata": {},
   "outputs": [],
   "source": [
    "# прописываем путь и подключаемсяк нужному листу Гугл докса\n",
    "sh = client.open_by_url(google_sheet_link)\n",
    "sh.share(gmail, perm_type='user', role='writer')\n",
    "google_sheet = sh.worksheet(sheet_name)"
   ]
  },
  {
   "cell_type": "code",
   "execution_count": 13,
   "id": "ce248c64-c925-427d-850e-e25093bc9b87",
   "metadata": {},
   "outputs": [
    {
     "name": "stdout",
     "output_type": "stream",
     "text": [
      "DataFrame exported successfully...\n"
     ]
    }
   ],
   "source": [
    "# выгружем наш датаФрейм на лист\n",
    "google_sheet.clear()\n",
    "export_dataframe_to_google_sheet(google_sheet, final_df)"
   ]
  },
  {
   "cell_type": "code",
   "execution_count": null,
   "id": "8116b6ea-544b-48a8-947e-b74691c32e4a",
   "metadata": {},
   "outputs": [],
   "source": []
  },
  {
   "cell_type": "code",
   "execution_count": 15,
   "id": "c06f9d5b-a861-48f7-a451-19bca4e1cf40",
   "metadata": {},
   "outputs": [
    {
     "name": "stdout",
     "output_type": "stream",
     "text": [
      "start: 2024-01-01, end: 2024-12-31\n"
     ]
    }
   ],
   "source": [
    "# создаем кастомный календарь для медиаплана\n",
    "sheet_name = 'weekYear'\n",
    "calendar_df = get_mediaplan_calendar(cur_year='2024', start_day_num=0)"
   ]
  },
  {
   "cell_type": "code",
   "execution_count": 16,
   "id": "6256cabf-17bf-4a25-bad4-5d3e6e2b3b4e",
   "metadata": {},
   "outputs": [
    {
     "name": "stdout",
     "output_type": "stream",
     "text": [
      "Connection established successfully...\n"
     ]
    }
   ],
   "source": [
    "# создаем подключение к Гуглу\n",
    "client = create_connection(service_key)"
   ]
  },
  {
   "cell_type": "code",
   "execution_count": 17,
   "id": "4364232d-ec6a-4c9e-a917-365c6c90379b",
   "metadata": {},
   "outputs": [],
   "source": [
    "# прописываем путь и подключаемсяк нужному листу Гугл докса\n",
    "sh = client.open_by_url(google_sheet_link)\n",
    "sh.share(gmail, perm_type='user', role='writer')\n",
    "google_sheet = sh.worksheet(sheet_name)"
   ]
  },
  {
   "cell_type": "code",
   "execution_count": 18,
   "id": "4a12da26-5f4f-4455-aa8f-8383621aad00",
   "metadata": {},
   "outputs": [
    {
     "name": "stdout",
     "output_type": "stream",
     "text": [
      "DataFrame exported successfully...\n"
     ]
    }
   ],
   "source": [
    "# выгружем наш датаФрейм на лист\n",
    "google_sheet.clear()\n",
    "export_dataframe_to_google_sheet(google_sheet, calendar_df)"
   ]
  },
  {
   "cell_type": "code",
   "execution_count": null,
   "id": "691d0c6c-c27a-4c7f-9729-3e6bc9b6424e",
   "metadata": {},
   "outputs": [],
   "source": []
  },
  {
   "cell_type": "code",
   "execution_count": null,
   "id": "6ee28ace-1f97-40c9-af31-a5afe2b00c3b",
   "metadata": {},
   "outputs": [],
   "source": []
  },
  {
   "cell_type": "code",
   "execution_count": null,
   "id": "93bbb71a-9938-461e-b5f3-653089f66bea",
   "metadata": {},
   "outputs": [],
   "source": []
  },
  {
   "cell_type": "code",
   "execution_count": null,
   "id": "47dbaca5-fa14-40bf-9326-f0ea63297355",
   "metadata": {},
   "outputs": [],
   "source": []
  }
 ],
 "metadata": {
  "kernelspec": {
   "display_name": "Python 3 (ipykernel)",
   "language": "python",
   "name": "python3"
  },
  "language_info": {
   "codemirror_mode": {
    "name": "ipython",
    "version": 3
   },
   "file_extension": ".py",
   "mimetype": "text/x-python",
   "name": "python",
   "nbconvert_exporter": "python",
   "pygments_lexer": "ipython3",
   "version": "3.11.7"
  }
 },
 "nbformat": 4,
 "nbformat_minor": 5
}
