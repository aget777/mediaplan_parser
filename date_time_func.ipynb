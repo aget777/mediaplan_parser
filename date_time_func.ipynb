{
 "cells": [
  {
   "cell_type": "code",
   "execution_count": 1,
   "id": "7a13bcc6-a7ed-4061-a55c-598e16fd1037",
   "metadata": {},
   "outputs": [],
   "source": [
    "import pandas as pd\n",
    "from datetime import date\n",
    "from datetime import datetime\n",
    "import calendar"
   ]
  },
  {
   "cell_type": "code",
   "execution_count": null,
   "id": "9006c0f1-fb51-4a5c-90d5-0ee88fd4611d",
   "metadata": {},
   "outputs": [],
   "source": []
  },
  {
   "cell_type": "code",
   "execution_count": 2,
   "id": "de092a41-d7e5-43a4-bf47-eeebf26ea432",
   "metadata": {},
   "outputs": [
    {
     "name": "stdout",
     "output_type": "stream",
     "text": [
      "start: 2024-01-01, end: 2024-12-31\n"
     ]
    }
   ],
   "source": [
    "cur_year = datetime.now().year\n",
    "start = datetime(cur_year, 1, 1).strftime('%Y-%m-%d')\n",
    "end = datetime(cur_year, 12, 31).strftime('%Y-%m-%d')\n",
    "print(f'start: {start}, end: {end}')"
   ]
  },
  {
   "cell_type": "code",
   "execution_count": 3,
   "id": "b737f549-0454-44f6-b8d3-19ec6ce6b5f7",
   "metadata": {},
   "outputs": [],
   "source": [
    "def create_date_table(start, end):\n",
    "   df = pd.DataFrame({\"date\": pd.date_range(start, end)})\n",
    "   df[\"week_day\"] = df.date.dt.day_name()\n",
    "   df['num_day_week'] = df['date'].dt.dayofweek\n",
    "   df[\"day\"] = df.date.dt.day\n",
    "   df[\"month\"] = df.date.dt.month\n",
    "   df[\"week_num\"] = df['date'].dt.isocalendar().week\n",
    "   # df[\"quarter\"] = df.date.dt.quarter\n",
    "   df[\"year\"] = df.date.dt.year\n",
    "   df.insert(0, 'date_id', (df.year.astype(str) + df.month.astype(str).str.zfill(2) + df.day.astype(str).str.zfill(2)).astype(int))\n",
    "   return df"
   ]
  },
  {
   "cell_type": "code",
   "execution_count": null,
   "id": "f6f21067-3b17-4e37-aff6-7a1e581e0c3b",
   "metadata": {},
   "outputs": [],
   "source": []
  },
  {
   "cell_type": "code",
   "execution_count": 4,
   "id": "e8589ac6-b828-4955-8e07-688a2a7995e5",
   "metadata": {},
   "outputs": [],
   "source": [
    "# создаем функцию, чтобы раздать флаг для начала и конца недели\n",
    "# на вход она принимает \n",
    "#  - поле из датаФрейма с номером дня недели (понедельник =0, воскресенье=6)\n",
    "# - номер дня недели, с которого мы хотим, чтобы начиналась наша неделя\n",
    "# на выходе функция возвращает список - флаг дня начала недели и флаг дня оконяания недели\n",
    "def get_start_end_week(num_day_week, start_day=0):\n",
    "    end_of_week = 6\n",
    "    start_flag = ''\n",
    "    end_flag = ''\n",
    "    if start_day != 0:\n",
    "        end_of_week = start_day-1\n",
    "    \n",
    "    if num_day_week==start_day:\n",
    "        start_flag = 0\n",
    "    if num_day_week==end_of_week:\n",
    "        end_flag = 1\n",
    "    return [start_flag, end_flag]"
   ]
  },
  {
   "cell_type": "code",
   "execution_count": 5,
   "id": "824776a2-29af-4a6b-b118-0733b703807d",
   "metadata": {},
   "outputs": [],
   "source": [
    "# создаем функцию, чтобы определить к какому месяцу относится неделя\n",
    "# если начало и окончание недели в одном месяце, то возвращаем его номер\n",
    "# если кол-во дней от кастомного начала недели до конца месяца меньше 3, то записываем такую неделю на след. месяц\n",
    "# иначе возвращаем номер текущего месяца\n",
    "def get_custom_month(row):\n",
    "    custom_mon = ''\n",
    "    year = row['year']\n",
    "    start_date = row['start_custom_week']\n",
    "    end_date = row['end_custom_week']\n",
    "    # получаем номер месяца для начала и окончания недели\n",
    "    start_mon = start_date.month\n",
    "    end_mon = end_date.month\n",
    "    if start_mon==end_mon:\n",
    "        custom_mon = start_mon\n",
    "    else:\n",
    "        # получаем последнее число месяца для даты начала недели\n",
    "        last_month_day = calendar.monthrange(year, start_mon)[1]\n",
    "        # преобразуем это число в дату\n",
    "        end_month_date = date(year, start_mon, last_month_day)\n",
    "        start_date = start_date.date() \n",
    "        # находим разницу между окончанием месяца и началом недели\n",
    "        date_diff = (end_month_date - start_date).days\n",
    "        # если кол-во дней меньше 3, то относим такую неделю к след. месяцу\n",
    "        if date_diff < 3:\n",
    "            custom_mon = end_mon\n",
    "        else:\n",
    "            custom_mon = start_mon\n",
    "    return custom_mon"
   ]
  },
  {
   "cell_type": "code",
   "execution_count": 6,
   "id": "ab0b6e2a-d511-4b4f-81ad-64ba57484ef7",
   "metadata": {},
   "outputs": [],
   "source": [
    "df = create_date_table(start, end)"
   ]
  },
  {
   "cell_type": "code",
   "execution_count": 7,
   "id": "19ca18ab-85b4-436a-9114-b9500f520474",
   "metadata": {},
   "outputs": [],
   "source": [
    "# вызываем функцию, чтобы раздать флаги начала и окночания недели\n",
    "df['custom_start_week'] = df['num_day_week'].apply(lambda x: get_start_end_week(x, 1)[0])\n",
    "df['custom_end_week'] = df['num_day_week'].apply(lambda x: get_start_end_week(x, 1)[1])"
   ]
  },
  {
   "cell_type": "code",
   "execution_count": 8,
   "id": "344a043e-bbe4-4f0c-b74f-4c194f4fc870",
   "metadata": {},
   "outputs": [],
   "source": [
    "# оставляем только начало и конец недели\n",
    "df = df[(df['custom_start_week']==0) | (df['custom_end_week']==1)].reset_index(drop=True)"
   ]
  },
  {
   "cell_type": "code",
   "execution_count": 9,
   "id": "8848bb53-7a04-402c-aae1-7bb723a74471",
   "metadata": {},
   "outputs": [],
   "source": [
    "# если год начинается с конца недели, то убираем эту сттрочку\n",
    "if df.loc[0]['custom_end_week'] == 1:\n",
    "    df = df.iloc[1:].reset_index(drop=True)\n",
    "if df.loc[len(df)-1]['custom_start_week'] == 0:\n",
    "    df = df.iloc[:len(df)-1].reset_index(drop=True)"
   ]
  },
  {
   "cell_type": "code",
   "execution_count": 10,
   "id": "52706d98-a20d-407f-81f4-d558b12240f3",
   "metadata": {},
   "outputs": [],
   "source": [
    "# т.к. начало и окончание недели идут парами по 2 строки\n",
    "# первая строка - начало недели / вторая окончание\n",
    "# для второй строки мы присваиваем номер недели, который нахдится в предыдущей строке\n",
    "df['new_week_num'] = df['week_num'].shift(1)\n",
    "df = df.fillna(1)"
   ]
  },
  {
   "cell_type": "code",
   "execution_count": 11,
   "id": "70d61bf4-e567-427c-a3b2-4e88f1abb8a5",
   "metadata": {},
   "outputs": [],
   "source": [
    "# переносим начало и окончание недели в отдельные поля\n",
    "df['start_custom_week'] = df.groupby('new_week_num')['date'].transform('min')\n",
    "df['end_custom_week'] = df.groupby('new_week_num')['date'].transform('max')\n",
    "# т.к. начало и окончание недели записаны в одной строке\n",
    "# мы можем избавиться от второй такой же дублирующей строки\n",
    "df = df.drop_duplicates(subset=['start_custom_week', 'start_custom_week']).reset_index(drop=True)"
   ]
  },
  {
   "cell_type": "code",
   "execution_count": 12,
   "id": "0143e849-d502-441c-ad06-fa68f665fba4",
   "metadata": {},
   "outputs": [],
   "source": [
    "# оставляем только нужные поля\n",
    "df = df[['date', 'year', 'start_custom_week', 'end_custom_week']]"
   ]
  },
  {
   "cell_type": "code",
   "execution_count": 13,
   "id": "a5f83fc2-9ff8-4a95-be1f-1a2bc7f09d3d",
   "metadata": {},
   "outputs": [
    {
     "data": {
      "text/html": [
       "<div>\n",
       "<style scoped>\n",
       "    .dataframe tbody tr th:only-of-type {\n",
       "        vertical-align: middle;\n",
       "    }\n",
       "\n",
       "    .dataframe tbody tr th {\n",
       "        vertical-align: top;\n",
       "    }\n",
       "\n",
       "    .dataframe thead th {\n",
       "        text-align: right;\n",
       "    }\n",
       "</style>\n",
       "<table border=\"1\" class=\"dataframe\">\n",
       "  <thead>\n",
       "    <tr style=\"text-align: right;\">\n",
       "      <th></th>\n",
       "      <th>date</th>\n",
       "      <th>year</th>\n",
       "      <th>start_custom_week</th>\n",
       "      <th>end_custom_week</th>\n",
       "    </tr>\n",
       "  </thead>\n",
       "  <tbody>\n",
       "    <tr>\n",
       "      <th>0</th>\n",
       "      <td>2024-01-02</td>\n",
       "      <td>2024</td>\n",
       "      <td>2024-01-02</td>\n",
       "      <td>2024-01-08</td>\n",
       "    </tr>\n",
       "    <tr>\n",
       "      <th>1</th>\n",
       "      <td>2024-01-09</td>\n",
       "      <td>2024</td>\n",
       "      <td>2024-01-09</td>\n",
       "      <td>2024-01-15</td>\n",
       "    </tr>\n",
       "    <tr>\n",
       "      <th>2</th>\n",
       "      <td>2024-01-16</td>\n",
       "      <td>2024</td>\n",
       "      <td>2024-01-16</td>\n",
       "      <td>2024-01-22</td>\n",
       "    </tr>\n",
       "    <tr>\n",
       "      <th>3</th>\n",
       "      <td>2024-01-23</td>\n",
       "      <td>2024</td>\n",
       "      <td>2024-01-23</td>\n",
       "      <td>2024-01-29</td>\n",
       "    </tr>\n",
       "    <tr>\n",
       "      <th>4</th>\n",
       "      <td>2024-01-30</td>\n",
       "      <td>2024</td>\n",
       "      <td>2024-01-30</td>\n",
       "      <td>2024-02-05</td>\n",
       "    </tr>\n",
       "  </tbody>\n",
       "</table>\n",
       "</div>"
      ],
      "text/plain": [
       "        date  year start_custom_week end_custom_week\n",
       "0 2024-01-02  2024        2024-01-02      2024-01-08\n",
       "1 2024-01-09  2024        2024-01-09      2024-01-15\n",
       "2 2024-01-16  2024        2024-01-16      2024-01-22\n",
       "3 2024-01-23  2024        2024-01-23      2024-01-29\n",
       "4 2024-01-30  2024        2024-01-30      2024-02-05"
      ]
     },
     "execution_count": 13,
     "metadata": {},
     "output_type": "execute_result"
    }
   ],
   "source": [
    "df.head()"
   ]
  },
  {
   "cell_type": "code",
   "execution_count": null,
   "id": "b957a03d-2a5f-4a7b-9804-c8af5f31feba",
   "metadata": {},
   "outputs": [],
   "source": []
  },
  {
   "cell_type": "code",
   "execution_count": 14,
   "id": "5c009287-34b2-4f65-98e6-b3449992a05a",
   "metadata": {},
   "outputs": [],
   "source": [
    "# определяем номер месяца, к которому можно отнести эту неделю\n",
    "df['custom_mon_num'] = df.apply(get_custom_month, axis=1)"
   ]
  },
  {
   "cell_type": "code",
   "execution_count": 15,
   "id": "867a75d6-e0a2-4967-ae0b-6305b51fa553",
   "metadata": {},
   "outputs": [],
   "source": [
    "# создаем поле с началом и окончанием недели в одной строке\n",
    "df['week_period'] = df['start_custom_week'].astype('str').apply(lambda x: str(x)[5:]).str.replace('-', '.') + \\\n",
    "' - ' + df['end_custom_week'].astype('str').apply(lambda x: str(x)[5:]).str.replace('-', '.')\n",
    "\n",
    "df = df[['week_period', 'custom_mon_num']]"
   ]
  },
  {
   "cell_type": "code",
   "execution_count": 16,
   "id": "29c95909-e1a1-446f-97b1-9cc764756e44",
   "metadata": {},
   "outputs": [
    {
     "data": {
      "text/html": [
       "<div>\n",
       "<style scoped>\n",
       "    .dataframe tbody tr th:only-of-type {\n",
       "        vertical-align: middle;\n",
       "    }\n",
       "\n",
       "    .dataframe tbody tr th {\n",
       "        vertical-align: top;\n",
       "    }\n",
       "\n",
       "    .dataframe thead th {\n",
       "        text-align: right;\n",
       "    }\n",
       "</style>\n",
       "<table border=\"1\" class=\"dataframe\">\n",
       "  <thead>\n",
       "    <tr style=\"text-align: right;\">\n",
       "      <th></th>\n",
       "      <th>week_period</th>\n",
       "      <th>custom_mon_num</th>\n",
       "    </tr>\n",
       "  </thead>\n",
       "  <tbody>\n",
       "    <tr>\n",
       "      <th>0</th>\n",
       "      <td>01.02 - 01.08</td>\n",
       "      <td>1</td>\n",
       "    </tr>\n",
       "    <tr>\n",
       "      <th>1</th>\n",
       "      <td>01.09 - 01.15</td>\n",
       "      <td>1</td>\n",
       "    </tr>\n",
       "    <tr>\n",
       "      <th>2</th>\n",
       "      <td>01.16 - 01.22</td>\n",
       "      <td>1</td>\n",
       "    </tr>\n",
       "    <tr>\n",
       "      <th>3</th>\n",
       "      <td>01.23 - 01.29</td>\n",
       "      <td>1</td>\n",
       "    </tr>\n",
       "    <tr>\n",
       "      <th>4</th>\n",
       "      <td>01.30 - 02.05</td>\n",
       "      <td>2</td>\n",
       "    </tr>\n",
       "    <tr>\n",
       "      <th>5</th>\n",
       "      <td>02.06 - 02.12</td>\n",
       "      <td>2</td>\n",
       "    </tr>\n",
       "    <tr>\n",
       "      <th>6</th>\n",
       "      <td>02.13 - 02.19</td>\n",
       "      <td>2</td>\n",
       "    </tr>\n",
       "    <tr>\n",
       "      <th>7</th>\n",
       "      <td>02.20 - 02.26</td>\n",
       "      <td>2</td>\n",
       "    </tr>\n",
       "    <tr>\n",
       "      <th>8</th>\n",
       "      <td>02.27 - 03.04</td>\n",
       "      <td>3</td>\n",
       "    </tr>\n",
       "    <tr>\n",
       "      <th>9</th>\n",
       "      <td>03.05 - 03.11</td>\n",
       "      <td>3</td>\n",
       "    </tr>\n",
       "  </tbody>\n",
       "</table>\n",
       "</div>"
      ],
      "text/plain": [
       "     week_period  custom_mon_num\n",
       "0  01.02 - 01.08               1\n",
       "1  01.09 - 01.15               1\n",
       "2  01.16 - 01.22               1\n",
       "3  01.23 - 01.29               1\n",
       "4  01.30 - 02.05               2\n",
       "5  02.06 - 02.12               2\n",
       "6  02.13 - 02.19               2\n",
       "7  02.20 - 02.26               2\n",
       "8  02.27 - 03.04               3\n",
       "9  03.05 - 03.11               3"
      ]
     },
     "execution_count": 16,
     "metadata": {},
     "output_type": "execute_result"
    }
   ],
   "source": [
    "df.head(10)"
   ]
  },
  {
   "cell_type": "code",
   "execution_count": 18,
   "id": "1e0b1576-69b9-4817-b4cf-023628600fe3",
   "metadata": {},
   "outputs": [
    {
     "data": {
      "text/html": [
       "<div>\n",
       "<style scoped>\n",
       "    .dataframe tbody tr th:only-of-type {\n",
       "        vertical-align: middle;\n",
       "    }\n",
       "\n",
       "    .dataframe tbody tr th {\n",
       "        vertical-align: top;\n",
       "    }\n",
       "\n",
       "    .dataframe thead th {\n",
       "        text-align: right;\n",
       "    }\n",
       "</style>\n",
       "<table border=\"1\" class=\"dataframe\">\n",
       "  <thead>\n",
       "    <tr style=\"text-align: right;\">\n",
       "      <th></th>\n",
       "      <th>0</th>\n",
       "      <th>1</th>\n",
       "      <th>2</th>\n",
       "      <th>3</th>\n",
       "      <th>4</th>\n",
       "      <th>5</th>\n",
       "      <th>6</th>\n",
       "      <th>7</th>\n",
       "      <th>8</th>\n",
       "      <th>9</th>\n",
       "      <th>...</th>\n",
       "      <th>42</th>\n",
       "      <th>43</th>\n",
       "      <th>44</th>\n",
       "      <th>45</th>\n",
       "      <th>46</th>\n",
       "      <th>47</th>\n",
       "      <th>48</th>\n",
       "      <th>49</th>\n",
       "      <th>50</th>\n",
       "      <th>51</th>\n",
       "    </tr>\n",
       "  </thead>\n",
       "  <tbody>\n",
       "    <tr>\n",
       "      <th>week_period</th>\n",
       "      <td>01.02 - 01.08</td>\n",
       "      <td>01.09 - 01.15</td>\n",
       "      <td>01.16 - 01.22</td>\n",
       "      <td>01.23 - 01.29</td>\n",
       "      <td>01.30 - 02.05</td>\n",
       "      <td>02.06 - 02.12</td>\n",
       "      <td>02.13 - 02.19</td>\n",
       "      <td>02.20 - 02.26</td>\n",
       "      <td>02.27 - 03.04</td>\n",
       "      <td>03.05 - 03.11</td>\n",
       "      <td>...</td>\n",
       "      <td>10.22 - 10.28</td>\n",
       "      <td>10.29 - 11.04</td>\n",
       "      <td>11.05 - 11.11</td>\n",
       "      <td>11.12 - 11.18</td>\n",
       "      <td>11.19 - 11.25</td>\n",
       "      <td>11.26 - 12.02</td>\n",
       "      <td>12.03 - 12.09</td>\n",
       "      <td>12.10 - 12.16</td>\n",
       "      <td>12.17 - 12.23</td>\n",
       "      <td>12.24 - 12.30</td>\n",
       "    </tr>\n",
       "    <tr>\n",
       "      <th>custom_mon_num</th>\n",
       "      <td>1</td>\n",
       "      <td>1</td>\n",
       "      <td>1</td>\n",
       "      <td>1</td>\n",
       "      <td>2</td>\n",
       "      <td>2</td>\n",
       "      <td>2</td>\n",
       "      <td>2</td>\n",
       "      <td>3</td>\n",
       "      <td>3</td>\n",
       "      <td>...</td>\n",
       "      <td>10</td>\n",
       "      <td>11</td>\n",
       "      <td>11</td>\n",
       "      <td>11</td>\n",
       "      <td>11</td>\n",
       "      <td>11</td>\n",
       "      <td>12</td>\n",
       "      <td>12</td>\n",
       "      <td>12</td>\n",
       "      <td>12</td>\n",
       "    </tr>\n",
       "  </tbody>\n",
       "</table>\n",
       "<p>2 rows × 52 columns</p>\n",
       "</div>"
      ],
      "text/plain": [
       "                           0              1              2              3   \\\n",
       "week_period     01.02 - 01.08  01.09 - 01.15  01.16 - 01.22  01.23 - 01.29   \n",
       "custom_mon_num              1              1              1              1   \n",
       "\n",
       "                           4              5              6              7   \\\n",
       "week_period     01.30 - 02.05  02.06 - 02.12  02.13 - 02.19  02.20 - 02.26   \n",
       "custom_mon_num              2              2              2              2   \n",
       "\n",
       "                           8              9   ...             42  \\\n",
       "week_period     02.27 - 03.04  03.05 - 03.11  ...  10.22 - 10.28   \n",
       "custom_mon_num              3              3  ...             10   \n",
       "\n",
       "                           43             44             45             46  \\\n",
       "week_period     10.29 - 11.04  11.05 - 11.11  11.12 - 11.18  11.19 - 11.25   \n",
       "custom_mon_num             11             11             11             11   \n",
       "\n",
       "                           47             48             49             50  \\\n",
       "week_period     11.26 - 12.02  12.03 - 12.09  12.10 - 12.16  12.17 - 12.23   \n",
       "custom_mon_num             11             12             12             12   \n",
       "\n",
       "                           51  \n",
       "week_period     12.24 - 12.30  \n",
       "custom_mon_num             12  \n",
       "\n",
       "[2 rows x 52 columns]"
      ]
     },
     "execution_count": 18,
     "metadata": {},
     "output_type": "execute_result"
    }
   ],
   "source": [
    "# транспонируем датаФрейм\n",
    "df = df.transpose()"
   ]
  },
  {
   "cell_type": "code",
   "execution_count": null,
   "id": "2af26056-18a5-48d8-8bab-86ae082ec39b",
   "metadata": {},
   "outputs": [],
   "source": []
  },
  {
   "cell_type": "code",
   "execution_count": null,
   "id": "569c3044-acd5-464e-ab9d-457da42639de",
   "metadata": {},
   "outputs": [],
   "source": []
  },
  {
   "cell_type": "code",
   "execution_count": null,
   "id": "01f3f193-3fc8-42e2-ac89-a3da34af9591",
   "metadata": {},
   "outputs": [],
   "source": []
  },
  {
   "cell_type": "code",
   "execution_count": null,
   "id": "8c395799-9c25-4496-8ba8-1203015e044e",
   "metadata": {},
   "outputs": [],
   "source": []
  },
  {
   "cell_type": "code",
   "execution_count": null,
   "id": "ea049f7c-d320-4133-a474-9d113aa05a05",
   "metadata": {},
   "outputs": [],
   "source": []
  },
  {
   "cell_type": "code",
   "execution_count": null,
   "id": "937880a2-7368-4c8c-be56-9b16718cfd45",
   "metadata": {},
   "outputs": [],
   "source": []
  },
  {
   "cell_type": "code",
   "execution_count": null,
   "id": "ffefbf2b-f32f-402e-80e9-ccf72c981800",
   "metadata": {},
   "outputs": [],
   "source": []
  },
  {
   "cell_type": "code",
   "execution_count": null,
   "id": "5095b1cd-4e6b-4c08-8aa5-6223314044cd",
   "metadata": {},
   "outputs": [],
   "source": []
  },
  {
   "cell_type": "code",
   "execution_count": null,
   "id": "d770f035-45f7-4405-8ef3-d2d39de3c0fd",
   "metadata": {},
   "outputs": [],
   "source": []
  },
  {
   "cell_type": "code",
   "execution_count": null,
   "id": "57cb795f-f961-4703-b76d-6c8e7f257790",
   "metadata": {},
   "outputs": [],
   "source": []
  },
  {
   "cell_type": "code",
   "execution_count": null,
   "id": "c6fc861b-7a22-46eb-942d-625b7a7bb391",
   "metadata": {},
   "outputs": [],
   "source": []
  }
 ],
 "metadata": {
  "kernelspec": {
   "display_name": "Python 3 (ipykernel)",
   "language": "python",
   "name": "python3"
  },
  "language_info": {
   "codemirror_mode": {
    "name": "ipython",
    "version": 3
   },
   "file_extension": ".py",
   "mimetype": "text/x-python",
   "name": "python",
   "nbconvert_exporter": "python",
   "pygments_lexer": "ipython3",
   "version": "3.11.7"
  }
 },
 "nbformat": 4,
 "nbformat_minor": 5
}
