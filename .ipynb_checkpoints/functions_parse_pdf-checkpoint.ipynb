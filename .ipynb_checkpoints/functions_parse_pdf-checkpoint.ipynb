{
 "cells": [
  {
   "cell_type": "code",
   "execution_count": 1,
   "id": "c001054f-7595-4071-8e4e-682ff2b0c385",
   "metadata": {},
   "outputs": [],
   "source": [
    "import os\n",
    "import pandas as pd\n",
    "from pypdf import PdfReader\n",
    "import config\n",
    "from yandex_disk_func import *\n",
    "from parse_functions import *\n",
    "from google_connector import *\n",
    "from date_time_func import *"
   ]
  },
  {
   "cell_type": "code",
   "execution_count": 2,
   "id": "17bf0d35-e21a-4222-b11b-63afe96a0182",
   "metadata": {},
   "outputs": [],
   "source": [
    "file_name = 'Бенчмарки сентябрь 2024.pdf'#'test.pdf'\n",
    "final_path = os.path.join(os.getcwd(), file_name)"
   ]
  },
  {
   "cell_type": "code",
   "execution_count": 3,
   "id": "b9cc16ce-dddd-448f-8214-2dd6e8b3fd2c",
   "metadata": {},
   "outputs": [],
   "source": [
    "ads_obj_list = ['Дзен', 'Моб. приложение', 'Сайт', 'Сообщество ВК', 'Mini app', 'Видео и трансляции', 'Каталог товаров: магазин на маркетплейсе',\n",
    "'Каталог товаров: моб. приложение', 'Каталог товаров: сайт', 'Каталог товаров: сообщество', 'Клипы в соцсетях', 'Лид-форма', 'Личная страница',\n",
    " 'Музыка', 'Опросы', 'Сообщество ОК']"
   ]
  },
  {
   "cell_type": "code",
   "execution_count": 4,
   "id": "743d4f15-31d7-4f9c-bdcb-c0c101541b62",
   "metadata": {},
   "outputs": [
    {
     "name": "stdout",
     "output_type": "stream",
     "text": [
      "200\n"
     ]
    }
   ],
   "source": [
    "# обычная ссылка на доступ к папке одного данного ФЛАЙТА из личного кабинета\n",
    "public_key = config.public_key \n",
    "\n",
    "# забираем список папок в нужной нам директории\n",
    "res = get_yandex_disk_folders(public_key)\n",
    "yandex_folders = res.json() # парсим ответ"
   ]
  },
  {
   "cell_type": "code",
   "execution_count": 5,
   "id": "e450d038-ee3c-43da-b4e2-492eac886587",
   "metadata": {},
   "outputs": [],
   "source": [
    "# Включаем отображение всех колонок\n",
    "pd.set_option('display.max_columns', None)\n",
    "# Задаем ширину столбцов по контенту\n",
    "pd.set_option('display.max_colwidth', None)\n",
    "pd.set_option('display.max_rows', None)\n",
    "pd.options.mode.chained_assignment = None\n",
    "# pd.set_option('display.float_format', lambda x: '%.2f' % x)"
   ]
  },
  {
   "cell_type": "code",
   "execution_count": 6,
   "id": "4fabdb6e-2520-4064-add9-7d85bb7523d2",
   "metadata": {},
   "outputs": [
    {
     "name": "stdout",
     "output_type": "stream",
     "text": [
      "/01_yandex\n",
      "/02_prog\n",
      "/03_split\n",
      "бенчмарки сентябрь 2024\n"
     ]
    }
   ],
   "source": [
    "main_dict = {}\n",
    "test = get_data_from_ya_folder(yandex_folders, main_dict, flag='split', extention='pdf')  "
   ]
  },
  {
   "cell_type": "code",
   "execution_count": 7,
   "id": "aa6b22be-76de-4a8b-8414-2a15c3a0b2d4",
   "metadata": {},
   "outputs": [],
   "source": [
    "# создаем функцию, которая забирает Excel файлы из указанной папки\n",
    "# на входе она принимает след. параметры:\n",
    "# main_folder - основная папка конкретного проекта \n",
    "# yandex_folders - вложенные папки (например - файлы Алексея(источник Яндекс) / файлы Стаса(источник Программатик) / файлы Полины(прочие источники)\n",
    "# yandex_token - токен Яндекс (получаем заранее самостоятельно)\n",
    "# flag - это ключевое слово, которое содержится в названии папки, чтобы можно было понять к кому она отностится\n",
    "# именно эту папку мы и будем прасить\n",
    "# так же принимаем на входе 2 словаря - Баннеры и Видео (в них сохраним все данные)\n",
    "def get_data_from_ya_folder(yandex_folders, main_dict, flag='prog', extention='xls'):\n",
    "    public_key = yandex_folders['public_key']  # из ответа Яндекс забираем public_key, чтобы использовать его для скачивания файлов\n",
    "\n",
    "    for i in range(len(yandex_folders['_embedded']['items'])): # через цикл проходим по ответу Яндекса и забираем названия вложенных папок\n",
    "        file_type = yandex_folders['_embedded']['items'][i]['type']\n",
    "        if file_type=='dir':   # если находим файлы с типом dir (папка), то забираем путь к этой папке\n",
    "            folder_path = yandex_folders['_embedded']['items'][i]['path']\n",
    "            print(folder_path)\n",
    "            if flag in folder_path.lower():\n",
    "                yandex_responce = get_yandex_disk_responce(base_public_url, public_key, folder_path) # отправляем запрос, чтобы получить содержимое папки\n",
    "        \n",
    "                # Через цикл проходим по папке с файлами\n",
    "                # Нас интересуют файлы эксель. Причем каждая экселька будет парситься по своему, т.к. они относятся к разным рекламным площадкам\n",
    "                \n",
    "                # Проходим через цикл по содержимому папки (отдельный флайт)\n",
    "                for i in range(len(yandex_responce['_embedded']['items'])):\n",
    "                    file_info = yandex_responce['_embedded']['items'][i]\n",
    "                    if file_info['type']=='file':  # если документ является фалйом(не папкой или изображением), то забираем его название \n",
    "                        file_name = file_info['name'] # сохраняем название файла\n",
    "                        if extention in file_name: # еслит тип файла является xlsx, то уберем расширение и будем его использовать в качесвте названия отчета\n",
    "                            file_path = file_info['path']\n",
    "                            \n",
    "                            # report_name = '.'.join(file_name.split('.')[:-1]) # убираем .xlsx из названия файла\n",
    "                            # report_name = report_name.lower().strip().replace('\\n', ' ')\n",
    "                            # print(report_name)\n",
    "                            \n",
    "                            res_file_link = get_yandex_disk_responce(download_url, public_key, file_path) # получаем ссылку на скачивание отчета\n",
    "                            download_response = requests.get(res_file_link['href'])\n",
    "                            return download_response.content\n",
    "                            # return download_response, report_name\n",
    "                            # parse_yandex_responce(file_name, download_response.content, file_path, main_dict)\n",
    "                                                  "
   ]
  }
 ],
 "metadata": {
  "kernelspec": {
   "display_name": "Python 3 (ipykernel)",
   "language": "python",
   "name": "python3"
  },
  "language_info": {
   "codemirror_mode": {
    "name": "ipython",
    "version": 3
   },
   "file_extension": ".py",
   "mimetype": "text/x-python",
   "name": "python",
   "nbconvert_exporter": "python",
   "pygments_lexer": "ipython3",
   "version": "3.11.7"
  }
 },
 "nbformat": 4,
 "nbformat_minor": 5
}
