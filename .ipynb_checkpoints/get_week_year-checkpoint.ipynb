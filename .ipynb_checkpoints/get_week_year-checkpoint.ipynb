{
 "cells": [
  {
   "cell_type": "code",
   "execution_count": null,
   "id": "d53d6f96-e7f3-41ed-96ee-6176d9ef4eeb",
   "metadata": {},
   "outputs": [],
   "source": [
    "import pandas as pd\n",
    "import numpy as np\n",
    "import os\n",
    "import requests\n",
    "\n",
    "import config\n",
    "from yandex_disk_func import *\n",
    "from parse_functions import *\n",
    "from google_connector import *\n",
    "from date_time_func import *\n",
    "\n",
    "# забираем токен для подключения к гугл\n",
    "service_key = config.service\n",
    "# Ссылка Стас 'https://docs.google.com/spreadsheets/d/1eakG0BJF1eSyi0hyGUpdw166TH_C9h_2zjnyrsMeejk/edit?usp=sharing'\n",
    "# Ссылка Леша 'https://docs.google.com/spreadsheets/d/1cAifkGtKjJh59lg6-g_lRhu7meEFI0j-k0d4T6MkcVs/edit?usp=sharing'\n",
    "google_sheet_link = 'https://docs.google.com/spreadsheets/d/1cAifkGtKjJh59lg6-g_lRhu7meEFI0j-k0d4T6MkcVs/edit?usp=sharing'\n",
    "\n",
    "gmail = config.gmail\n",
    "sheet_name = 'weekYear'"
   ]
  }
 ],
 "metadata": {
  "kernelspec": {
   "display_name": "Python 3 (ipykernel)",
   "language": "python",
   "name": "python3"
  },
  "language_info": {
   "codemirror_mode": {
    "name": "ipython",
    "version": 3
   },
   "file_extension": ".py",
   "mimetype": "text/x-python",
   "name": "python",
   "nbconvert_exporter": "python",
   "pygments_lexer": "ipython3",
   "version": "3.11.7"
  }
 },
 "nbformat": 4,
 "nbformat_minor": 5
}
