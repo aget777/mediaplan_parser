{
 "cells": [
  {
   "cell_type": "code",
   "execution_count": null,
   "id": "df771a49-136a-4593-addc-9c39c92dd5de",
   "metadata": {},
   "outputs": [],
   "source": [
    "import pandas as pd\n",
    "import numpy as np\n",
    "import os\n",
    "import requests\n",
    "from io import BytesIO\n",
    "import json\n",
    "import yadisk\n",
    "from datetime import datetime, date, timedelta\n",
    "from yandex_disk_func import *\n",
    "import re"
   ]
  },
  {
   "cell_type": "code",
   "execution_count": 1,
   "id": "c2d7ce27-d457-4274-a62a-f17bb1fb4e15",
   "metadata": {},
   "outputs": [],
   "source": [
    "# создаем функцию, которая забирает Excel файлы из указанной папки\n",
    "# на входе она принимает след. параметры:\n",
    "# main_folder - основная папка конкретного проекта \n",
    "# yandex_folders - вложенные папки (например - файлы Алексея(источник Яндекс) / файлы Стаса(источник Программатик) / файлы Полины(прочие источники)\n",
    "# yandex_token - токен Яндекс (получаем заранее самостоятельно)\n",
    "# flag - это ключевое слово, которое содержится в названии папки, чтобы можно было понять к кому она отностится\n",
    "# именно эту папку мы и будем прасить\n",
    "def get_data_from_ya_folder(main_folder, yandex_folders, yandex_token, flag='prog'):\n",
    "    public_key = yandex_folders['public_key']  # из ответа Яндекс забираем public_key, чтобы использовать его для скачивания файлов\n",
    "\n",
    "    for i in range(len(yandex_folders['_embedded']['items'])): # через цикл проходим по ответу Яндекса и забираем названия вложенных папок\n",
    "        file_type = yandex_folders['_embedded']['items'][i]['type']\n",
    "        if file_type=='dir':   # если находим файлы с типом dir (папка), то забираем путь к этой папке\n",
    "            folder_path = yandex_folders['_embedded']['items'][i]['path']\n",
    "            print(folder_path)\n",
    "            if flag in folder_path.lower():\n",
    "                yandex_responce = get_yandex_disk_responce(base_public_url, public_key, folder_path) # отправляем запрос, чтобы получить содержимое папки\n",
    "        \n",
    "                # Через цикл проходим по папке с файлами\n",
    "                # Нас интересуют файлы эксель. Причем каждая экселька будет парситься по своему, т.к. они относятся к разным рекламным площадкам\n",
    "                \n",
    "                # Проходим через цикл по содержимому папки (отдельный флайт)\n",
    "                for i in range(len(yandex_responce['_embedded']['items'])):\n",
    "                    file_info = yandex_responce['_embedded']['items'][i]\n",
    "                    if file_info['type']=='file':  # если документ является фалйом(не папкой или изображением), то забираем его название \n",
    "                        file_name = file_info['name'] # сохраняем название файла\n",
    "                        if 'xls' in file_name: # еслит тип файла является xlsx, то уберем расширение и будем его использовать в качесвте названия отчета\n",
    "                            file_path = file_info['path']\n",
    "                            \n",
    "                            report_name = '.'.join(file_name.split('.')[:-1]) # убираем .xlsx из названия файла\n",
    "                            print(report_name)\n",
    "                            \n",
    "                            res_file_link = get_yandex_disk_responce(download_url, public_key, file_path) # получаем ссылку на скачивание отчета\n",
    "                            download_response = requests.get(res_file_link['href'])"
   ]
  }
 ],
 "metadata": {
  "kernelspec": {
   "display_name": "Python 3 (ipykernel)",
   "language": "python",
   "name": "python3"
  },
  "language_info": {
   "codemirror_mode": {
    "name": "ipython",
    "version": 3
   },
   "file_extension": ".py",
   "mimetype": "text/x-python",
   "name": "python",
   "nbconvert_exporter": "python",
   "pygments_lexer": "ipython3",
   "version": "3.11.7"
  }
 },
 "nbformat": 4,
 "nbformat_minor": 5
}
