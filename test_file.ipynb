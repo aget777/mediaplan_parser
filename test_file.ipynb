{
 "cells": [
  {
   "cell_type": "code",
   "execution_count": 1,
   "id": "c2ec9645-994c-48eb-83fe-1353d8d28a79",
   "metadata": {},
   "outputs": [
    {
     "name": "stdout",
     "output_type": "stream",
     "text": [
      "200\n"
     ]
    }
   ],
   "source": [
    "import pandas as pd\n",
    "import numpy as np\n",
    "from io import BytesIO\n",
    "import requests\n",
    "from urllib.parse import urlencode\n",
    "import urllib\n",
    "from requests.auth import HTTPBasicAuth\n",
    "from requests.exceptions import ChunkedEncodingError\n",
    "import os\n",
    "import json\n",
    "import yadisk\n",
    "from datetime import datetime, date, timedelta\n",
    "import locale\n",
    "from time import sleep\n",
    "import shutil\n",
    "import gc\n",
    "import turbodbc\n",
    "from turbodbc import connect\n",
    "import gc\n",
    "from pandas.api.types import is_string_dtype\n",
    "import numpy as np\n",
    "from sqlalchemy import create_engine\n",
    "import pyodbc\n",
    "import warnings\n",
    "import re\n",
    "\n",
    "import config\n",
    "from yandex_disk_func import *\n",
    "from parse_functions import *\n",
    "\n",
    "pd.options.mode.chained_assignment = None\n",
    "\n",
    "# # указываем путь и название файла с токеном для Яндекс Диск\n",
    "file_path = r'C:\\Users\\o.bogomolov\\Desktop\\Jupyter_notebook\\35_mediaplan_parser'\n",
    "# file_name = 'yandex_token.txt'\n",
    "\n",
    "# # сохраняем токен в отдельную переменную\n",
    "yandex_token = config.yandex_token\n",
    "\n",
    "\n",
    "# # указываем путь к основной папке, в которой храняться папки с флайтами\n",
    "main_folder = config.main_folder\n",
    "public_key = config.public_key # обычная ссылка на доступ к папке одного данного ФЛАЙТА из личного кабинета\n",
    "\n",
    "# забираем список папок в нужной нам директории\n",
    "res = get_yandex_disk_folders(public_key)\n",
    "yandex_folders = res.json() # парсим ответ"
   ]
  },
  {
   "cell_type": "code",
   "execution_count": 2,
   "id": "161bc03c-7528-4267-afb3-77a959c63d2a",
   "metadata": {},
   "outputs": [],
   "source": [
    "# Включаем отображение всех колонок\n",
    "pd.set_option('display.max_columns', None)\n",
    "# Задаем ширину столбцов по контенту\n",
    "pd.set_option('display.max_colwidth', None)\n",
    "pd.set_option('display.max_rows', None)\n",
    "pd.options.mode.chained_assignment = None"
   ]
  },
  {
   "cell_type": "code",
   "execution_count": 3,
   "id": "90a48357-4332-403f-9371-9242811751e7",
   "metadata": {},
   "outputs": [],
   "source": [
    "# Создаем функцию для получения содержимого Яндекс диска\n",
    "#  на входе принимаем \n",
    "# - адрес запроса для скачивания файла\n",
    "# - public key, который мы получаем из ответа Яндекс при запросе информации по конкретной папке\n",
    "# - адрес папки\n",
    "# - лимит файлов (максимальное кол-во 80)\n",
    "def get_yandex_disk_responce(request_url, public_key, folder_path, limit=80):\n",
    "    res_url = request_url + urlencode(dict(public_key=public_key, path=folder_path, limit=limit)) # формируем строку запроса\n",
    "    res = requests.get(res_url) # отправляем запрос на сервер\n",
    "    yandex_responce = res.json() # получаем ответ и преобразуем его в json\n",
    "\n",
    "    return yandex_responce"
   ]
  },
  {
   "cell_type": "code",
   "execution_count": 4,
   "id": "1d99e039-3857-44da-a335-3d8ecec1af91",
   "metadata": {},
   "outputs": [
    {
     "name": "stdout",
     "output_type": "stream",
     "text": [
      "/01_yandex\n",
      "/02_prog\n",
      "FirstData_Игроник_Национальная лотерея_Принцесса Нури_СРМ_media_27.08.2024 (1)\n",
      "/03_Полина\n"
     ]
    }
   ],
   "source": [
    "public_key = yandex_folders['public_key']  # из ответа Яндекс забираем public_key, чтобы использовать его для скачивания файлов\n",
    "\n",
    "for i in range(len(yandex_folders['_embedded']['items'])): # через цикл проходим по ответу Яндекса и забираем названия вложенных папок\n",
    "    file_type = yandex_folders['_embedded']['items'][i]['type']\n",
    "    if file_type=='dir':   # если находим файлы с типом dir (папка), то забираем путь к этой папке\n",
    "        folder_path = yandex_folders['_embedded']['items'][i]['path']\n",
    "        print(folder_path)\n",
    "        yandex_responce = get_yandex_disk_responce(base_public_url, public_key, folder_path) # отправляем запрос, чтобы получить содержимое папки\n",
    "\n",
    "        # Через цикл проходим по папке с файлами\n",
    "        # Нас интересуют файлы эксель. Причем каждая экселька будет парситься по своему, т.к. они относятся к разным рекламным площадкам\n",
    "        \n",
    "        # Проходим через цикл по содержимому папки (отдельный флайт)\n",
    "        for i in range(len(yandex_responce['_embedded']['items'])):\n",
    "            file_info = yandex_responce['_embedded']['items'][i]\n",
    "            if file_info['type']=='file':  # если документ является фалйом(не папкой или изображением), то забираем его название \n",
    "                file_name = file_info['name'] # сохраняем название файла\n",
    "                if 'xls' in file_name: # еслит тип файла является xlsx, то уберем расширение и будем его использовать в качесвте названия отчета\n",
    "                    file_path = file_info['path']\n",
    "                    \n",
    "                    report_name = '.'.join(file_name.split('.')[:-1]) # убираем .xlsx из названия файла\n",
    "                    print(report_name)\n",
    "                    res_file_link = get_yandex_disk_responce(download_url, public_key, file_path) # получаем ссылку на скачивание отчета\n",
    "                    download_response = requests.get(res_file_link['href'])"
   ]
  },
  {
   "cell_type": "code",
   "execution_count": 5,
   "id": "72300c65-9a91-4fae-ac0b-e42eb32378fa",
   "metadata": {},
   "outputs": [],
   "source": [
    "data_link = download_response.content"
   ]
  },
  {
   "cell_type": "code",
   "execution_count": 6,
   "id": "5e2c698f-ed11-41c0-afa7-3c6ee4cd1bda",
   "metadata": {},
   "outputs": [],
   "source": [
    "sheet_names = pd.ExcelFile(BytesIO(data_link))"
   ]
  },
  {
   "cell_type": "code",
   "execution_count": 7,
   "id": "3a60205c-19ba-41b8-8c6d-bc3b8122e902",
   "metadata": {},
   "outputs": [
    {
     "data": {
      "text/plain": [
       "['mediaplan 1000к ',\n",
       " 'mediaplan 800к',\n",
       " 'mediaplan 600к',\n",
       " 'Brief_MEDIA',\n",
       " 'Материалы для старта']"
      ]
     },
     "execution_count": 7,
     "metadata": {},
     "output_type": "execute_result"
    }
   ],
   "source": [
    "sheet_names.sheet_names"
   ]
  },
  {
   "cell_type": "code",
   "execution_count": 8,
   "id": "b40e31ae-977b-4134-b82c-d2fc8207845c",
   "metadata": {},
   "outputs": [],
   "source": [
    "# функция для нормализации строк в датаФрейме\n",
    "# на входе принимает поле со строковыми данными\n",
    "# приводит в нижний регистр / обрезает пробелы / удаляет символ переноса строки\n",
    "def normalize_text(column):\n",
    "    return column.str.lower().str.strip().str.replace('\\n', ' ')"
   ]
  },
  {
   "cell_type": "code",
   "execution_count": 9,
   "id": "20b9ee91-8a32-4457-bb2f-9d91b4f1337f",
   "metadata": {},
   "outputs": [],
   "source": [
    "# функция для нормализации заголовков в датаФрейме\n",
    "# на входе принимает строка отдельного заголовка\n",
    "# приводит в нижний регистр / обрезает пробелы / удаляет символ переноса строки / удаляем двойные пробелы\n",
    "def normalize_headers(column):\n",
    "    column = column.lower().strip().replace('\\n', ' ')\n",
    "    column = column.replace('*', '')\n",
    "    column = re.sub(' +', ' ', column)\n",
    "\n",
    "    return column"
   ]
  },
  {
   "cell_type": "code",
   "execution_count": 10,
   "id": "ff02b92d-c5d9-41dc-8d0d-85dc8b44f83e",
   "metadata": {},
   "outputs": [],
   "source": [
    "def normalize_digits(column):\n",
    "    column = str(column)\n",
    "    if '-' in column:\n",
    "        column = '0'\n",
    "    return column"
   ]
  },
  {
   "cell_type": "code",
   "execution_count": 11,
   "id": "08aac123-23bc-47aa-95b0-76d87b714eda",
   "metadata": {},
   "outputs": [],
   "source": [
    "# если в поле с числом содержатся буквы - например 100руб.\n",
    "# функция оставит только числа\n",
    "# если в поле нет букв, только число, то вернется число\n",
    "def get_digits(column):\n",
    "    try:\n",
    "        res = re.sub('\\D', '', column)\n",
    "    except:\n",
    "        res = column\n",
    "    return res"
   ]
  },
  {
   "cell_type": "code",
   "execution_count": 12,
   "id": "fe3838cb-fcc1-421f-9f1e-cd521c795b8d",
   "metadata": {},
   "outputs": [
    {
     "name": "stdout",
     "output_type": "stream",
     "text": [
      "mediaplan 1000к \n",
      "mediaplan 800к\n",
      "mediaplan 600к\n"
     ]
    }
   ],
   "source": [
    "network = 'FirstData'\n",
    "tmp_dict = {}\n",
    "for sheet_name in sheet_names.sheet_names:\n",
    "    \n",
    "    if 'mediaplan' in sheet_name:\n",
    "        print(sheet_name)\n",
    "        df = pd.read_excel(BytesIO(data_link), sheet_name=sheet_name)\n",
    "        # заполняем вниз название истоника\n",
    "        df['Unnamed: 1'] = df['Unnamed: 1'].ffill()\n",
    "        # заполняем вниз таргетинги\n",
    "        df['Unnamed: 2'] = df['Unnamed: 2'].ffill()\n",
    "        # заполяем вниз rotation type - здесь объединенная ячейка, и в этом поле нет названия\n",
    "        # чтобы оно появилось, заранее протягиваем вниз это название\n",
    "        df['Unnamed: 8'] = df['Unnamed: 8'].fillna('rotation type')\n",
    "        # заполняем вниз объединенные ячейки\n",
    "        df = df.fillna('')\n",
    "        # забираем индекс строки, где находится название Бренда\n",
    "        brand_index = list(df[df['Unnamed: 2'].str.lower().str.contains('brand')].index)[0] \n",
    "        # сохраняем название бренда\n",
    "        brand = df['Unnamed: 3'].loc[brand_index] \n",
    "        # забираем период медиаплана\n",
    "        period = df['Unnamed: 3'].loc[brand_index+2] \n",
    "        # забираем индекс начала таблицы\n",
    "        start_index = list(df[df['Unnamed: 1'].str.lower().str.contains('category')].index)[0]\n",
    "        # задаем названия полей\n",
    "        df.columns = df.iloc[start_index].apply(normalize_headers) # забираем название полей из файла\n",
    "        # обрезаем верхнюю часть таблицы. она больше не нужна\n",
    "        df = df.iloc[start_index+2:].reset_index(drop=True)\n",
    "        # забираем окончание таблицы\n",
    "        end_index =list(df[df['category'].str.lower().str.contains('total')].index)[0]\n",
    "        # обрезаем таблицу снизу\n",
    "        df = df.iloc[:end_index].reset_index(drop=True)\n",
    "        # создаем базовый список полей, которые есть всегда вне зависимости от типа размещения\n",
    "        base_columns = ['category', 'targeting by purchase', 'format', 'quantity of units', 'period', \n",
    "                        'price list cost (cost per unit) net ', 'rotation type',\n",
    "                        'total price list cost net', 'reach forecast (uu)', 'frequency total till',\n",
    "                        'impressions', 'clicks']\n",
    "        \n",
    "        # проверяем наличие Видео размещений. Если они есть, то используем дополнительные поля из таблицы\n",
    "        # создаем список уникальных форматов и преобразуем его в одну строку\n",
    "        format_string = ' '.join(list(df['format'].drop_duplicates().apply(lambda x: normalize_headers(x))))\n",
    "\n",
    "        if 'видео' in format_string:\n",
    "            base_columns += ['number of views', 'vtr,%']\n",
    "\n",
    "        df = df[base_columns]\n",
    "        df = df.rename(columns={'category': 'source', 'targeting by purchase': 'targeting', 'format': 'ad copy format', \n",
    "                                'quantity of units': 'unit quantity', 'price list cost (cost per unit) net ': 'unit price', \n",
    "                                'frequency total till': 'frequency', 'reach forecast (uu)': 'reach', \n",
    "                                'total price list cost net' :'budget_without_nds'})\n",
    "        \n",
    "        if 'видео' in format_string:\n",
    "            df = df.rename(columns={'number of views': 'views', 'vtr,%': 'vtr, %'})\n",
    "        # некоторые типы размещений имеют объединенные строки\n",
    "        # например Баннер и универсальный баннер - это 2 строки с объединенными ячейками по расходам, показам и тд.\n",
    "        # поэтому создадим доп. поле, где соединим их названия в одну строку\n",
    "        # создаем пустое поле\n",
    "        df['merge_type_cells'] = ''\n",
    "        # проходим через цикл по датаФрейму\n",
    "        # в первой строке по определению не может быть данных, поэтому сохраняем там название формата\n",
    "        # если это не первая и не посленяя строка, то нам нужно провести проверку\n",
    "        # допустим мы находимся в строке номер 2\n",
    "        # мы проверяем, что находится в строке номер 3 в поле rotation type (на первых шагах мы сделали заполнение вниз)\n",
    "        # соответсвенно если ячейка была пустая, там появится надпись rotation type - так мы поймем, что это как раз объединенные данные\n",
    "        # берем название формата из текущей строки и добавляем к нему название формата из следующей строки\n",
    "        # во всех остальных случаях просто возвращаем название формата из текущей строки\n",
    "        for i in range(len(df)):\n",
    "            base_name = df['ad copy format'][i]\n",
    "        \n",
    "            if i < len(df)-1:\n",
    "                if df['rotation type'][i+1] == 'rotation type':\n",
    "                    base_name = base_name + ' / ' + str(df['ad copy format'][i+1])\n",
    "            else:\n",
    "                base_name = df['ad copy format'][i]\n",
    "            df['merge_type_cells'][i] =  base_name\n",
    "\n",
    "        # забираем окончание таблицы\n",
    "        end_index = list(df[df['unit quantity']==''].index)[0]\n",
    "        # обрезаем таблицу снизу\n",
    "        df = df.iloc[:end_index].reset_index(drop=True)\n",
    "        # передаем новое название формата в нужное нам поле\n",
    "        df['ad copy format'] = df['merge_type_cells']\n",
    "        df = df.drop('merge_type_cells', axis=1)\n",
    "        \n",
    "\n",
    "        df['supplier'] = network\n",
    "        df['report_name'] = sheet_name\n",
    "        df['brand'] = brand\n",
    "        df['period'] = period\n",
    "        df['site/ssp'] = ''\n",
    "        df['placement'] = ''\n",
    "        df['budget_nds'] =(df['budget_without_nds'] * 1.2).astype('float').round(2)\n",
    "        \n",
    "        # нормализуем текстовые поля\n",
    "        text_columns = ['report_name', 'brand', 'period', 'source', 'site/ssp', 'placement', 'targeting', 'ad copy format', 'rotation type']\n",
    "        df[text_columns] = df[text_columns].apply(normalize_text)\n",
    "        \n",
    "        # нормализуем целые числа\n",
    "        int_columns = ['unit quantity', 'reach', 'impressions', 'clicks']\n",
    "        df[int_columns] = df[int_columns].apply(lambda x: x.astype('int'))\n",
    "        # к десятичным приводим только некоторые колонки, т.к. в остальных может встречаться пусто - оно не конвертируется в число\n",
    "        # не хочется тратить на это время\n",
    "        df['budget_without_nds'] = df['budget_without_nds'].astype('float')\n",
    "\n",
    "\n",
    "        base_cols = ['supplier', 'report_name', 'brand', 'period', 'source', 'site/ssp', 'placement', 'targeting', 'ad copy format', 'rotation type',\\\n",
    "                            'unit quantity', 'unit price', 'frequency', 'reach', 'impressions', 'clicks', 'budget_without_nds', 'budget_nds']\n",
    "        if 'views' not in list(df.columns):\n",
    "            df['views'] = 0\n",
    "            df['vtr, %'] = 0.0\n",
    "            media_cols = ['views', 'vtr, %']\n",
    "            base_cols += media_cols\n",
    "\n",
    "        df = df[base_cols]\n",
    "        tmp_dict[sheet_name] = df\n",
    "\n",
    "    # return pd.concat(tmp_dict, ignore_index=True)"
   ]
  },
  {
   "cell_type": "code",
   "execution_count": 13,
   "id": "d476c7cd-b1ac-46c6-9c66-24c470a71787",
   "metadata": {},
   "outputs": [],
   "source": [
    "tmp_df = pd.concat(tmp_dict, ignore_index=True)"
   ]
  },
  {
   "cell_type": "code",
   "execution_count": 14,
   "id": "11596414-c530-4f01-a5d0-2561b1604abe",
   "metadata": {},
   "outputs": [
    {
     "data": {
      "text/html": [
       "<div>\n",
       "<style scoped>\n",
       "    .dataframe tbody tr th:only-of-type {\n",
       "        vertical-align: middle;\n",
       "    }\n",
       "\n",
       "    .dataframe tbody tr th {\n",
       "        vertical-align: top;\n",
       "    }\n",
       "\n",
       "    .dataframe thead th {\n",
       "        text-align: right;\n",
       "    }\n",
       "</style>\n",
       "<table border=\"1\" class=\"dataframe\">\n",
       "  <thead>\n",
       "    <tr style=\"text-align: right;\">\n",
       "      <th>7</th>\n",
       "      <th>supplier</th>\n",
       "      <th>report_name</th>\n",
       "      <th>brand</th>\n",
       "      <th>period</th>\n",
       "      <th>source</th>\n",
       "      <th>site/ssp</th>\n",
       "      <th>placement</th>\n",
       "      <th>targeting</th>\n",
       "      <th>ad copy format</th>\n",
       "      <th>rotation type</th>\n",
       "      <th>unit quantity</th>\n",
       "      <th>unit price</th>\n",
       "      <th>frequency</th>\n",
       "      <th>reach</th>\n",
       "      <th>impressions</th>\n",
       "      <th>clicks</th>\n",
       "      <th>budget_without_nds</th>\n",
       "      <th>budget_nds</th>\n",
       "      <th>views</th>\n",
       "      <th>vtr, %</th>\n",
       "    </tr>\n",
       "  </thead>\n",
       "  <tbody>\n",
       "    <tr>\n",
       "      <th>0</th>\n",
       "      <td>FirstData</td>\n",
       "      <td>mediaplan 1000к</td>\n",
       "      <td>национальная лотерея // принцесса нури</td>\n",
       "      <td>6 months</td>\n",
       "      <td>платформа first data</td>\n",
       "      <td></td>\n",
       "      <td></td>\n",
       "      <td>гео: рф ца: ж, 35-45. доход в, вс. покупатели чая и чайной продукции: принцесса нури, азерчай, ява, riston, майский, ахмад, dilmah, ява, милфорд, липтон и др.  покупатели кондитерских изделий: безе, варенье, джем, повидло, грильяж, желе, зефир, пастила, конфеты, ирис, халва, помадка, муссы, шоколад, торты и др источники: офд</td>\n",
       "      <td>баннеры / универсальные баннеры</td>\n",
       "      <td>cpm</td>\n",
       "      <td>25000000</td>\n",
       "      <td>240</td>\n",
       "      <td>12</td>\n",
       "      <td>2083333</td>\n",
       "      <td>25000000</td>\n",
       "      <td>50000</td>\n",
       "      <td>6000000.0</td>\n",
       "      <td>7200000.0</td>\n",
       "      <td>0</td>\n",
       "      <td>0.0</td>\n",
       "    </tr>\n",
       "    <tr>\n",
       "      <th>1</th>\n",
       "      <td>FirstData</td>\n",
       "      <td>mediaplan 800к</td>\n",
       "      <td>национальная лотерея // принцесса нури</td>\n",
       "      <td>6 months</td>\n",
       "      <td>платформа first data</td>\n",
       "      <td></td>\n",
       "      <td></td>\n",
       "      <td>гео: рф ца: ж, 35-45. доход в, вс. покупатели чая и чайной продукции: принцесса нури, азерчай, ява, riston, майский, ахмад, dilmah, ява, милфорд, липтон и др.  покупатели кондитерских изделий: безе, варенье, джем, повидло, грильяж, желе, зефир, пастила, конфеты, ирис, халва, помадка, муссы, шоколад, торты и др источники: офд</td>\n",
       "      <td>баннеры / универсальные баннеры</td>\n",
       "      <td>cpm</td>\n",
       "      <td>20000000</td>\n",
       "      <td>240</td>\n",
       "      <td>12</td>\n",
       "      <td>1666666</td>\n",
       "      <td>20000000</td>\n",
       "      <td>40000</td>\n",
       "      <td>4800000.0</td>\n",
       "      <td>5760000.0</td>\n",
       "      <td>0</td>\n",
       "      <td>0.0</td>\n",
       "    </tr>\n",
       "    <tr>\n",
       "      <th>2</th>\n",
       "      <td>FirstData</td>\n",
       "      <td>mediaplan 600к</td>\n",
       "      <td>национальная лотерея // принцесса нури</td>\n",
       "      <td>6 months</td>\n",
       "      <td>платформа first data</td>\n",
       "      <td></td>\n",
       "      <td></td>\n",
       "      <td>гео: рф ца: ж, 35-45. доход в, вс. покупатели чая и чайной продукции: принцесса нури, азерчай, ява, riston, майский, ахмад, dilmah, ява, милфорд, липтон и др.  покупатели кондитерских изделий: безе, варенье, джем, повидло, грильяж, желе, зефир, пастила, конфеты, ирис, халва, помадка, муссы, шоколад, торты и др источники: офд</td>\n",
       "      <td>баннеры / универсальные баннеры</td>\n",
       "      <td>cpm</td>\n",
       "      <td>13900000</td>\n",
       "      <td>260</td>\n",
       "      <td>12</td>\n",
       "      <td>1158333</td>\n",
       "      <td>13900000</td>\n",
       "      <td>27800</td>\n",
       "      <td>3614000.0</td>\n",
       "      <td>4336800.0</td>\n",
       "      <td>0</td>\n",
       "      <td>0.0</td>\n",
       "    </tr>\n",
       "  </tbody>\n",
       "</table>\n",
       "</div>"
      ],
      "text/plain": [
       "7   supplier      report_name                                   brand  \\\n",
       "0  FirstData  mediaplan 1000к  национальная лотерея // принцесса нури   \n",
       "1  FirstData   mediaplan 800к  национальная лотерея // принцесса нури   \n",
       "2  FirstData   mediaplan 600к  национальная лотерея // принцесса нури   \n",
       "\n",
       "7    period                source site/ssp placement  \\\n",
       "0  6 months  платформа first data                      \n",
       "1  6 months  платформа first data                      \n",
       "2  6 months  платформа first data                      \n",
       "\n",
       "7                                                                                                                                                                                                                                                                                                                               targeting  \\\n",
       "0  гео: рф ца: ж, 35-45. доход в, вс. покупатели чая и чайной продукции: принцесса нури, азерчай, ява, riston, майский, ахмад, dilmah, ява, милфорд, липтон и др.  покупатели кондитерских изделий: безе, варенье, джем, повидло, грильяж, желе, зефир, пастила, конфеты, ирис, халва, помадка, муссы, шоколад, торты и др источники: офд   \n",
       "1  гео: рф ца: ж, 35-45. доход в, вс. покупатели чая и чайной продукции: принцесса нури, азерчай, ява, riston, майский, ахмад, dilmah, ява, милфорд, липтон и др.  покупатели кондитерских изделий: безе, варенье, джем, повидло, грильяж, желе, зефир, пастила, конфеты, ирис, халва, помадка, муссы, шоколад, торты и др источники: офд   \n",
       "2  гео: рф ца: ж, 35-45. доход в, вс. покупатели чая и чайной продукции: принцесса нури, азерчай, ява, riston, майский, ахмад, dilmah, ява, милфорд, липтон и др.  покупатели кондитерских изделий: безе, варенье, джем, повидло, грильяж, желе, зефир, пастила, конфеты, ирис, халва, помадка, муссы, шоколад, торты и др источники: офд   \n",
       "\n",
       "7                   ad copy format rotation type  unit quantity unit price  \\\n",
       "0  баннеры / универсальные баннеры           cpm       25000000        240   \n",
       "1  баннеры / универсальные баннеры           cpm       20000000        240   \n",
       "2  баннеры / универсальные баннеры           cpm       13900000        260   \n",
       "\n",
       "7 frequency    reach  impressions  clicks  budget_without_nds  budget_nds  \\\n",
       "0        12  2083333     25000000   50000           6000000.0   7200000.0   \n",
       "1        12  1666666     20000000   40000           4800000.0   5760000.0   \n",
       "2        12  1158333     13900000   27800           3614000.0   4336800.0   \n",
       "\n",
       "7  views  vtr, %  \n",
       "0      0     0.0  \n",
       "1      0     0.0  \n",
       "2      0     0.0  "
      ]
     },
     "execution_count": 14,
     "metadata": {},
     "output_type": "execute_result"
    }
   ],
   "source": [
    "tmp_df"
   ]
  },
  {
   "cell_type": "code",
   "execution_count": null,
   "id": "80586039-59ce-4a50-843f-0d076f58d820",
   "metadata": {},
   "outputs": [],
   "source": [
    "\n",
    "list(df[df['unit quantity']==''].index)[0]"
   ]
  },
  {
   "cell_type": "code",
   "execution_count": null,
   "id": "c1c934f7-4ef4-40c4-961f-bd100dcbc413",
   "metadata": {},
   "outputs": [],
   "source": [
    "df['ad copy format'][0]"
   ]
  },
  {
   "cell_type": "code",
   "execution_count": null,
   "id": "267f6281-b6dd-4159-a0bd-240574cb930e",
   "metadata": {},
   "outputs": [],
   "source": [
    "df.iloc[:2]"
   ]
  },
  {
   "cell_type": "code",
   "execution_count": null,
   "id": "e3d097a6-0aef-4835-bbfb-cf013ba19bc0",
   "metadata": {},
   "outputs": [],
   "source": [
    "df.columns"
   ]
  },
  {
   "cell_type": "code",
   "execution_count": null,
   "id": "d0d0164d-561d-48ae-982b-d9cf76348888",
   "metadata": {},
   "outputs": [],
   "source": [
    "df = pd.read_excel(BytesIO(data_link), sheet_name='Plan_Media')\n",
    "# заполняем вниз объединенные ячейки\n",
    "df['Unnamed: 1'] = df['Unnamed: 1'].ffill()\n",
    "df['Unnamed: 2'] = df['Unnamed: 2'].ffill()\n",
    "df['Unnamed: 3'] = df['Unnamed: 3'].ffill()\n",
    "df = df.fillna('')\n",
    "# забираем индекс строки, где находится название Бренда\n",
    "brand_index = list(df[df['Unnamed: 1'].str.lower().str.contains('brand')].index)[0] \n",
    "# сохраняем название бренда\n",
    "brand = df['Unnamed: 2'].loc[brand_index] \n",
    "# забираем период медиаплана\n",
    "period = df['Unnamed: 2'].loc[brand_index+1] \n",
    "# забираем индекс начала таблицы\n",
    "start_index = list(df[df['Unnamed: 1'].str.lower().str.contains('source')].index)[0]\n",
    "# задаем названия полей\n",
    "df.columns = df.iloc[start_index].apply(normalize_headers) # забираем название полей из файла\n",
    "# обрезаем верхнюю часть таблицы. она больше не нужна\n",
    "df = df.iloc[start_index+2:].reset_index(drop=True)\n",
    "# забираем окончание таблицы\n",
    "end_index = list(df[df['source'].str.lower().str.contains('итого')].index)[0]\n",
    "# обрезаем таблицу снизу\n",
    "df = df.iloc[:end_index].reset_index(drop=True)\n",
    "\n",
    "# # # определяем к какрму типу рекламы относятся строки\n",
    "if 'banners' in list(df['ad copy format'].drop_duplicates().apply(normalize_headers)) \\\n",
    "and len(list(df['ad copy format'].drop_duplicates().apply(normalize_headers)))<2:\n",
    "    # оставляем только нужные поля\n",
    "    df = df[['source', 'site/ssp', 'placement', 'targeting', 'ad copy format', 'unit', 'rotation type', \n",
    "     'unit quantity', 'unit price', 'frequency', 'reach', 'impressions', 'clicks', 'ratecard price per period (rub, net)']]\n",
    "else:\n",
    "    df = df[['source', 'site/ssp', 'placement', 'targeting', 'ad copy format', 'unit', 'rotation type', \n",
    "     'unit quantity', 'unit price', 'frequency', 'reach', 'impressions', 'clicks', 'views', 'vtr, %', 'ratecard price per period (rub, net)']]\n",
    "    # убираем знак -, если он есть\n",
    "    # убираем знак рубля, если он есть в стоимости\n",
    "\n",
    "    \n",
    "    df['views'] = df['views'].apply(normalize_digits)\n",
    "    df['vtr, %'] = df['vtr, %'].apply(normalize_digits)\n",
    "    # нормализуем десятичные числа\n",
    "    df['views'] = df['views'].astype('int')\n",
    "    df['vtr, %'] = df['vtr, %'].astype('float')\n",
    "\n",
    " # создаем список с названиями текстовых полей для их нормализации\n",
    "df = df.rename(columns={'ratecard price per period (rub, net)': 'budget_without_nds'})\n",
    "df['brand'] = brand\n",
    "df['period'] = period\n",
    "text_columns = ['brand', 'period', 'source', 'site/ssp', 'placement', 'targeting', 'ad copy format', 'rotation type']\n",
    "df[text_columns] = df[text_columns].apply(normalize_text)\n",
    "\n",
    "# убираем знак рубля, если он есть в стоимости\n",
    "currecny_columns = ['unit', 'unit quantity']\n",
    "df[currecny_columns] = df[currecny_columns].apply(get_digits)\n",
    "\n",
    "# нормализуем целые числа\n",
    "int_columns = ['unit quantity', 'reach', 'impressions', 'clicks']\n",
    "df[int_columns] = df[int_columns].apply(lambda x: x.astype('int'))\n",
    "\n",
    "# добавляем рассчитываемые показатели\n",
    "# df['budget_without_nds'] = ((df['unit quantity'] / 1000) * df['unit price']).astype('float')\n",
    "df['budget_without_nds'] = df['budget_without_nds'].astype('float')\n",
    "df['budget_nds'] =(df['budget_without_nds'] * 1.2).astype('float').round(2)\n"
   ]
  },
  {
   "cell_type": "code",
   "execution_count": null,
   "id": "4a4aaff8-fa3c-4bdd-90ea-7291fd74c8bc",
   "metadata": {},
   "outputs": [],
   "source": [
    "df"
   ]
  },
  {
   "cell_type": "code",
   "execution_count": null,
   "id": "a55788b8-cce0-4fef-ae46-452d62019bac",
   "metadata": {},
   "outputs": [],
   "source": [
    "\n",
    "\n",
    "# добавляем рассчитываемые показатели\n",
    "df['budget'] = (df['unit quantity'] / 1000) * df['unit price']\n",
    "df['ctr%'] = ((df['clicks'] / df['impressions'])*100).round(2)\n",
    "df['cpc'] = (df['budget'].astype('float') / df['clicks'].astype('float')).round(2)\n",
    "df['cpm'] = ((df['budget'].astype('float') / df['impressions'].astype('float'))*1000).round(2)"
   ]
  },
  {
   "cell_type": "code",
   "execution_count": null,
   "id": "327433e7-2c18-48d2-95bf-20cb8edd2d7f",
   "metadata": {},
   "outputs": [],
   "source": [
    "list(df['ad copy format'].drop_duplicates().apply(normalize_headers, axis=1))"
   ]
  },
  {
   "cell_type": "code",
   "execution_count": null,
   "id": "ffcfb1b0-5fc4-48d3-a7a1-51d51401078d",
   "metadata": {},
   "outputs": [],
   "source": [
    "df.head()"
   ]
  },
  {
   "cell_type": "code",
   "execution_count": null,
   "id": "3643d59c-ed6c-4b43-a73d-1e4ad2dafe8b",
   "metadata": {},
   "outputs": [],
   "source": [
    "ad_type"
   ]
  },
  {
   "cell_type": "code",
   "execution_count": null,
   "id": "74894c67-2d90-4a17-aeb7-c4ac9ead030c",
   "metadata": {},
   "outputs": [],
   "source": [
    "df.columns"
   ]
  },
  {
   "cell_type": "code",
   "execution_count": null,
   "id": "a7732251-2322-4a08-8ef6-8b2c8b67b561",
   "metadata": {},
   "outputs": [],
   "source": [
    "df['ad copy  format']"
   ]
  },
  {
   "cell_type": "code",
   "execution_count": null,
   "id": "4c2ffe12-75dd-48a3-b993-d13c3ecb7a19",
   "metadata": {},
   "outputs": [],
   "source": [
    "df"
   ]
  },
  {
   "cell_type": "code",
   "execution_count": null,
   "id": "c7814155-bae3-4a12-ad99-e26cbc19f2b8",
   "metadata": {},
   "outputs": [],
   "source": []
  },
  {
   "cell_type": "code",
   "execution_count": null,
   "id": "ec103263-ea51-463a-97e3-c3ded390cf1a",
   "metadata": {},
   "outputs": [],
   "source": []
  },
  {
   "cell_type": "code",
   "execution_count": null,
   "id": "17d27423-6d53-4da1-8f0e-97e61942de1f",
   "metadata": {},
   "outputs": [],
   "source": [
    "\n",
    "df = pd.read_excel(BytesIO(data_link), sheet_name='Plan_Media')\n",
    "# заполняем вниз объединенные ячейки\n",
    "df['Unnamed: 1'] = df['Unnamed: 1'].ffill()\n",
    "df['Unnamed: 2'] = df['Unnamed: 2'].ffill()\n",
    "df['Unnamed: 3'] = df['Unnamed: 3'].ffill()\n",
    "df = df.fillna('')\n",
    "# забираем индекс строки, где находится название Бренда\n",
    "brand_index = list(df[df['Unnamed: 1'].str.lower().str.contains('brand')].index)[0] \n",
    "# сохраняем название бренда\n",
    "brand = df['Unnamed: 2'].loc[brand_index] \n",
    "# забираем период медиаплана\n",
    "period = df['Unnamed: 2'].loc[brand_index+1] \n",
    "# забираем индекс начала таблицы\n",
    "start_index = list(df[df['Unnamed: 1'].str.lower().str.contains('source')].index)[0]\n",
    "# задаем названия полей\n",
    "df.columns = df.iloc[start_index].str.lower().str.strip().str.replace('\\n', ' ') # забираем название полей из файла\n",
    "# обрезаем верхнюю часть таблицы. она больше не нужна\n",
    "df = df.iloc[start_index+2:].reset_index(drop=True)\n",
    "# забираем окончание таблицы\n",
    "end_index = list(df[df['source'].str.lower().str.contains('итого')].index)[0]\n",
    "# обрезаем таблицу снизу\n",
    "df = df.iloc[:end_index].reset_index(drop=True)\n",
    "\n",
    "# определяем к какрму типу рекламы относятся строки\n",
    "ad_type = df['ad copy format'].loc[0]\n",
    "\n",
    "if 'banner' in ad_type.lower():\n",
    "    # оставляем только нужные поля\n",
    "    df = df[['source', 'site/ssp', 'placement', 'targeting', 'ad copy format', 'unit', 'rotation type', \n",
    "     'unit quantity', 'unit price', 'frequency', 'reach', 'impressions', 'clicks']]\n",
    "# создаем список с названиями текстовых полей для их нормализации\n",
    "text_columns = ['source', 'site/ssp', 'placement', 'targeting', 'ad copy format', 'rotation type']\n",
    "df[text_columns] = df[text_columns].apply(normalize_text)\n",
    "\n",
    "# убираем знак рубля, если он есть в стоимости\n",
    "currecny_columns = ['unit', 'unit quantity']\n",
    "df[currecny_columns] = df[currecny_columns].apply(get_digits)\n",
    "\n",
    "\n",
    "\n"
   ]
  },
  {
   "cell_type": "code",
   "execution_count": null,
   "id": "cc8f2dc9-9ba2-4a9d-ba66-e767e563c5af",
   "metadata": {},
   "outputs": [],
   "source": []
  },
  {
   "cell_type": "code",
   "execution_count": null,
   "id": "ad5abbcb-8576-4a4a-a482-074497a90819",
   "metadata": {},
   "outputs": [],
   "source": [
    "df = pd.read_excel(BytesIO(data_link), sheet_name='Statistics by creative', skiprows=1)\n"
   ]
  },
  {
   "cell_type": "code",
   "execution_count": null,
   "id": "4b7a64cd-4e7b-424a-ab03-12cc97198166",
   "metadata": {},
   "outputs": [],
   "source": [
    "len(df)"
   ]
  },
  {
   "cell_type": "code",
   "execution_count": null,
   "id": "486674ec-a1c5-4e38-a448-530e885927c2",
   "metadata": {},
   "outputs": [],
   "source": []
  },
  {
   "cell_type": "code",
   "execution_count": null,
   "id": "306c868d-bfe8-45a8-87b7-3956a00d41d9",
   "metadata": {},
   "outputs": [],
   "source": []
  },
  {
   "cell_type": "code",
   "execution_count": null,
   "id": "a781ca26-77a3-43c9-a6cc-2ccfaf017e6b",
   "metadata": {},
   "outputs": [],
   "source": []
  },
  {
   "cell_type": "code",
   "execution_count": null,
   "id": "2cfe4302-86e3-4956-817a-0daff2100ef9",
   "metadata": {},
   "outputs": [],
   "source": []
  },
  {
   "cell_type": "code",
   "execution_count": null,
   "id": "9ef1612f-58b9-4c4c-afab-41716f82427c",
   "metadata": {},
   "outputs": [],
   "source": []
  },
  {
   "cell_type": "code",
   "execution_count": null,
   "id": "5bf6f1aa-6c62-4a88-a24d-5bffacb198af",
   "metadata": {},
   "outputs": [],
   "source": []
  },
  {
   "cell_type": "code",
   "execution_count": null,
   "id": "787a893f-67e4-46d7-aee7-7cd175aba007",
   "metadata": {},
   "outputs": [],
   "source": []
  },
  {
   "cell_type": "code",
   "execution_count": null,
   "id": "7f9e0bba-8776-4676-946f-307100e09598",
   "metadata": {},
   "outputs": [],
   "source": []
  },
  {
   "cell_type": "code",
   "execution_count": null,
   "id": "4733fbd6-0d40-4c2f-ad85-4974cb1b8aa9",
   "metadata": {},
   "outputs": [],
   "source": []
  },
  {
   "cell_type": "code",
   "execution_count": null,
   "id": "001a8114-bfce-4a94-b51a-232bb246cfd7",
   "metadata": {},
   "outputs": [],
   "source": []
  },
  {
   "cell_type": "code",
   "execution_count": null,
   "id": "de92f493-a671-416e-aacf-a9eb9330f03e",
   "metadata": {},
   "outputs": [],
   "source": []
  },
  {
   "cell_type": "code",
   "execution_count": null,
   "id": "3b0a1ce1-4a5e-4cf9-92c8-71801f59fdfa",
   "metadata": {},
   "outputs": [],
   "source": []
  },
  {
   "cell_type": "code",
   "execution_count": null,
   "id": "460f0d1c-12ef-4071-8678-3ac54a10cec1",
   "metadata": {},
   "outputs": [],
   "source": []
  },
  {
   "cell_type": "code",
   "execution_count": null,
   "id": "a4d09ee8-5501-43bb-95a9-c8fa6dec98a8",
   "metadata": {},
   "outputs": [],
   "source": []
  },
  {
   "cell_type": "code",
   "execution_count": null,
   "id": "e5bce96a-f6d0-4110-97bf-594d14e2fdbc",
   "metadata": {},
   "outputs": [],
   "source": []
  },
  {
   "cell_type": "code",
   "execution_count": null,
   "id": "a63568b8-d4ee-4640-acab-57b2e2800869",
   "metadata": {},
   "outputs": [],
   "source": []
  },
  {
   "cell_type": "code",
   "execution_count": null,
   "id": "a98b2896-8a48-4ecb-ba47-25feaf9e47bc",
   "metadata": {},
   "outputs": [],
   "source": []
  },
  {
   "cell_type": "code",
   "execution_count": null,
   "id": "fc047506-f719-43d7-88c5-6bf64bd23f88",
   "metadata": {},
   "outputs": [],
   "source": []
  },
  {
   "cell_type": "code",
   "execution_count": null,
   "id": "320b4793-1b15-4581-8cc5-34655a7752a3",
   "metadata": {},
   "outputs": [],
   "source": []
  },
  {
   "cell_type": "code",
   "execution_count": null,
   "id": "f70f18bb-3e59-4990-934b-d20ae8fb9ea7",
   "metadata": {},
   "outputs": [],
   "source": []
  },
  {
   "cell_type": "code",
   "execution_count": null,
   "id": "4e6ce795-37e8-4ea1-a74b-36c2697c03cf",
   "metadata": {},
   "outputs": [],
   "source": []
  },
  {
   "cell_type": "code",
   "execution_count": null,
   "id": "fb62101c-13ce-40ad-8b7e-b6c608742af6",
   "metadata": {},
   "outputs": [],
   "source": []
  }
 ],
 "metadata": {
  "kernelspec": {
   "display_name": "Python 3 (ipykernel)",
   "language": "python",
   "name": "python3"
  },
  "language_info": {
   "codemirror_mode": {
    "name": "ipython",
    "version": 3
   },
   "file_extension": ".py",
   "mimetype": "text/x-python",
   "name": "python",
   "nbconvert_exporter": "python",
   "pygments_lexer": "ipython3",
   "version": "3.11.7"
  }
 },
 "nbformat": 4,
 "nbformat_minor": 5
}
