{
 "cells": [
  {
   "cell_type": "code",
   "execution_count": 1,
   "id": "c2ec9645-994c-48eb-83fe-1353d8d28a79",
   "metadata": {},
   "outputs": [
    {
     "name": "stdout",
     "output_type": "stream",
     "text": [
      "200\n"
     ]
    }
   ],
   "source": [
    "import pandas as pd\n",
    "import numpy as np\n",
    "from io import BytesIO\n",
    "import requests\n",
    "from urllib.parse import urlencode\n",
    "import urllib\n",
    "from requests.auth import HTTPBasicAuth\n",
    "from requests.exceptions import ChunkedEncodingError\n",
    "import os\n",
    "import json\n",
    "import yadisk\n",
    "from datetime import datetime, date, timedelta\n",
    "import locale\n",
    "from time import sleep\n",
    "import shutil\n",
    "import gc\n",
    "import turbodbc\n",
    "from turbodbc import connect\n",
    "import gc\n",
    "from pandas.api.types import is_string_dtype\n",
    "import numpy as np\n",
    "from sqlalchemy import create_engine\n",
    "import pyodbc\n",
    "import warnings\n",
    "import re\n",
    "\n",
    "import config\n",
    "from yandex_disk_func import *\n",
    "from parse_functions import *\n",
    "\n",
    "\n",
    "\n",
    "# # указываем путь и название файла с токеном для Яндекс Диск\n",
    "file_path = r'C:\\Users\\o.bogomolov\\Desktop\\Jupyter_notebook\\35_mediaplan_parser'\n",
    "\n",
    "public_key = config.public_key # обычная ссылка на доступ к папке одного данного ФЛАЙТА из личного кабинета\n",
    "\n",
    "# забираем список папок в нужной нам директории\n",
    "res = get_yandex_disk_folders(public_key)\n",
    "yandex_folders = res.json() # парсим ответ"
   ]
  },
  {
   "cell_type": "code",
   "execution_count": 2,
   "id": "161bc03c-7528-4267-afb3-77a959c63d2a",
   "metadata": {},
   "outputs": [],
   "source": [
    "# Включаем отображение всех колонок\n",
    "pd.set_option('display.max_columns', None)\n",
    "# Задаем ширину столбцов по контенту\n",
    "pd.set_option('display.max_colwidth', None)\n",
    "pd.set_option('display.max_rows', None)\n",
    "pd.options.mode.chained_assignment = None\n",
    "warnings.filterwarnings('ignore', category=UserWarning, module='openpyxl')\n",
    "pd.options.mode.chained_assignment = None"
   ]
  },
  {
   "cell_type": "code",
   "execution_count": 3,
   "id": "90a48357-4332-403f-9371-9242811751e7",
   "metadata": {},
   "outputs": [],
   "source": [
    "base_cols = ['supplier', 'report_name', 'sheet_name', 'brand', 'period', 'source', 'site/ssp', 'placement', \n",
    "                     'targeting', 'geo', 'soc_dem', 'ad copy format', 'rotation type', \n",
    "                     'unit price', 'frequency', 'reach', 'impressions', 'clicks', \n",
    "             'budget_without_nds', 'budget_nds', 'views', 'vtr, %']"
   ]
  },
  {
   "cell_type": "code",
   "execution_count": 5,
   "id": "1d99e039-3857-44da-a335-3d8ecec1af91",
   "metadata": {},
   "outputs": [
    {
     "name": "stdout",
     "output_type": "stream",
     "text": [
      "/01_yandex\n",
      "/02_prog\n",
      "Plan_Игроник_РСХБ_beeline_Свой вклад_banners_160724 (1).xlsx\n",
      "/03_Полина\n"
     ]
    }
   ],
   "source": [
    "public_key = yandex_folders['public_key']  # из ответа Яндекс забираем public_key, чтобы использовать его для скачивания файлов\n",
    "\n",
    "for i in range(len(yandex_folders['_embedded']['items'])): # через цикл проходим по ответу Яндекса и забираем названия вложенных папок\n",
    "    file_type = yandex_folders['_embedded']['items'][i]['type']\n",
    "    if file_type=='dir':   # если находим файлы с типом dir (папка), то забираем путь к этой папке\n",
    "        folder_path = yandex_folders['_embedded']['items'][i]['path']\n",
    "        print(folder_path)\n",
    "        yandex_responce = get_yandex_disk_responce(base_public_url, public_key, folder_path) # отправляем запрос, чтобы получить содержимое папки\n",
    "\n",
    "        # Через цикл проходим по папке с файлами\n",
    "        # Нас интересуют файлы эксель. Причем каждая экселька будет парситься по своему, т.к. они относятся к разным рекламным площадкам\n",
    "        \n",
    "        # Проходим через цикл по содержимому папки (отдельный флайт)\n",
    "        for i in range(len(yandex_responce['_embedded']['items'])):\n",
    "            file_info = yandex_responce['_embedded']['items'][i]\n",
    "            if file_info['type']=='file':  # если документ является фалйом(не папкой или изображением), то забираем его название \n",
    "                file_name = file_info['name'] # сохраняем название файла\n",
    "                if 'xls' in file_name: # еслит тип файла является xlsx, то уберем расширение и будем его использовать в качесвте названия отчета\n",
    "                    file_path = file_info['path']\n",
    "                    \n",
    "                    # report_name = '.'.join(file_name.split('.')[:-1]) # убираем .xlsx из названия файла\n",
    "                    print(file_name)\n",
    "                    res_file_link = get_yandex_disk_responce(download_url, public_key, file_path) # получаем ссылку на скачивание отчета\n",
    "                    download_response = requests.get(res_file_link['href'])"
   ]
  },
  {
   "cell_type": "code",
   "execution_count": 6,
   "id": "72300c65-9a91-4fae-ac0b-e42eb32378fa",
   "metadata": {},
   "outputs": [],
   "source": [
    "data_link = download_response.content"
   ]
  },
  {
   "cell_type": "code",
   "execution_count": 7,
   "id": "5e2c698f-ed11-41c0-afa7-3c6ee4cd1bda",
   "metadata": {},
   "outputs": [],
   "source": [
    "sheet_names = pd.ExcelFile(BytesIO(data_link))"
   ]
  },
  {
   "cell_type": "code",
   "execution_count": null,
   "id": "3a60205c-19ba-41b8-8c6d-bc3b8122e902",
   "metadata": {},
   "outputs": [],
   "source": []
  },
  {
   "cell_type": "code",
   "execution_count": 8,
   "id": "05a69270-d25d-46da-89b1-964873a033d4",
   "metadata": {},
   "outputs": [
    {
     "data": {
      "text/plain": [
       "['Plan_Media', 'ТТ_Media', 'РЕДАКЦИОННАЯ ПОЛИТИКА БИЛАЙН']"
      ]
     },
     "execution_count": 8,
     "metadata": {},
     "output_type": "execute_result"
    }
   ],
   "source": [
    "sheet_names.sheet_names"
   ]
  },
  {
   "cell_type": "code",
   "execution_count": 26,
   "id": "946b2620-babe-4af7-a290-bc8f8422f90a",
   "metadata": {},
   "outputs": [],
   "source": [
    "sheet_name='Plan_Media'\n",
    "df = pd.read_excel(BytesIO(data_link), sheet_name=sheet_name, header=None)\n",
    "sheet_name = normalize_headers(sheet_name)\n",
    "# забираем индекс начала таблицы\n",
    "start_index = get_index_row(df, 1, 'source')\n",
    "# забираем название полей из файла\n",
    "col_names_list = df.iloc[start_index].fillna('').apply(normalize_headers)\n",
    "\n",
    "ffill_columns = [1, 2, 3, 4]\n",
    "df[ffill_columns] = df[ffill_columns].ffill(limit=1) # заполняем вниз\n",
    "df = df.fillna('')\n",
    "\n",
    "# сохраняем название бренда\n",
    "brand = df[2].loc[get_index_row(df, 1, 'brand')] \n",
    "# сохраняем период\n",
    "period = df[2].loc[get_index_row(df, 1, 'period')]\n",
    "# задаем названия полей\n",
    "df.columns = df.iloc[start_index].apply(normalize_headers) # забираем название полей из файла\n",
    "# обрезаем верхнюю часть таблицы. она больше не нужна\n",
    "df = df.iloc[start_index+2:].reset_index(drop=True)\n",
    "# забираем окончание таблицы\n",
    "end_index = get_index_row(df, 'source', 'итого')\n",
    "# обрезаем таблицу снизу\n",
    "df = df.iloc[:end_index].reset_index(drop=True)"
   ]
  },
  {
   "cell_type": "code",
   "execution_count": 27,
   "id": "7f2ba58f-f515-4a04-8842-35ebe4650a49",
   "metadata": {},
   "outputs": [
    {
     "data": {
      "text/html": [
       "<div>\n",
       "<style scoped>\n",
       "    .dataframe tbody tr th:only-of-type {\n",
       "        vertical-align: middle;\n",
       "    }\n",
       "\n",
       "    .dataframe tbody tr th {\n",
       "        vertical-align: top;\n",
       "    }\n",
       "\n",
       "    .dataframe thead th {\n",
       "        text-align: right;\n",
       "    }\n",
       "</style>\n",
       "<table border=\"1\" class=\"dataframe\">\n",
       "  <thead>\n",
       "    <tr style=\"text-align: right;\">\n",
       "      <th>11</th>\n",
       "      <th></th>\n",
       "      <th>source</th>\n",
       "      <th>site/ssp</th>\n",
       "      <th>placement</th>\n",
       "      <th>targeting</th>\n",
       "      <th>ad copy format</th>\n",
       "      <th>unit quantity</th>\n",
       "      <th>rotation type</th>\n",
       "      <th>unit price</th>\n",
       "      <th>unit</th>\n",
       "      <th>ratecard price per period (rub, net)</th>\n",
       "      <th>frequency</th>\n",
       "      <th>reach</th>\n",
       "      <th>impressions</th>\n",
       "      <th>cpm, (rub, net)</th>\n",
       "      <th>ctr, %</th>\n",
       "      <th>cpc</th>\n",
       "      <th>clicks</th>\n",
       "    </tr>\n",
       "  </thead>\n",
       "  <tbody>\n",
       "    <tr>\n",
       "      <th>0</th>\n",
       "      <td></td>\n",
       "      <td>beeline AI</td>\n",
       "      <td>DSP</td>\n",
       "      <td>Desktop + mobile \\n(+in-app)</td>\n",
       "      <td>ГЕО: РФ, кроме Крыма\\nЦА: Все 25-65, ядро 30-45 (Ж 50%/М 50%)\\n• Доход от 30 000 руб/мес, ядро от 70 000 руб/мес\\n• Интерес к вкладам\\n• Пользователи, которые интересуются банковскими продуктами, посещают разделы банковских порталов и сайтов о вкладах\\n• Установлено приложение/посещают сайты/получают смс от банков-конкурентов\\n• Интересуются вступлением в наследство, порядком наследования\\n• Посетители, которых интересует купле-продажа недвижимости, земельных участков\\n• Ключевые слова \"вклады</td>\n",
       "      <td>Banners</td>\n",
       "      <td>47348485</td>\n",
       "      <td>CPM</td>\n",
       "      <td>88</td>\n",
       "      <td>1000 imp.</td>\n",
       "      <td>4166666.68</td>\n",
       "      <td>3</td>\n",
       "      <td>15782828.333333</td>\n",
       "      <td>47348485</td>\n",
       "      <td>88.0</td>\n",
       "      <td>0.0013</td>\n",
       "      <td>67.692308</td>\n",
       "      <td>61553.0305</td>\n",
       "    </tr>\n",
       "  </tbody>\n",
       "</table>\n",
       "</div>"
      ],
      "text/plain": [
       "11        source site/ssp                     placement  \\\n",
       "0     beeline AI      DSP  Desktop + mobile \\n(+in-app)   \n",
       "\n",
       "11                                                                                                                                                                                                                                                                                                                                                                                                                                                                                                           targeting  \\\n",
       "0   ГЕО: РФ, кроме Крыма\\nЦА: Все 25-65, ядро 30-45 (Ж 50%/М 50%)\\n• Доход от 30 000 руб/мес, ядро от 70 000 руб/мес\\n• Интерес к вкладам\\n• Пользователи, которые интересуются банковскими продуктами, посещают разделы банковских порталов и сайтов о вкладах\\n• Установлено приложение/посещают сайты/получают смс от банков-конкурентов\\n• Интересуются вступлением в наследство, порядком наследования\\n• Посетители, которых интересует купле-продажа недвижимости, земельных участков\\n• Ключевые слова \"вклады   \n",
       "\n",
       "11 ad copy format unit quantity rotation type unit price       unit  \\\n",
       "0         Banners      47348485           CPM         88  1000 imp.   \n",
       "\n",
       "11 ratecard price per period (rub, net) frequency            reach  \\\n",
       "0                            4166666.68         3  15782828.333333   \n",
       "\n",
       "11 impressions cpm, (rub, net)  ctr, %        cpc      clicks  \n",
       "0     47348485            88.0  0.0013  67.692308  61553.0305  "
      ]
     },
     "execution_count": 27,
     "metadata": {},
     "output_type": "execute_result"
    }
   ],
   "source": [
    "df"
   ]
  },
  {
   "cell_type": "code",
   "execution_count": 17,
   "id": "c176f39d-52e4-46d9-9558-8c8c9d5fe981",
   "metadata": {},
   "outputs": [],
   "source": []
  },
  {
   "cell_type": "code",
   "execution_count": 18,
   "id": "9bf5042c-1cb6-4ed8-af64-0f56b94d2e20",
   "metadata": {},
   "outputs": [
    {
     "data": {
      "text/plain": [
       "1"
      ]
     },
     "execution_count": 18,
     "metadata": {},
     "output_type": "execute_result"
    }
   ],
   "source": [
    "col_index"
   ]
  },
  {
   "cell_type": "code",
   "execution_count": 15,
   "id": "d16f3dd0-d397-4327-a429-b18b2d369d40",
   "metadata": {},
   "outputs": [],
   "source": []
  },
  {
   "cell_type": "code",
   "execution_count": 16,
   "id": "b0a04344-0a6e-42cf-9469-0c4db14f7733",
   "metadata": {},
   "outputs": [
    {
     "data": {
      "text/plain": [
       "0                                         \n",
       "1                                   source\n",
       "2                                 site/ssp\n",
       "3                                placement\n",
       "4                                targeting\n",
       "5                           ad copy format\n",
       "6                            unit quantity\n",
       "7                            rotation type\n",
       "8                               unit price\n",
       "9                                     unit\n",
       "10    ratecard price per period (rub, net)\n",
       "11                               frequency\n",
       "12                                   reach\n",
       "13                             impressions\n",
       "14                         cpm, (rub, net)\n",
       "15                                  ctr, %\n",
       "16                                     cpc\n",
       "17                                  clicks\n",
       "Name: 11, dtype: object"
      ]
     },
     "execution_count": 16,
     "metadata": {},
     "output_type": "execute_result"
    }
   ],
   "source": [
    "col_names_list"
   ]
  },
  {
   "cell_type": "code",
   "execution_count": null,
   "id": "c7ade934-1f30-4dcb-88ad-79876bc5f279",
   "metadata": {},
   "outputs": [],
   "source": [
    "# источник Beeline\n",
    "# типы размещения Видео и Баннерная реклама\n",
    "# Функция для обработки медиаплана \n",
    "# 1. Медиаплан для обработки находится на листе Plan_Media \n",
    "# 2. В столбике B  находится слово Brand справа от него в столбике C название Бренда\n",
    "# 3. В столбике B  находится слово Period справа от него в столбике C название указан период медиаплана\n",
    "# 4. В столбике B  должно находиться поле Source\n",
    "# 5. Каждая таблица должна заканчиваться строкой итогов \n",
    "\n",
    "def get_beeline_mediaplan(data_link, network, report_name):\n",
    "    sheet_name='Plan_Media'\n",
    "    df = pd.read_excel(BytesIO(data_link), sheet_name=sheet_name)\n",
    "    sheet_name = normalize_headers(sheet_name)\n",
    "    # заполняем вниз объединенные ячейки\n",
    "    df['Unnamed: 1'] = df['Unnamed: 1'].ffill()\n",
    "    df['Unnamed: 2'] = df['Unnamed: 2'].ffill()\n",
    "    df['Unnamed: 3'] = df['Unnamed: 3'].ffill()\n",
    "    df['Unnamed: 4'] = df['Unnamed: 4'].ffill()\n",
    "    df = df.fillna('')\n",
    "\n",
    "    # сохраняем название бренда\n",
    "    brand = df['Unnamed: 2'].loc[get_index_row(df, 'Unnamed: 1', 'brand')] \n",
    "    # сохраняем период\n",
    "    period = df['Unnamed: 2'].loc[get_index_row(df, 'Unnamed: 1', 'period')]\n",
    "    # забираем индекс начала таблицы\n",
    "    start_index = get_index_row(df, 'Unnamed: 1', 'source')\n",
    "\n",
    "    \n",
    "    # задаем названия полей\n",
    "    df.columns = df.iloc[start_index].apply(normalize_headers) # забираем название полей из файла\n",
    "    # обрезаем верхнюю часть таблицы. она больше не нужна\n",
    "    df = df.iloc[start_index+2:].reset_index(drop=True)\n",
    "    # забираем окончание таблицы\n",
    "    end_index = get_index_row(df, 'source', 'итого')\n",
    "    # обрезаем таблицу снизу\n",
    "    df = df.iloc[:end_index].reset_index(drop=True)\n",
    "    # создаем базовый список полей, которые есть всегда вне зависимости от типа размещения\n",
    "    standart_columns = ['source', 'site/ssp', 'placement', 'targeting', 'ad copy format', 'unit', 'rotation type', \n",
    "          'unit price', 'frequency', 'reach', 'impressions', 'clicks', 'ratecard price per period (rub, net)']\n",
    "    \n",
    "    # проверяем наличие Видео размещений. Если они есть, то используем дополнительные поля из таблицы\n",
    "    # если Видео размещений нет, то добавляем дополнительно 2 поля с 0 (это нужно для нормализации общей таблицы\n",
    "    if 'views' not in list(df.columns):\n",
    "        df['views'] = 0\n",
    "        df['vtr, %'] = 0.0\n",
    "        \n",
    "    standart_columns += ['views', 'vtr, %']\n",
    "    # оставляем только нужные поля\n",
    "    df = df[standart_columns]\n",
    "    df['views'] = df['views'].apply(normalize_digits)\n",
    "    df['vtr, %'] = df['vtr, %'].apply(normalize_digits)\n",
    "    df['views'] = df['views'].astype('int')\n",
    "    df['vtr, %'] = df['vtr, %'].astype('float')\n",
    "    \n",
    "     # переименовываем поля\n",
    "    df = df.rename(columns={'ratecard price per period (rub, net)': 'budget_without_nds'})\n",
    "    # добавляем поля с общей информацией\n",
    "    df['supplier'] = network\n",
    "    df['report_name'] = report_name\n",
    "    df['sheet_name'] = 'Plan_Media'\n",
    "    df['brand'] = brand\n",
    "    df['period'] = period\n",
    "\n",
    "    # парсим Гео и Соц. дем из поля targeting\n",
    "    df['geo'] = df['targeting'].apply(lambda x: get_targetings(x, 'гео:','\\n', flag='geo'))\n",
    "    df['soc_dem'] = df['targeting'].apply(lambda x: get_targetings(x, 'ца:','\\n', flag='soc'))\n",
    "    \n",
    "    # убираем знак рубля, если он есть в стоимости\n",
    "    currecny_columns = ['unit']\n",
    "    df[currecny_columns] = df[currecny_columns].apply(get_digits)\n",
    "    \n",
    "    # # добавляем рассчитываемые показатели\n",
    "    # # df['budget_without_nds'] = ((df['unit quantity'] / 1000) * df['unit price']).astype('float')\n",
    "    df['budget_without_nds'] = df['budget_without_nds'].astype('float')\n",
    "    df['budget_nds'] =(df['budget_without_nds'] * 1.2).astype('float').round(2)\n",
    "    # если в этих полях встречаются пустые ячейки, то заменяем их на 0\n",
    "    df['vtr, %'] = df['vtr, %'].apply(replace_blank)\n",
    "    df['views'] = df['views'].apply(replace_blank)\n",
    "    \n",
    "    # переставляем поля местами, чтобы все было единообразно\n",
    "    df = df[base_cols]\n",
    "    return df"
   ]
  },
  {
   "cell_type": "code",
   "execution_count": null,
   "id": "82aeebd9-5b3c-43f8-909e-23455dc4b300",
   "metadata": {},
   "outputs": [],
   "source": []
  },
  {
   "cell_type": "code",
   "execution_count": null,
   "id": "93f0ad3f-2c12-4b94-8d28-bb1e0ac0ed74",
   "metadata": {},
   "outputs": [],
   "source": []
  },
  {
   "cell_type": "code",
   "execution_count": null,
   "id": "8a8debac-646a-4ca1-8b96-8b234b53a2a6",
   "metadata": {},
   "outputs": [],
   "source": []
  },
  {
   "cell_type": "code",
   "execution_count": null,
   "id": "611a85ca-8504-4d3d-9416-a1148786e7b1",
   "metadata": {},
   "outputs": [],
   "source": [
    "network = 'weborama'\n",
    "report_name = 'tst'\n",
    "tmp_dict = {}\n",
    "sheet_names = pd.ExcelFile(BytesIO(data_link))\n",
    "# в этом файле присутствуют скрытые листы\n",
    "# нам нужно исключить их из парсинга\n",
    "# поэтому добавляем дополнительный блок с проверкой статуса листа\n",
    "sheets = get_sheets_list(sheet_names, extention)\n",
    "for sheet in sheets:\n",
    "    sheet_name = check_excel_sheets(sheet, extention)\n",
    "    if sheet_name:\n",
    "        if 'banner' in sheet_name.lower() or 'video' in sheet_name.lower() \\\n",
    "        or 'баннер' in sheet_name.lower() or 'видео' in sheet_name.lower():\n",
    "            \n",
    "            df = pd.read_excel(BytesIO(data_link), sheet_name=sheet_name, header=None)\n",
    "            sheet_name = normalize_headers(sheet_name)\n",
    "            print(sheet_name)\n",
    "            # заголовки в файле состоят из 2-х строк, поэтому нужно выполнить заполнение вниз на 1 строку\n",
    "            # забираем название полей, в которых нужно сдвинуть строку вниз\n",
    "            ffill_columns = [1, 2, 3, 4, 5, 6, 7, 8, 9, 10, 11]\n",
    "            df[ffill_columns] = df[ffill_columns].ffill(limit=1) # заполняем вниз\n",
    "            \n",
    "            # т.к. мы выполнили заполнение вниз на 1 строку\n",
    "            # у нас дублируются заголовки, поэтому мы берем второе вхождение забираем индекс начала таблицы\n",
    "            start_index = get_index_row(df, 1, 'период') + 1\n",
    "            # забираем название полей из файла\n",
    "            col_names_list = df.iloc[start_index].fillna('').apply(normalize_headers)\n",
    "            pattern = 'показы'\n",
    "            # получаем индекс колонки\n",
    "            col_index = get_col_index(col_names_list, pattern, flag='equals')\n",
    "            df[col_index] = df[col_index].fillna('0')\n",
    "            df = df.fillna('')\n",
    "\n",
    "            # сохраняем название бренда\n",
    "            brand = df[1].loc[get_index_row(df, 1, 'клиент')]\n",
    "            brand = brand[len('Клиент:'):].strip()\n",
    "            \n",
    "            # если целевая аудитория НЕ будет указана в самой таблице\n",
    "            # то возьмем значение из описания НАД таблицей\n",
    "            ca = df[1].loc[get_index_row(df, 1, 'ца')]\n",
    "            ca = ca[len('ЦА:'):].strip()\n",
    "            \n",
    "                        \n",
    "            # т.к. одно из полей может менять название, нам нужно его к единому стандарту\n",
    "            # сначала получим индекс колонки, которая нам нужна. она тоже может менять положение (может быть втоорой или третьей)\n",
    "            pattern = 'сервис'\n",
    "            # получаем индекс колонки\n",
    "            col_index = get_col_index(col_names_list, pattern)\n",
    "            # получаем индекс строки\n",
    "            # row_index = get_index_row(df, col_index, pattern) + 1\n",
    "            # меняем название в нужнй ячейке\n",
    "            df[col_index].loc[start_index] = 'source'\n",
    "            \n",
    "            # меняем назвние еще одного поля\n",
    "            pattern = 'объем'\n",
    "             # получаем индекс колонки\n",
    "            col_index = get_col_index(col_names_list, pattern)\n",
    "            # получаем индекс строки\n",
    "            # row_index = get_index_row(df, col_index, pattern) + 1\n",
    "            # меняем название в нужнй ячейке\n",
    "            df[col_index].loc[start_index] = 'budget_without_nds'\n",
    "\n",
    "            # меняем назвние еще одного поля\n",
    "            pattern = 'частота'\n",
    "             # получаем индекс колонки\n",
    "            col_index = get_col_index(col_names_list, pattern)\n",
    "            # получаем индекс строки\n",
    "            # row_index = get_index_row(df, col_index, pattern) + 1\n",
    "            # меняем название в нужнй ячейке\n",
    "            df[col_index].loc[start_index] = 'frequency'\n",
    "            \n",
    "            # задаем названия полей\n",
    "            df.columns = df.iloc[start_index].apply(normalize_headers) # забираем название полей из файла\n",
    "            # обрезаем верхнюю часть таблицы. она больше не нужна\n",
    "            df = df.iloc[start_index+1:].reset_index(drop=True)\n",
    "            # обрезаем таблицу снизу\n",
    "            end_index = get_index_row(df, 'показы', '0')\n",
    "            df = df.iloc[:end_index]\n",
    "            # создаем базовый список полей, которые есть всегда вне зависимости от типа размещения\n",
    "            standart_columns = ['период', 'source', 'формат рекламы', 'гео', 'аудиторные данные перечислены через слэш (/)',\n",
    "                            'стоимость за единицу (до ндс)', 'budget_without_nds', 'показы', 'охват', 'клики', 'frequency', 'модель закупки']\n",
    "            \n",
    "            # проверяем наличие Видео размещений. Если они есть, то используем дополнительные поля из таблицы\n",
    "            # если Видео размещений нет, то добавляем дополнительно 2 поля с 0 (это нужно для нормализации общей таблицы     \n",
    "            if 'vtr' not in list(df.columns):\n",
    "                df['views'] = 0\n",
    "                df['vtr'] = 0.0\n",
    "            else:\n",
    "                df['views'] = df['vtr'].astype('float') * df['показы'].astype('float')\n",
    "                \n",
    "            if 'ца' not in list(df.columns):\n",
    "                df['ца'] = ca\n",
    "\n",
    "            standart_columns += ['ца', 'views', 'vtr']\n",
    "            # оставляем только нужные поля\n",
    "            df = df[standart_columns]\n",
    "            # приводим названия полей к единому стандарту\n",
    "            df = df.rename(columns={'период': 'period', 'формат рекламы': 'ad copy format', 'гео': 'geo',\n",
    "                                    'аудиторные данные перечислены через слэш (/)': 'targeting', 'ца': 'soc_dem', \n",
    "                                    'модель закупки': 'rotation type', 'стоимость за единицу (до ндс)': 'unit price',\n",
    "                                    'показы': 'impressions', 'охват': 'reach', 'клики': 'clicks', 'vtr': 'vtr, %'})\n",
    "            df['supplier'] = network\n",
    "            df['report_name'] = report_name\n",
    "            df['sheet_name'] = sheet_name\n",
    "            df['brand'] = brand\n",
    "            df['site/ssp'] = ''\n",
    "            df['placement'] = ''\n",
    "            df['budget_nds'] =(df['budget_without_nds'] * 1.2).astype('float').round(2)\n",
    "            \n",
    "            df = df[base_cols]"
   ]
  },
  {
   "cell_type": "code",
   "execution_count": null,
   "id": "3866a21a-f448-4d80-8013-71fa14f049bd",
   "metadata": {},
   "outputs": [],
   "source": [
    "df"
   ]
  },
  {
   "cell_type": "code",
   "execution_count": null,
   "id": "ae5ba607-3e8b-41f7-8fb8-f18183b64d64",
   "metadata": {},
   "outputs": [],
   "source": []
  },
  {
   "cell_type": "code",
   "execution_count": null,
   "id": "7adcfd2b-2050-4c4f-92f2-b67ee6d2c0ff",
   "metadata": {},
   "outputs": [],
   "source": []
  },
  {
   "cell_type": "code",
   "execution_count": null,
   "id": "1e44fac8-08d2-47b0-8b8d-ca83739b140c",
   "metadata": {},
   "outputs": [],
   "source": []
  },
  {
   "cell_type": "code",
   "execution_count": null,
   "id": "8a9a80f5-6cd7-432d-833e-d96785732071",
   "metadata": {},
   "outputs": [],
   "source": []
  },
  {
   "cell_type": "code",
   "execution_count": null,
   "id": "e29c5723-d01d-4827-a155-fb06d5ba61e7",
   "metadata": {},
   "outputs": [],
   "source": []
  },
  {
   "cell_type": "code",
   "execution_count": null,
   "id": "01fd3e13-dd62-4a1c-9c47-9b296199cb54",
   "metadata": {},
   "outputs": [],
   "source": [
    "text = \"\"\"Гео: РФ\n",
    "Соц.дем: 25+\n",
    "GPT таргетинг: МСБ: (предприниматели, бизнес, услуги банков, РКО,  инвестиции, ВЭД)\n",
    "\"\"\""
   ]
  },
  {
   "cell_type": "code",
   "execution_count": null,
   "id": "7874af06-9604-4e0e-81c3-5b71e731bba9",
   "metadata": {},
   "outputs": [],
   "source": [
    "text"
   ]
  },
  {
   "cell_type": "code",
   "execution_count": null,
   "id": "f4d98c2f-002b-416e-a500-56dca8d9038c",
   "metadata": {},
   "outputs": [],
   "source": [
    "text = text.lower().strip()\n",
    "if 'гео:' in text:\n",
    "    geo = get_target_text('гео:', '\\n', text)\n",
    "if 'соц:' in text:\n",
    "    soc_dem = get_target_text('соц:', '\\n', text)\n"
   ]
  },
  {
   "cell_type": "code",
   "execution_count": null,
   "id": "bc4f6c5f-a7be-4690-b4fe-301982da04e4",
   "metadata": {},
   "outputs": [],
   "source": []
  }
 ],
 "metadata": {
  "kernelspec": {
   "display_name": "Python 3 (ipykernel)",
   "language": "python",
   "name": "python3"
  },
  "language_info": {
   "codemirror_mode": {
    "name": "ipython",
    "version": 3
   },
   "file_extension": ".py",
   "mimetype": "text/x-python",
   "name": "python",
   "nbconvert_exporter": "python",
   "pygments_lexer": "ipython3",
   "version": "3.11.7"
  }
 },
 "nbformat": 4,
 "nbformat_minor": 5
}
