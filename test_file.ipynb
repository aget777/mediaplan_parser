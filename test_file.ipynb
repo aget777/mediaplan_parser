{
 "cells": [
  {
   "cell_type": "code",
   "execution_count": 1,
   "id": "c2ec9645-994c-48eb-83fe-1353d8d28a79",
   "metadata": {},
   "outputs": [
    {
     "name": "stdout",
     "output_type": "stream",
     "text": [
      "200\n"
     ]
    }
   ],
   "source": [
    "import pandas as pd\n",
    "import numpy as np\n",
    "from io import BytesIO\n",
    "import requests\n",
    "from urllib.parse import urlencode\n",
    "import urllib\n",
    "from requests.auth import HTTPBasicAuth\n",
    "from requests.exceptions import ChunkedEncodingError\n",
    "import os\n",
    "import json\n",
    "import yadisk\n",
    "from datetime import datetime, date, timedelta\n",
    "import locale\n",
    "from time import sleep\n",
    "import shutil\n",
    "import gc\n",
    "import turbodbc\n",
    "from turbodbc import connect\n",
    "import gc\n",
    "from pandas.api.types import is_string_dtype\n",
    "import numpy as np\n",
    "from sqlalchemy import create_engine\n",
    "import pyodbc\n",
    "import warnings\n",
    "import re\n",
    "\n",
    "import config\n",
    "from yandex_disk_func import *\n",
    "from parse_functions import *\n",
    "\n",
    "\n",
    "\n",
    "# # указываем путь и название файла с токеном для Яндекс Диск\n",
    "file_path = r'C:\\Users\\o.bogomolov\\Desktop\\Jupyter_notebook\\35_mediaplan_parser'\n",
    "\n",
    "public_key = config.public_key # обычная ссылка на доступ к папке одного данного ФЛАЙТА из личного кабинета\n",
    "\n",
    "# забираем список папок в нужной нам директории\n",
    "res = get_yandex_disk_folders(public_key)\n",
    "yandex_folders = res.json() # парсим ответ"
   ]
  },
  {
   "cell_type": "code",
   "execution_count": 2,
   "id": "161bc03c-7528-4267-afb3-77a959c63d2a",
   "metadata": {},
   "outputs": [],
   "source": [
    "# Включаем отображение всех колонок\n",
    "pd.set_option('display.max_columns', None)\n",
    "# Задаем ширину столбцов по контенту\n",
    "pd.set_option('display.max_colwidth', None)\n",
    "pd.set_option('display.max_rows', None)\n",
    "pd.options.mode.chained_assignment = None\n",
    "warnings.filterwarnings('ignore', category=UserWarning, module='openpyxl')\n",
    "pd.options.mode.chained_assignment = None"
   ]
  },
  {
   "cell_type": "code",
   "execution_count": 3,
   "id": "90a48357-4332-403f-9371-9242811751e7",
   "metadata": {},
   "outputs": [],
   "source": [
    "base_cols = ['supplier', 'report_name', 'sheet_name', 'brand', 'period', 'source', 'site/ssp', 'placement', \n",
    "                     'targeting', 'geo', 'soc_dem', 'ad copy format', 'rotation type', \n",
    "                     'unit price', 'frequency', 'reach', 'impressions', 'clicks', \n",
    "             'budget_without_nds', 'budget_nds', 'views', 'vtr, %']"
   ]
  },
  {
   "cell_type": "code",
   "execution_count": 4,
   "id": "1d99e039-3857-44da-a335-3d8ecec1af91",
   "metadata": {},
   "outputs": [
    {
     "name": "stdout",
     "output_type": "stream",
     "text": [
      "/01_yandex\n",
      "/02_prog\n",
      "Игроник_ Segmento __ РСХБ __ OLV_2024-07-03\n",
      "/03_Полина\n"
     ]
    }
   ],
   "source": [
    "public_key = yandex_folders['public_key']  # из ответа Яндекс забираем public_key, чтобы использовать его для скачивания файлов\n",
    "\n",
    "for i in range(len(yandex_folders['_embedded']['items'])): # через цикл проходим по ответу Яндекса и забираем названия вложенных папок\n",
    "    file_type = yandex_folders['_embedded']['items'][i]['type']\n",
    "    if file_type=='dir':   # если находим файлы с типом dir (папка), то забираем путь к этой папке\n",
    "        folder_path = yandex_folders['_embedded']['items'][i]['path']\n",
    "        print(folder_path)\n",
    "        yandex_responce = get_yandex_disk_responce(base_public_url, public_key, folder_path) # отправляем запрос, чтобы получить содержимое папки\n",
    "\n",
    "        # Через цикл проходим по папке с файлами\n",
    "        # Нас интересуют файлы эксель. Причем каждая экселька будет парситься по своему, т.к. они относятся к разным рекламным площадкам\n",
    "        \n",
    "        # Проходим через цикл по содержимому папки (отдельный флайт)\n",
    "        for i in range(len(yandex_responce['_embedded']['items'])):\n",
    "            file_info = yandex_responce['_embedded']['items'][i]\n",
    "            if file_info['type']=='file':  # если документ является фалйом(не папкой или изображением), то забираем его название \n",
    "                file_name = file_info['name'] # сохраняем название файла\n",
    "                if 'xls' in file_name: # еслит тип файла является xlsx, то уберем расширение и будем его использовать в качесвте названия отчета\n",
    "                    file_path = file_info['path']\n",
    "                    \n",
    "                    report_name = '.'.join(file_name.split('.')[:-1]) # убираем .xlsx из названия файла\n",
    "                    print(report_name)\n",
    "                    res_file_link = get_yandex_disk_responce(download_url, public_key, file_path) # получаем ссылку на скачивание отчета\n",
    "                    download_response = requests.get(res_file_link['href'])"
   ]
  },
  {
   "cell_type": "code",
   "execution_count": 5,
   "id": "72300c65-9a91-4fae-ac0b-e42eb32378fa",
   "metadata": {},
   "outputs": [],
   "source": [
    "data_link = download_response.content"
   ]
  },
  {
   "cell_type": "code",
   "execution_count": 6,
   "id": "5e2c698f-ed11-41c0-afa7-3c6ee4cd1bda",
   "metadata": {},
   "outputs": [],
   "source": [
    "sheet_names = pd.ExcelFile(BytesIO(data_link))"
   ]
  },
  {
   "cell_type": "code",
   "execution_count": 7,
   "id": "3a60205c-19ba-41b8-8c6d-bc3b8122e902",
   "metadata": {},
   "outputs": [
    {
     "data": {
      "text/plain": [
       "['Описание',\n",
       " 'Расчет',\n",
       " 'Сегменты ',\n",
       " 'Настройки',\n",
       " 'Отчеты',\n",
       " 'Whitelist Banner',\n",
       " 'Whitelist Video',\n",
       " 'Что нужно для старта',\n",
       " 'справочники']"
      ]
     },
     "execution_count": 7,
     "metadata": {},
     "output_type": "execute_result"
    }
   ],
   "source": [
    "sheet_names.sheet_names"
   ]
  },
  {
   "cell_type": "code",
   "execution_count": 13,
   "id": "611a85ca-8504-4d3d-9416-a1148786e7b1",
   "metadata": {},
   "outputs": [
    {
     "name": "stdout",
     "output_type": "stream",
     "text": [
      "расчет\n"
     ]
    }
   ],
   "source": [
    "network = 'segmento'\n",
    "report_name = 'tst'\n",
    "sheet_name='Расчет'\n",
    "df = pd.read_excel(BytesIO(data_link), sheet_name=sheet_name, header=None)\n",
    "sheet_name = normalize_headers(sheet_name)\n",
    "print(sheet_name)\n",
    "\n",
    "# заголовки в файле состоят из 2-х строк, поэтому нужно выполнить заполнение вниз на 1 строку\n",
    "# забираем название полей, в которых нужно сдвинуть строку вниз\n",
    "ffill_columns = [1, 2, 3, 4]\n",
    "df[ffill_columns] = df[ffill_columns].ffill(limit=1) # заполняем вниз\n",
    "df = df.fillna('')\n",
    "\n",
    "# сохраняем название бренда\n",
    "brand = df[5].loc[get_index_row(df, 4, 'рекламодатель')]\n",
    "# т.к. мы выполнили заполнение вниз на 1 строку\n",
    "# у нас дублируются заголовки, поэтому мы берем второе вхождение забираем индекс начала таблицы\n",
    "start_index = get_index_row(df, 1, 'рк') + 1\n",
    "# задаем названия полей\n",
    "df.columns = df.iloc[start_index].apply(normalize_headers) # забираем название полей из файла\n",
    "# обрезаем верхнюю часть таблицы. она больше не нужна\n",
    "df = df.iloc[start_index+1:].reset_index(drop=True)\n",
    "\n",
    "# создаем базовый список полей, которые есть всегда вне зависимости от типа размещения\n",
    "standart_columns = ['рк', 'название технологии', 'продукт / формат размещения', 'период', 'соцдем', 'география', 'единица отгрузки (unit)', \n",
    "                'бюджет (net)',  'прогноз средней частоты', 'стоимость единицы отгрузки (net)', 'охват в уникальных пользователях',\n",
    "                  'показы', 'клики']\n",
    "\n",
    "# проверяем наличие Видео размещений. Если они есть, то используем дополнительные поля из таблицы\n",
    "# если Видео размещений нет, то добавляем дополнительно 2 поля с 0 (это нужно для нормализации общей таблицы     \n",
    "if '% просмотров' not in list(df.columns):\n",
    "    df['просмотры'] = 0\n",
    "    df['% просмотров'] = 0.0\n",
    "    \n",
    "standart_columns += ['просмотры', '% просмотров']\n",
    "# оставляем только нужные поля\n",
    "df = df[standart_columns]\n",
    "# приводим названия полей к единому стандарту\n",
    "df = df.rename(columns={'рк': 'placement','название технологии': 'site/ssp', 'продукт / формат размещения': 'ad copy format', 'период': 'period',\n",
    "    'соцдем': 'soc_dem', 'география': 'geo', 'единица отгрузки (unit)': 'rotation type', 'бюджет (net)': 'budget_without_nds',\n",
    "     '% просмотров': 'vtr, %', 'прогноз средней частоты': 'frequency', 'стоимость единицы отгрузки (net)': 'unit price',\n",
    "    'охват в уникальных пользователях': 'reach', 'показы': 'impressions', 'клики': 'clicks', 'просмотры': 'views'})\n",
    "\n",
    "df['supplier'] = network\n",
    "df['source'] = network\n",
    "df['report_name'] = report_name\n",
    "df['sheet_name'] = sheet_name\n",
    "df['brand'] = brand\n",
    "df['budget_nds'] =(df['budget_without_nds'] * 1.2).astype('float').round(2)\n",
    "# вызываем функцию, чтобы убрать из этих полей знак - иди пусто заменить на 0\n",
    "df['views'] = df['views'].apply(normalize_digits)\n",
    "df['vtr, %'] = df['vtr, %'].apply(normalize_digits)\n",
    "df['views'] = df['views'].astype('float').round(0)\n",
    "df['targeting'] = ''\n",
    "# создаем список текстоых полей, чтобы убрать из них лишние симовлы (перенос строки и тд)\n",
    "text_columns = ['period', 'soc_dem']\n",
    "df[text_columns] = df[text_columns].apply(normalize_text)\n",
    "df = df[base_cols]"
   ]
  },
  {
   "cell_type": "code",
   "execution_count": 9,
   "id": "d959485b-516b-40e8-b170-62edfe5f416a",
   "metadata": {},
   "outputs": [
    {
     "data": {
      "text/html": [
       "<div>\n",
       "<style scoped>\n",
       "    .dataframe tbody tr th:only-of-type {\n",
       "        vertical-align: middle;\n",
       "    }\n",
       "\n",
       "    .dataframe tbody tr th {\n",
       "        vertical-align: top;\n",
       "    }\n",
       "\n",
       "    .dataframe thead th {\n",
       "        text-align: right;\n",
       "    }\n",
       "</style>\n",
       "<table border=\"1\" class=\"dataframe\">\n",
       "  <thead>\n",
       "    <tr style=\"text-align: right;\">\n",
       "      <th>9</th>\n",
       "      <th>supplier</th>\n",
       "      <th>report_name</th>\n",
       "      <th>sheet_name</th>\n",
       "      <th>brand</th>\n",
       "      <th>period</th>\n",
       "      <th>source</th>\n",
       "      <th>site/ssp</th>\n",
       "      <th>placement</th>\n",
       "      <th>targeting</th>\n",
       "      <th>geo</th>\n",
       "      <th>soc_dem</th>\n",
       "      <th>ad copy format</th>\n",
       "      <th>rotation type</th>\n",
       "      <th>unit price</th>\n",
       "      <th>frequency</th>\n",
       "      <th>reach</th>\n",
       "      <th>impressions</th>\n",
       "      <th>clicks</th>\n",
       "      <th>budget_without_nds</th>\n",
       "      <th>budget_nds</th>\n",
       "      <th>views</th>\n",
       "      <th>vtr, %</th>\n",
       "    </tr>\n",
       "  </thead>\n",
       "  <tbody>\n",
       "    <tr>\n",
       "      <th>0</th>\n",
       "      <td>segmento</td>\n",
       "      <td>tst</td>\n",
       "      <td>расчет</td>\n",
       "      <td>РСХБ</td>\n",
       "      <td>01.08.2024 - 31.08.2024</td>\n",
       "      <td>segmento</td>\n",
       "      <td>DSP Segmento</td>\n",
       "      <td>OLV (in-article)</td>\n",
       "      <td></td>\n",
       "      <td>Вся Россия</td>\n",
       "      <td>мужчины женщины 18 - 54</td>\n",
       "      <td>Web Video</td>\n",
       "      <td>CPM</td>\n",
       "      <td>211.5</td>\n",
       "      <td>3</td>\n",
       "      <td>16078802.206462</td>\n",
       "      <td>48236406.619385</td>\n",
       "      <td>434127.659574</td>\n",
       "      <td>10202000</td>\n",
       "      <td>12242400.0</td>\n",
       "      <td>34730212.765957445</td>\n",
       "      <td>0.72</td>\n",
       "    </tr>\n",
       "    <tr>\n",
       "      <th>1</th>\n",
       "      <td>segmento</td>\n",
       "      <td>tst</td>\n",
       "      <td>расчет</td>\n",
       "      <td>РСХБ</td>\n",
       "      <td>01.08.2024 - 31.08.2024</td>\n",
       "      <td>segmento</td>\n",
       "      <td>DSP Segmento</td>\n",
       "      <td>OLV (in-stream)</td>\n",
       "      <td></td>\n",
       "      <td>Вся Россия</td>\n",
       "      <td>мужчины женщины 18 - 54</td>\n",
       "      <td>Web Video</td>\n",
       "      <td>CPM</td>\n",
       "      <td>211.5</td>\n",
       "      <td>3</td>\n",
       "      <td>17418439.716312</td>\n",
       "      <td>52255319.148936</td>\n",
       "      <td>470297.87234</td>\n",
       "      <td>11052000</td>\n",
       "      <td>13262400.0</td>\n",
       "      <td>37623829.78723404</td>\n",
       "      <td>0.72</td>\n",
       "    </tr>\n",
       "  </tbody>\n",
       "</table>\n",
       "</div>"
      ],
      "text/plain": [
       "9  supplier report_name sheet_name brand                   period    source  \\\n",
       "0  segmento         tst     расчет  РСХБ  01.08.2024 - 31.08.2024  segmento   \n",
       "1  segmento         tst     расчет  РСХБ  01.08.2024 - 31.08.2024  segmento   \n",
       "\n",
       "9      site/ssp         placement targeting         geo  \\\n",
       "0  DSP Segmento  OLV (in-article)            Вся Россия   \n",
       "1  DSP Segmento   OLV (in-stream)            Вся Россия   \n",
       "\n",
       "9                  soc_dem ad copy format rotation type unit price frequency  \\\n",
       "0  мужчины женщины 18 - 54      Web Video           CPM      211.5         3   \n",
       "1  мужчины женщины 18 - 54      Web Video           CPM      211.5         3   \n",
       "\n",
       "9            reach      impressions         clicks budget_without_nds  \\\n",
       "0  16078802.206462  48236406.619385  434127.659574           10202000   \n",
       "1  17418439.716312  52255319.148936   470297.87234           11052000   \n",
       "\n",
       "9  budget_nds               views vtr, %  \n",
       "0  12242400.0  34730212.765957445   0.72  \n",
       "1  13262400.0   37623829.78723404   0.72  "
      ]
     },
     "execution_count": 9,
     "metadata": {},
     "output_type": "execute_result"
    }
   ],
   "source": [
    "df"
   ]
  },
  {
   "cell_type": "code",
   "execution_count": null,
   "id": "ce553da9-eab1-43c8-ad6e-8cc554e302e8",
   "metadata": {},
   "outputs": [],
   "source": []
  },
  {
   "cell_type": "code",
   "execution_count": null,
   "id": "2944af6c-2646-4dc4-9d3b-07a45d2fe7d8",
   "metadata": {},
   "outputs": [],
   "source": []
  },
  {
   "cell_type": "code",
   "execution_count": null,
   "id": "bac22cc1-a50b-4e02-8eca-dfbcf267313f",
   "metadata": {},
   "outputs": [],
   "source": [
    "df.columns"
   ]
  },
  {
   "cell_type": "code",
   "execution_count": null,
   "id": "fdf01d6c-48d1-4842-a0ed-121e4eb0ab1b",
   "metadata": {},
   "outputs": [],
   "source": [
    "network = 'segmento'\n",
    "report_name = 'tst'\n",
    "tmp_dict = {}\n",
    "sheet_names = pd.ExcelFile(BytesIO(data_link))\n",
    "for sheet_name in sheet_names.sheet_names:\n",
    "    if 'псб bb banner' in sheet_name.lower():\n",
    "        df = pd.read_excel(BytesIO(data_link), sheet_name=sheet_name, header=None)\n",
    "        sheet_name = normalize_headers(sheet_name)\n",
    "        print(sheet_name)\n",
    "        # заголовки в файле состоят из 2-х строк, поэтому нужно выполнить заполнение вниз на 1 строку\n",
    "        # забираем название полей, в которых нужно сдвинуть строку вниз\n",
    "        ffill_columns = [1, 2, 3, 4, 5, 6, 7]\n",
    "        df[ffill_columns] = df[ffill_columns].ffill(limit=1) # заполняем вниз\n",
    "        df[8] = df[8].fillna('0')\n",
    "        df = df.fillna('')\n",
    "        # сохраняем название бренда\n",
    "        brand = df[2].loc[get_index_row(df, 1, 'клиент')]\n",
    "        \n",
    "        # т.к. мы выполнили заполнение вниз на 1 строку\n",
    "        # у нас дублируются заголовки, поэтому мы берем второе вхождение забираем индекс начала таблицы\n",
    "        start_index = get_index_row(df, 1, 'аудитория') + 1\n",
    "        # задаем названия полей\n",
    "        df.columns = df.iloc[start_index].apply(normalize_headers) # забираем название полей из файла\n",
    "        # обрезаем верхнюю часть таблицы. она больше не нужна\n",
    "        df = df.iloc[start_index+4:].reset_index(drop=True)\n",
    "        # обрезаем таблицу снизу\n",
    "        end_index = get_index_row(df, 'частота', '0')\n",
    "        df = df.iloc[:end_index]\n",
    "        # создаем базовый список полей, которые есть всегда вне зависимости от типа размещения\n",
    "        standart_columns = ['медиаканал', 'форматы объявлений', 'инвентарь', 'период', 'таргетинг', 'частота', \n",
    "                        'охват, прогноз', 'показы', 'клики, прогноз', 'бюджет без ндс', 'avg. cpm']\n",
    "        # проверяем наличие Видео размещений. Если они есть, то используем дополнительные поля из таблицы\n",
    "        # если Видео размещений нет, то добавляем дополнительно 2 поля с 0 (это нужно для нормализации общей таблицы     \n",
    "        if 'vtr, %' not in list(df.columns):\n",
    "            df['views'] = 0\n",
    "            df['vtr, %'] = 0.0\n",
    "        \n",
    "        standart_columns += ['views', 'vtr, %']\n",
    "        # оставляем только нужные поля\n",
    "        df = df[standart_columns]\n",
    "         # приводим названия полей к единому стандарту\n",
    "        df = df.rename(columns={'медиаканал': 'source', 'форматы объявлений': 'ad copy format', 'инвентарь': 'placement', 'период': 'period',\n",
    "                                'таргетинг': 'targeting', 'частота': 'frequency', 'охват, прогноз': 'reach', 'показы': 'impressions',\n",
    "                                'клики, прогноз': 'clicks', 'avg. cpm': 'unit price', 'бюджет без ндс': 'budget_without_nds'})\n",
    "        df['supplier'] = network\n",
    "        df['report_name'] = report_name\n",
    "        df['sheet_name'] = sheet_name\n",
    "        df['brand'] = brand\n",
    "        df['site/ssp'] = ''\n",
    "        df['rotation type'] = 'CPM'\n",
    "        df['budget_nds'] =(df['budget_without_nds'] * 1.2).astype('float').round(2)\n",
    "        df['geo'] = df['targeting'].apply(lambda x: get_targetings(x, 'гео:','\\n', flag='geo'))\n",
    "        df['soc_dem'] = df['targeting'].apply(lambda x: get_targetings(x, 'соц.дем:','\\n', flag='soc'))\n",
    "        df['reach'] = df['reach'].astype('int')\n",
    "        df['clicks'] = df['clicks'].astype('int')\n",
    "        df = df[base_cols]"
   ]
  },
  {
   "cell_type": "code",
   "execution_count": null,
   "id": "e18d901f-76bb-4a43-b76f-00beb3f895db",
   "metadata": {},
   "outputs": [],
   "source": [
    "df"
   ]
  },
  {
   "cell_type": "code",
   "execution_count": null,
   "id": "8a9a80f5-6cd7-432d-833e-d96785732071",
   "metadata": {},
   "outputs": [],
   "source": []
  },
  {
   "cell_type": "code",
   "execution_count": null,
   "id": "64e9f53e-6c45-4d11-8e59-850e795b36cd",
   "metadata": {},
   "outputs": [],
   "source": [
    "df.columns"
   ]
  },
  {
   "cell_type": "code",
   "execution_count": null,
   "id": "9061a7ff-4dd8-4552-beaf-1bba5d3311a8",
   "metadata": {},
   "outputs": [],
   "source": []
  },
  {
   "cell_type": "code",
   "execution_count": null,
   "id": "18374f26-0a85-43a6-b4e3-d054564e863f",
   "metadata": {},
   "outputs": [],
   "source": []
  },
  {
   "cell_type": "code",
   "execution_count": null,
   "id": "d0e8c35d-d2db-4e90-8a97-dc5ceba9bfcc",
   "metadata": {},
   "outputs": [],
   "source": []
  },
  {
   "cell_type": "code",
   "execution_count": null,
   "id": "198fea7a-5209-4483-af37-b4af297fa440",
   "metadata": {},
   "outputs": [],
   "source": []
  },
  {
   "cell_type": "code",
   "execution_count": null,
   "id": "d427d1b3-4081-4900-8a36-fdfc5701dd7e",
   "metadata": {},
   "outputs": [],
   "source": []
  },
  {
   "cell_type": "code",
   "execution_count": null,
   "id": "8824adc9-3bf3-4052-840a-c5b4354d5c22",
   "metadata": {},
   "outputs": [],
   "source": []
  },
  {
   "cell_type": "code",
   "execution_count": null,
   "id": "157d8aa0-c926-42d3-b481-0f2edcec6b5c",
   "metadata": {},
   "outputs": [],
   "source": []
  },
  {
   "cell_type": "code",
   "execution_count": null,
   "id": "bc56ecdb-03c0-456b-a127-7fb56f5368b8",
   "metadata": {},
   "outputs": [],
   "source": []
  },
  {
   "cell_type": "code",
   "execution_count": null,
   "id": "c9c5d298-1b25-4cb4-b2d9-f261e056ad6b",
   "metadata": {},
   "outputs": [],
   "source": []
  },
  {
   "cell_type": "code",
   "execution_count": null,
   "id": "087a1a3f-2be7-4662-98dd-fde56cb12a43",
   "metadata": {},
   "outputs": [],
   "source": [
    "network = 'mobidriven'\n",
    "report_name = 'tst'\n",
    "tmp_dict = {}\n",
    "sheet_names = pd.ExcelFile(BytesIO(data_link))\n",
    "for sheet_name in sheet_names.sheet_names:\n",
    "    if 'мп' in sheet_name.lower():\n",
    "        \n",
    "        df = pd.read_excel(BytesIO(data_link), sheet_name=sheet_name, header=None)\n",
    "        sheet_name = normalize_headers(sheet_name)\n",
    "        print(sheet_name)\n",
    "        df[0] = df[0].fillna('0')\n",
    "        df = df.fillna('')\n",
    "        \n",
    "\n",
    "        # сохраняем название бренда\n",
    "        brand = df[1].loc[get_index_row(df, 0, 'клиент')]\n",
    "        # сохраняем период\n",
    "        period = df[1].loc[get_index_row(df, 0, 'период')]\n",
    "        # сохраняем ЦА\n",
    "        soc_dem = df[1].loc[get_index_row(df, 0, 'ца')]\n",
    "       \n",
    "        # забираем индекс начала таблицы\n",
    "        start_index = get_index_row(df, 0, 'категория')\n",
    "        # задаем названия полей\n",
    "        df.columns = df.iloc[start_index].apply(normalize_headers) # забираем название полей из файла\n",
    "        # обрезаем верхнюю часть таблицы. она больше не нужна\n",
    "        df = df.iloc[start_index+2:].reset_index(drop=True)\n",
    "        # обрезаем таблицу снизу\n",
    "        end_index = get_index_row(df, 'категория / инструмент', '0')\n",
    "        df = df.iloc[:end_index]\n",
    "        \n",
    "        df['формат'] = df.apply(get_timing, axis=1)\n",
    "\n",
    "        # создаем базовый список полей, которые есть всегда вне зависимости от типа размещения\n",
    "        standart_columns = ['категория / инструмент', 'таргетинги / сегменты', 'тип трафика', 'формат', 'гео', 'единица закупки', \n",
    "                        'цена за единицу', 'стоимость, руб, без учета ндс, 20%',\n",
    "                        'показы', 'частота', 'охват', 'клики']\n",
    "        # проверяем наличие Видео размещений. Если они есть, то используем дополнительные поля из таблицы\n",
    "        # если Видео размещений нет, то добавляем дополнительно 2 поля с 0 (это нужно для нормализации общей таблицы     \n",
    "        if 'vtr, %' not in list(df.columns):\n",
    "            df['views'] = 0\n",
    "            df['vtr, %'] = 0.0\n",
    "        \n",
    "        standart_columns += ['views', 'vtr, %']\n",
    "        # оставляем только нужные поля\n",
    "        df = df[standart_columns]\n",
    "            \n",
    "        # приводим названия полей к единому стандарту\n",
    "        df = df.rename(columns={'категория / инструмент': 'source', 'тип трафика': 'placement', 'таргетинги / сегменты': 'targeting',\n",
    "                                'формат': 'ad copy format', 'гео': 'geo', 'единица закупки': 'rotation type',\n",
    "                       'цена за единицу': 'unit price', 'стоимость, руб, без учета ндс, 20%': 'budget_without_nds',\n",
    "                       'показы': 'impressions', 'частота': 'frequency', 'охват': 'reach', 'клики': 'clicks', 'досмотры': 'views', 'vtr %': 'vtr, %'})\n",
    "        df['supplier'] = network\n",
    "        df['report_name'] = report_name\n",
    "        df['sheet_name'] = sheet_name\n",
    "        df['brand'] = brand\n",
    "        df['period'] = period\n",
    "        df['site/ssp'] = ''\n",
    "        df['budget_nds'] =(df['budget_without_nds'] * 1.2).astype('float').round(2)\n",
    "        # вызываем функцию для парсинга текста из поля targeting\n",
    "        # значение каждого таргетинга записываем в отдельное поле датаФрейма\n",
    "        df['soc_dem'] = soc_dem\n",
    "        # df['views'] = df['views'].apply(normalize_digits)\n",
    "        # df['vtr, %'] = df['vtr, %'].apply(normalize_digits)\n",
    "        # если в этих полях встречаются пустые ячейки, то заменяем их на 0\n",
    "        df['vtr, %'] = df['vtr, %'].apply(replace_blank)\n",
    "        df['views'] = df['views'].apply(replace_blank)\n",
    "        df = df[base_cols]"
   ]
  },
  {
   "cell_type": "code",
   "execution_count": null,
   "id": "a8ab6ae1-6049-44cd-949a-15f79b481fcb",
   "metadata": {},
   "outputs": [],
   "source": [
    "# создаем функцию, чтобы получить индекс строки с первым встречанием заданного паттерна\n",
    "def get_index_row(df, col_name, flag):\n",
    "    return list(df[df[col_name].str.lower().str.contains(flag)].index)[0] "
   ]
  },
  {
   "cell_type": "code",
   "execution_count": null,
   "id": "5130503d-b862-411f-9e64-a91d30555b9d",
   "metadata": {},
   "outputs": [],
   "source": [
    "# создаем функцию, чтобы забрать хронометраж ролика, если он встречается в ячейке\n",
    "def get_timing(row):\n",
    "    result = str(row['формат'])\n",
    "    timing = str(row['хронометраж ролика'])\n",
    "    if len(timing) > 0:\n",
    "        result += f' timing: {timing}'\n",
    "    return result"
   ]
  },
  {
   "cell_type": "code",
   "execution_count": null,
   "id": "7aab0e6f-b7f1-4c45-850f-be3da73e9415",
   "metadata": {},
   "outputs": [],
   "source": []
  },
  {
   "cell_type": "code",
   "execution_count": null,
   "id": "21382346-d667-4316-b20d-3881c10ef6da",
   "metadata": {},
   "outputs": [],
   "source": []
  },
  {
   "cell_type": "code",
   "execution_count": null,
   "id": "f5bfc906-ecdf-4797-9a7f-f97f2df57fc9",
   "metadata": {},
   "outputs": [],
   "source": []
  },
  {
   "cell_type": "code",
   "execution_count": null,
   "id": "4af1c3b2-ea75-46c1-8d19-61ec193c556c",
   "metadata": {},
   "outputs": [],
   "source": []
  },
  {
   "cell_type": "code",
   "execution_count": null,
   "id": "4fd3dee7-96a3-4f42-9053-3094edd3e3af",
   "metadata": {},
   "outputs": [],
   "source": [
    "df"
   ]
  },
  {
   "cell_type": "code",
   "execution_count": null,
   "id": "fe3838cb-fcc1-421f-9f1e-cd521c795b8d",
   "metadata": {},
   "outputs": [],
   "source": []
  },
  {
   "cell_type": "code",
   "execution_count": null,
   "id": "6cc3c46d-e6dd-44f7-91dd-10b0f312f1fe",
   "metadata": {},
   "outputs": [],
   "source": []
  },
  {
   "cell_type": "code",
   "execution_count": null,
   "id": "e29c5723-d01d-4827-a155-fb06d5ba61e7",
   "metadata": {},
   "outputs": [],
   "source": []
  },
  {
   "cell_type": "code",
   "execution_count": null,
   "id": "01fd3e13-dd62-4a1c-9c47-9b296199cb54",
   "metadata": {},
   "outputs": [],
   "source": [
    "text = \"\"\"Гео: РФ\n",
    "Соц.дем: 25+\n",
    "GPT таргетинг: МСБ: (предприниматели, бизнес, услуги банков, РКО,  инвестиции, ВЭД)\n",
    "\"\"\""
   ]
  },
  {
   "cell_type": "code",
   "execution_count": null,
   "id": "7874af06-9604-4e0e-81c3-5b71e731bba9",
   "metadata": {},
   "outputs": [],
   "source": [
    "text"
   ]
  },
  {
   "cell_type": "code",
   "execution_count": null,
   "id": "f4d98c2f-002b-416e-a500-56dca8d9038c",
   "metadata": {},
   "outputs": [],
   "source": [
    "text = text.lower().strip()\n",
    "if 'гео:' in text:\n",
    "    geo = get_target_text('гео:', '\\n', text)\n",
    "if 'соц:' in text:\n",
    "    soc_dem = get_target_text('соц:', '\\n', text)\n"
   ]
  },
  {
   "cell_type": "code",
   "execution_count": null,
   "id": "fd894f6c-6122-405f-b871-342909d56456",
   "metadata": {},
   "outputs": [],
   "source": [
    "\n",
    "geo"
   ]
  },
  {
   "cell_type": "code",
   "execution_count": null,
   "id": "6a21a4d3-0f42-462a-8aaf-725b012c3ce3",
   "metadata": {},
   "outputs": [],
   "source": [
    "soc_dem = get_targetings(text, 'соц.дем:','\\n', flag='soc')\n",
    "soc_dem"
   ]
  },
  {
   "cell_type": "code",
   "execution_count": null,
   "id": "eb4ff9fd-ea0d-4375-a160-27d66c86823b",
   "metadata": {},
   "outputs": [],
   "source": [
    "# создаем функцию для записи названий таргетингов в поля датаФрейма\n",
    "# на входе она принимает 2 параметра\n",
    "# column - поле с текстом, который нужно распарсить\n",
    "# source - название источника (какому поставщику принадлежит таблица - таким образом мы понимаем, какие правила парсинга применяются\n",
    "# для каждого таргетинга отдельно вызываем функцию, чтобы достать нужный текст\n",
    "# на выходе возвращаем список с текстом для каждого таргетинга\n",
    "# если таргеитнга не было в тексте, то вернутся пустые строки\n",
    "def get_targetings(column, start_pattern, end_pattern, flag):\n",
    "    result = ''\n",
    "    text = column.lower().strip()\n",
    "    if 'гео:' in text or 'ца:' in text or 'соц' in text:\n",
    "        if flag == 'geo':\n",
    "            result = get_target_text(start_pattern, end_pattern, text)\n",
    "        if flag == 'soc':\n",
    "            result = get_target_text(start_pattern, end_pattern, text)\n",
    "            \n",
    "    return result"
   ]
  },
  {
   "cell_type": "code",
   "execution_count": null,
   "id": "27021084-ee53-49dc-ba49-db53ed6a058a",
   "metadata": {},
   "outputs": [],
   "source": [
    "# создаем функцию для парсинга таргетингов из текста\n",
    "# на вход она принимает ключевое слово - start_pattern -какой именно таргетинг мы ищем гео: / ца: / интересы:\n",
    "# окончанием строки - end_pattern - передаем слово или символ, который будет считаться окончанием строки например -  \\n или слово покупатели\n",
    "# если таргетинг находится в конце текста, то возвращаем текст до конца\n",
    "# на выходе функция текст таргетинга БЕЗ ключевого слова\n",
    "def get_target_text(start_pattern, end_pattern, text):\n",
    "    start_index = text.index(start_pattern)\n",
    "    text = text[start_index:]\n",
    "    end_index = text.index(end_pattern)\n",
    "    target_text = text[len(start_pattern):end_index]\n",
    "\n",
    "    target_text = target_text.strip().replace('\\n', ' ')\n",
    "\n",
    "    return target_text"
   ]
  },
  {
   "cell_type": "code",
   "execution_count": null,
   "id": "7d955027-f06b-42a3-9748-4dd158fd895e",
   "metadata": {},
   "outputs": [],
   "source": [
    "geo"
   ]
  },
  {
   "cell_type": "code",
   "execution_count": null,
   "id": "dbaa9004-632b-4a42-9a7e-0beaeae9f962",
   "metadata": {},
   "outputs": [],
   "source": [
    "ca"
   ]
  },
  {
   "cell_type": "code",
   "execution_count": null,
   "id": "0e10825e-ce94-4874-ae33-3d650e6b4853",
   "metadata": {},
   "outputs": [],
   "source": [
    "interests"
   ]
  },
  {
   "cell_type": "code",
   "execution_count": null,
   "id": "f210fd9a-f3b0-4de8-8f06-79a8da8f856f",
   "metadata": {},
   "outputs": [],
   "source": [
    "start_index = text.index('ца')"
   ]
  },
  {
   "cell_type": "code",
   "execution_count": null,
   "id": "21b6edc4-5e9f-43ca-bbf1-d660e04f1ff2",
   "metadata": {},
   "outputs": [],
   "source": [
    "start_index "
   ]
  },
  {
   "cell_type": "code",
   "execution_count": null,
   "id": "64198d76-6361-4b64-97de-37a71daf7156",
   "metadata": {},
   "outputs": [],
   "source": [
    "end_index = text[start_index:].index('\\n')"
   ]
  },
  {
   "cell_type": "code",
   "execution_count": null,
   "id": "30ee0f9c-bab7-4b4a-ba92-5578feb01274",
   "metadata": {},
   "outputs": [],
   "source": [
    "end_index"
   ]
  },
  {
   "cell_type": "code",
   "execution_count": null,
   "id": "a6b7ce79-aec0-45dc-9732-f78fc27d8247",
   "metadata": {},
   "outputs": [],
   "source": [
    "target_text = text[8:18]"
   ]
  },
  {
   "cell_type": "code",
   "execution_count": null,
   "id": "ca4838b7-8ae5-4cf6-baa2-5a58ad50e16f",
   "metadata": {},
   "outputs": [],
   "source": [
    "target_text"
   ]
  },
  {
   "cell_type": "code",
   "execution_count": null,
   "id": "62ac34e9-8442-47b5-b1b7-19899c77f5d4",
   "metadata": {},
   "outputs": [],
   "source": [
    "text"
   ]
  },
  {
   "cell_type": "code",
   "execution_count": null,
   "id": "bc4f6c5f-a7be-4690-b4fe-301982da04e4",
   "metadata": {},
   "outputs": [],
   "source": []
  }
 ],
 "metadata": {
  "kernelspec": {
   "display_name": "Python 3 (ipykernel)",
   "language": "python",
   "name": "python3"
  },
  "language_info": {
   "codemirror_mode": {
    "name": "ipython",
    "version": 3
   },
   "file_extension": ".py",
   "mimetype": "text/x-python",
   "name": "python",
   "nbconvert_exporter": "python",
   "pygments_lexer": "ipython3",
   "version": "3.11.7"
  }
 },
 "nbformat": 4,
 "nbformat_minor": 5
}
