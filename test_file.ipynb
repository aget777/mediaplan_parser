{
 "cells": [
  {
   "cell_type": "code",
   "execution_count": 1,
   "id": "c2ec9645-994c-48eb-83fe-1353d8d28a79",
   "metadata": {},
   "outputs": [
    {
     "name": "stdout",
     "output_type": "stream",
     "text": [
      "200\n"
     ]
    }
   ],
   "source": [
    "import pandas as pd\n",
    "import numpy as np\n",
    "from io import BytesIO\n",
    "import requests\n",
    "from urllib.parse import urlencode\n",
    "import urllib\n",
    "from requests.auth import HTTPBasicAuth\n",
    "from requests.exceptions import ChunkedEncodingError\n",
    "import os\n",
    "import json\n",
    "import yadisk\n",
    "from datetime import datetime, date, timedelta\n",
    "import locale\n",
    "from time import sleep\n",
    "import shutil\n",
    "import gc\n",
    "import turbodbc\n",
    "from turbodbc import connect\n",
    "import gc\n",
    "from pandas.api.types import is_string_dtype\n",
    "import numpy as np\n",
    "from sqlalchemy import create_engine\n",
    "import pyodbc\n",
    "import warnings\n",
    "import re\n",
    "\n",
    "import config\n",
    "from yandex_disk_func import *\n",
    "from parse_functions import *\n",
    "\n",
    "pd.options.mode.chained_assignment = None\n",
    "\n",
    "# # указываем путь и название файла с токеном для Яндекс Диск\n",
    "file_path = r'C:\\Users\\o.bogomolov\\Desktop\\Jupyter_notebook\\35_mediaplan_parser'\n",
    "# file_name = 'yandex_token.txt'\n",
    "\n",
    "# # сохраняем токен в отдельную переменную\n",
    "yandex_token = config.yandex_token\n",
    "\n",
    "\n",
    "# # указываем путь к основной папке, в которой храняться папки с флайтами\n",
    "main_folder = config.main_folder\n",
    "public_key = config.public_key # обычная ссылка на доступ к папке одного данного ФЛАЙТА из личного кабинета\n",
    "\n",
    "# забираем список папок в нужной нам директории\n",
    "res = get_yandex_disk_folders(public_key)\n",
    "yandex_folders = res.json() # парсим ответ"
   ]
  },
  {
   "cell_type": "code",
   "execution_count": 2,
   "id": "161bc03c-7528-4267-afb3-77a959c63d2a",
   "metadata": {},
   "outputs": [],
   "source": [
    "# Включаем отображение всех колонок\n",
    "pd.set_option('display.max_columns', None)\n",
    "# Задаем ширину столбцов по контенту\n",
    "pd.set_option('display.max_colwidth', None)\n",
    "pd.set_option('display.max_rows', None)\n",
    "pd.options.mode.chained_assignment = None"
   ]
  },
  {
   "cell_type": "code",
   "execution_count": 24,
   "id": "90a48357-4332-403f-9371-9242811751e7",
   "metadata": {},
   "outputs": [],
   "source": [
    "base_cols = ['supplier', 'report_name', 'sheet_name', 'brand', 'period', 'source', 'site/ssp', 'placement', \n",
    "                     'targeting', 'geo', 'soc_dem', 'ad copy format', 'rotation type', \n",
    "                     'unit price', 'frequency', 'reach', 'impressions', 'clicks', \n",
    "             'budget_without_nds', 'budget_nds', 'views', 'vtr, %']"
   ]
  },
  {
   "cell_type": "code",
   "execution_count": 15,
   "id": "1d99e039-3857-44da-a335-3d8ecec1af91",
   "metadata": {},
   "outputs": [
    {
     "name": "stdout",
     "output_type": "stream",
     "text": [
      "/01_yandex\n",
      "/02_prog\n",
      "FirstData_Игроник_Национальная лотерея_Принцесса Нури_СРМ_media_27.08.2024 (1)\n",
      "/03_Полина\n"
     ]
    }
   ],
   "source": [
    "public_key = yandex_folders['public_key']  # из ответа Яндекс забираем public_key, чтобы использовать его для скачивания файлов\n",
    "\n",
    "for i in range(len(yandex_folders['_embedded']['items'])): # через цикл проходим по ответу Яндекса и забираем названия вложенных папок\n",
    "    file_type = yandex_folders['_embedded']['items'][i]['type']\n",
    "    if file_type=='dir':   # если находим файлы с типом dir (папка), то забираем путь к этой папке\n",
    "        folder_path = yandex_folders['_embedded']['items'][i]['path']\n",
    "        print(folder_path)\n",
    "        yandex_responce = get_yandex_disk_responce(base_public_url, public_key, folder_path) # отправляем запрос, чтобы получить содержимое папки\n",
    "\n",
    "        # Через цикл проходим по папке с файлами\n",
    "        # Нас интересуют файлы эксель. Причем каждая экселька будет парситься по своему, т.к. они относятся к разным рекламным площадкам\n",
    "        \n",
    "        # Проходим через цикл по содержимому папки (отдельный флайт)\n",
    "        for i in range(len(yandex_responce['_embedded']['items'])):\n",
    "            file_info = yandex_responce['_embedded']['items'][i]\n",
    "            if file_info['type']=='file':  # если документ является фалйом(не папкой или изображением), то забираем его название \n",
    "                file_name = file_info['name'] # сохраняем название файла\n",
    "                if 'xls' in file_name: # еслит тип файла является xlsx, то уберем расширение и будем его использовать в качесвте названия отчета\n",
    "                    file_path = file_info['path']\n",
    "                    \n",
    "                    report_name = '.'.join(file_name.split('.')[:-1]) # убираем .xlsx из названия файла\n",
    "                    print(report_name)\n",
    "                    res_file_link = get_yandex_disk_responce(download_url, public_key, file_path) # получаем ссылку на скачивание отчета\n",
    "                    download_response = requests.get(res_file_link['href'])"
   ]
  },
  {
   "cell_type": "code",
   "execution_count": 16,
   "id": "72300c65-9a91-4fae-ac0b-e42eb32378fa",
   "metadata": {},
   "outputs": [],
   "source": [
    "data_link = download_response.content"
   ]
  },
  {
   "cell_type": "code",
   "execution_count": 17,
   "id": "5e2c698f-ed11-41c0-afa7-3c6ee4cd1bda",
   "metadata": {},
   "outputs": [],
   "source": [
    "sheet_names = pd.ExcelFile(BytesIO(data_link))"
   ]
  },
  {
   "cell_type": "code",
   "execution_count": 18,
   "id": "3a60205c-19ba-41b8-8c6d-bc3b8122e902",
   "metadata": {},
   "outputs": [
    {
     "data": {
      "text/plain": [
       "['mediaplan 1000к ',\n",
       " 'mediaplan 800к',\n",
       " 'mediaplan 600к',\n",
       " 'Brief_MEDIA',\n",
       " 'Материалы для старта']"
      ]
     },
     "execution_count": 18,
     "metadata": {},
     "output_type": "execute_result"
    }
   ],
   "source": [
    "sheet_names.sheet_names"
   ]
  },
  {
   "cell_type": "code",
   "execution_count": null,
   "id": "087a1a3f-2be7-4662-98dd-fde56cb12a43",
   "metadata": {},
   "outputs": [],
   "source": []
  },
  {
   "cell_type": "code",
   "execution_count": null,
   "id": "4fd3dee7-96a3-4f42-9053-3094edd3e3af",
   "metadata": {},
   "outputs": [],
   "source": []
  },
  {
   "cell_type": "code",
   "execution_count": null,
   "id": "fe3838cb-fcc1-421f-9f1e-cd521c795b8d",
   "metadata": {},
   "outputs": [],
   "source": [
    "network = 'hybrid'\n",
    "report_name = 'tst'\n",
    "tmp_dict = {}\n",
    "sheet_names = pd.ExcelFile(BytesIO(data_link))\n",
    "for sheet_name in sheet_names.sheet_names:\n",
    "    if 'медиаплан' in sheet_name.lower():\n",
    "        print(sheet_name)\n",
    "        df = pd.read_excel(BytesIO(data_link), sheet_name=sheet_name, header=None)\n",
    "        # В столбике В находится строка итогов, по слову Итого мы определяем окончание таблицы с данными\n",
    "        # но в некоторых случаях перед строкой итогов есть пустая строка\n",
    "        # далее мы создадим проверку для поиска нужного нам окончания таблицы\n",
    "        # сейчас пока что заполним пустые ячейки в этой таблице нулями\n",
    "        df[1] = df[1].fillna('0')\n",
    "        df = df.fillna('')\n",
    "        # забираем индекс строки, где находится название Бренда\n",
    "        brand_index = list(df[df[1].str.lower().str.contains('рекламодатель')].index)[0] \n",
    "        # сохраняем название бренда\n",
    "        brand = df[3].loc[brand_index] \n",
    "        # забираем период медиаплана\n",
    "        period = df[3].loc[brand_index+2] \n",
    "        # забираем индекс начала таблицы\n",
    "        start_index = list(df[df[1].str.lower().str.contains('тип')].index)[0]\n",
    "        # задаем названия полей\n",
    "        df.columns = df.iloc[start_index].apply(normalize_headers) # забираем название полей из файла\n",
    "        # обрезаем верхнюю часть таблицы. она больше не нужна\n",
    "        df = df.iloc[start_index+1:].reset_index(drop=True)\n",
    "        # забираем окончание таблицы\n",
    "        # создаем правило для проверки окончания таблицы \n",
    "        # если слово Итого имеет индекс строки больше, чем пустая строка, которую мы заполнили 0, то берем первый индекс ячейки с 0\n",
    "        # иначе берем индекс строки с Итого\n",
    "        total_index =list(df[df['тип трафика'].str.lower().str.contains('итого')].index)[0]\n",
    "        check_index = list(df[df['тип трафика'].str.lower().str.contains('0')].index)[0]\n",
    "        if total_index > check_index:\n",
    "            end_index = check_index\n",
    "        else:\n",
    "            end_index = total_index\n",
    "        # обрезаем таблицу снизу\n",
    "        df = df.iloc[:end_index].reset_index(drop=True)\n",
    "        # создаем базовый список полей, которые есть всегда вне зависимости от типа размещения\n",
    "        standart_columns = ['тип трафика', 'формат', 'продукт', 'гео', 'единица', \n",
    "                            'цена за единицу, rub (без ндс)', 'количество',\n",
    "                            'стоимость, rub (без ндс)', 'показы', \n",
    "                            'охват', 'частота показа на пользователя']\n",
    "        \n",
    "        # проверяем наличие Видео размещений. Если они есть, то используем дополнительные поля из таблицы\n",
    "        # создаем список уникальных форматов и преобразуем его в одну строку\n",
    "        if 'vtr, %' not in list(df.columns):\n",
    "            df['количество досмотров'] = 0\n",
    "            df['vtr, %'] = 0.0\n",
    "        if 'ssp' not in list(df.columns):\n",
    "            df['ssp'] = ''\n",
    "        if 'клики' not in list(df.columns):\n",
    "            df['клики'] = 0\n",
    "        standart_columns += ['количество досмотров', 'vtr, %', 'ssp', 'клики']\n",
    "        # оставляем только нужныеинам поля\n",
    "        df = df[standart_columns]\n",
    "        # приводим названия полей к единому стандарту\n",
    "        df = df.rename(columns={'тип трафика': 'placement', 'формат': 'ad copy format', 'продукт': 'targeting', \n",
    "                                'гео': 'geo', 'ssp': 'site/ssp', \n",
    "                                'единица': 'rotation type', 'цена за единицу, rub (без ндс)': 'unit price', \n",
    "                                'количество' :'unit quantity_short', 'стоимость, rub (без ндс)': 'budget_without_nds',\n",
    "                        'показы': 'impressions', 'клики': 'clicks', 'охват': 'reach',\n",
    "                       'частота показа на пользователя': 'frequency', 'количество досмотров': 'views'})\n",
    "\n",
    "        df['unit quantity'] = df.apply(get_full_unit_quantity, axis=1)\n",
    "        df['supplier'] = network\n",
    "        df['source'] = network\n",
    "        df['report_name'] = report_name\n",
    "        df['sheet_name'] = sheet_name\n",
    "        df['brand'] = brand\n",
    "        df['period'] = period\n",
    "        df['budget_nds'] =(df['budget_without_nds'] * 1.2).astype('float').round(2)\n",
    "        # вызываем функцию для парсинга текста из поля targeting\n",
    "        # значение каждого таргетинга записываем в отдельное поле датаФрейма\n",
    "        df['soc_dem'] = df['targeting'].apply(lambda x: get_targetings(x, 'hybrid')[1])\n",
    "        df['views'] = df['views'].apply(normalize_digits)\n",
    "        df['vtr, %'] = df['vtr, %'].apply(normalize_digits)\n",
    "        df = df[base_cols]"
   ]
  },
  {
   "cell_type": "code",
   "execution_count": null,
   "id": "90e344b4-e176-4da6-8135-65d04c1c3a23",
   "metadata": {},
   "outputs": [],
   "source": [
    "df"
   ]
  },
  {
   "cell_type": "code",
   "execution_count": null,
   "id": "2961758b-0764-4651-995e-f8ec860b1f04",
   "metadata": {},
   "outputs": [],
   "source": [
    "def get_full_unit_quantity(row):\n",
    "    res = row['unit quantity_short']\n",
    "    if row['rotation type'].lower()=='cpm':\n",
    "        res = row['unit quantity_short'] * 1000\n",
    "\n",
    "    return res"
   ]
  },
  {
   "cell_type": "code",
   "execution_count": null,
   "id": "f9f19689-adf7-417d-be14-6b9c25243f46",
   "metadata": {},
   "outputs": [],
   "source": [
    "\n",
    "        \n",
    "        "
   ]
  },
  {
   "cell_type": "code",
   "execution_count": null,
   "id": "e3364499-1fc5-4b28-b676-d5e123bb375e",
   "metadata": {},
   "outputs": [],
   "source": [
    "df"
   ]
  },
  {
   "cell_type": "code",
   "execution_count": null,
   "id": "243c74e5-f939-4ae5-8b91-e95090380afc",
   "metadata": {},
   "outputs": [],
   "source": [
    "period"
   ]
  },
  {
   "cell_type": "code",
   "execution_count": null,
   "id": "079ec8b6-306a-4b26-885a-a219795176f6",
   "metadata": {},
   "outputs": [],
   "source": []
  },
  {
   "cell_type": "code",
   "execution_count": null,
   "id": "b3f314c7-7630-4f99-8410-cf6c7949e2bb",
   "metadata": {},
   "outputs": [],
   "source": []
  },
  {
   "cell_type": "code",
   "execution_count": null,
   "id": "1337406f-4fcb-4348-bbee-4f52f1a88d5a",
   "metadata": {},
   "outputs": [],
   "source": []
  },
  {
   "cell_type": "code",
   "execution_count": null,
   "id": "923cad45-1955-4a70-b9bf-4858f177208e",
   "metadata": {},
   "outputs": [],
   "source": []
  },
  {
   "cell_type": "code",
   "execution_count": null,
   "id": "a6364a7b-5166-486c-8764-3db8958359d3",
   "metadata": {},
   "outputs": [],
   "source": [
    "# заполняем вниз название истоника\n",
    "        df['Unnamed: 1'] = df['Unnamed: 1'].ffill()\n",
    "        # заполняем вниз таргетинги\n",
    "        df['Unnamed: 2'] = df['Unnamed: 2'].ffill()\n",
    "        # заполяем вниз rotation type - здесь объединенная ячейка, и в этом поле нет названия\n",
    "        # чтобы оно появилось, заранее протягиваем вниз это название\n",
    "        df['Unnamed: 8'] = df['Unnamed: 8'].fillna('rotation type')\n",
    "        # заполняем вниз объединенные ячейки\n",
    "        df = df.fillna('')\n",
    "        # забираем индекс строки, где находится название Бренда\n",
    "        brand_index = list(df[df['Unnamed: 2'].str.lower().str.contains('brand')].index)[0] \n",
    "        # сохраняем название бренда\n",
    "        brand = df['Unnamed: 3'].loc[brand_index] \n",
    "        # забираем период медиаплана\n",
    "        period = df['Unnamed: 3'].loc[brand_index+2] \n",
    "        # забираем индекс начала таблицы\n",
    "        start_index = list(df[df['Unnamed: 1'].str.lower().str.contains('category')].index)[0]\n",
    "        # задаем названия полей\n",
    "        df.columns = df.iloc[start_index].apply(normalize_headers) # забираем название полей из файла\n",
    "        # обрезаем верхнюю часть таблицы. она больше не нужна\n",
    "        df = df.iloc[start_index+2:].reset_index(drop=True)\n",
    "        # забираем окончание таблицы\n",
    "        end_index =list(df[df['category'].str.lower().str.contains('total')].index)[0]\n",
    "        # обрезаем таблицу снизу\n",
    "        df = df.iloc[:end_index].reset_index(drop=True)\n",
    "        # создаем базовый список полей, которые есть всегда вне зависимости от типа размещения\n",
    "        standart_columns = ['category', 'targeting by purchase', 'format', 'quantity of units', 'period', \n",
    "                        'price list cost (cost per unit) net ', 'rotation type',\n",
    "                        'total price list cost net', 'reach forecast (uu)', 'frequency total till',\n",
    "                        'impressions', 'clicks']\n",
    "        # проверяем наличие Видео размещений. Если они есть, то используем дополнительные поля из таблицы\n",
    "        # создаем список уникальных форматов и преобразуем его в одну строку\n",
    "        \n",
    "        if 'vtr,%' in list(df.columns):\n",
    "           standart_columns += ['number of views', 'vtr,%']\n",
    "        else:\n",
    "            df = df[standart_columns]\n",
    "            df['number of views'] = 0\n",
    "            df['vtr,%'] = 0.0\n",
    "            standart_columns += ['number of views', 'vtr,%']\n",
    "            \n",
    "        df = df[standart_columns]\n",
    "        df = df.rename(columns={'category': 'source', 'targeting by purchase': 'targeting', 'format': 'ad copy format', \n",
    "                                'quantity of units': 'unit quantity', 'price list cost (cost per unit) net ': 'unit price', \n",
    "                                'frequency total till': 'frequency', 'reach forecast (uu)': 'reach', \n",
    "                                'total price list cost net' :'budget_without_nds', 'number of views': 'views', 'vtr,%': 'vtr, %'})\n",
    "\n",
    "        # некоторые типы размещений имеют объединенные строки\n",
    "        # например Баннер и универсальный баннер - это 2 строки с объединенными ячейками по расходам, показам и тд.\n",
    "        # поэтому создадим доп. поле, где соединим их названия в одну строку\n",
    "        # создаем пустое поле\n",
    "        df['merge_type_cells'] = ''\n",
    "        # проходим через цикл по датаФрейму\n",
    "        # в первой строке по определению не может быть данных, поэтому сохраняем там название формата\n",
    "        # если это не первая и не посленяя строка, то нам нужно провести проверку\n",
    "        # допустим мы находимся в строке номер 2\n",
    "        # мы проверяем, что находится в строке номер 3 в поле rotation type (на первых шагах мы сделали заполнение вниз)\n",
    "        # соответсвенно если ячейка была пустая, там появится надпись rotation type - так мы поймем, что это как раз объединенные данные\n",
    "        # берем название формата из текущей строки и добавляем к нему название формата из следующей строки\n",
    "        # во всех остальных случаях просто возвращаем название формата из текущей строки\n",
    "        for i in range(len(df)):\n",
    "            base_name = df['ad copy format'][i]\n",
    "        \n",
    "            if i < len(df)-1:\n",
    "                if df['rotation type'][i+1] == 'rotation type':\n",
    "                    base_name = base_name + ' / ' + str(df['ad copy format'][i+1])\n",
    "            else:\n",
    "                base_name = df['ad copy format'][i]\n",
    "            df['merge_type_cells'][i] =  base_name\n",
    "\n",
    "        # забираем окончание таблицы\n",
    "        end_index = list(df[df['unit quantity']==''].index)[0]\n",
    "        # обрезаем таблицу снизу\n",
    "        df = df.iloc[:end_index].reset_index(drop=True)\n",
    "        # передаем новое название формата в нужное нам поле\n",
    "        df['ad copy format'] = df['merge_type_cells']\n",
    "        df = df.drop('merge_type_cells', axis=1)\n",
    "    \n",
    "        df['supplier'] = network\n",
    "        df['report_name'] = report_name\n",
    "        df['sheet_name'] = sheet_name\n",
    "        df['brand'] = brand\n",
    "        df['period'] = period\n",
    "        df['site/ssp'] = ''\n",
    "        df['placement'] = ''\n",
    "        df['budget_nds'] =(df['budget_without_nds'] * 1.2).astype('float').round(2)\n",
    "        # вызываем функцию для парсинга текста из поля targeting\n",
    "        # значение каждого таргетинга записываем в отдельное поле датаФрейма\n",
    "        df['geo'] = df['targeting'].apply(lambda x: get_targetings(x, 'firstdata')[0])\n",
    "        df['soc_dem'] = df['targeting'].apply(lambda x: get_targetings(x, 'firstdata')[1])\n",
    "        \n",
    "      \n",
    "        # if 'views' not in list(df.columns):\n",
    "        #     df['views'] = 0\n",
    "        #     df['vtr, %'] = 0.0\n",
    "        df['views'] = df['views'].apply(normalize_digits)\n",
    "        df['vtr, %'] = df['vtr, %'].apply(normalize_digits)\n",
    "        df['vtr, %'] = df['vtr, %'].apply(replace_blank)\n",
    "        df['views'] = df['views'].apply(replace_blank)\n",
    "        # df['vtr, %'] = df['vtr, %'].apply(lambda x: str(x).replace('', '0.0') if str(x)=='' else x)\n",
    "        # df['views'] = df['views'].apply(lambda x: str(x).replace('', '0') if str(x)=='' else x)\n",
    "        df = df[base_cols]\n",
    "        tmp_dict[sheet_name] = df\n",
    "            "
   ]
  },
  {
   "cell_type": "code",
   "execution_count": null,
   "id": "b3762094-cab7-421a-b78b-843ada15b9ba",
   "metadata": {},
   "outputs": [],
   "source": []
  },
  {
   "cell_type": "code",
   "execution_count": null,
   "id": "d58475fc-1545-413f-a4f8-7821a097b2d9",
   "metadata": {},
   "outputs": [],
   "source": []
  },
  {
   "cell_type": "code",
   "execution_count": null,
   "id": "13d41ba3-7f64-42c0-a036-88cc5c923135",
   "metadata": {},
   "outputs": [],
   "source": []
  },
  {
   "cell_type": "code",
   "execution_count": null,
   "id": "024e0547-ea18-482c-8871-d3e59ffa8f23",
   "metadata": {},
   "outputs": [],
   "source": []
  },
  {
   "cell_type": "code",
   "execution_count": null,
   "id": "9fac7224-9feb-4664-9180-9d4f7aa5ce32",
   "metadata": {},
   "outputs": [],
   "source": []
  },
  {
   "cell_type": "code",
   "execution_count": null,
   "id": "2286243a-1fdb-4cb8-b832-ff208dfd878d",
   "metadata": {},
   "outputs": [],
   "source": []
  },
  {
   "cell_type": "code",
   "execution_count": null,
   "id": "0e08c97a-b8f2-40e0-84a3-1fe23c22148f",
   "metadata": {},
   "outputs": [],
   "source": []
  },
  {
   "cell_type": "code",
   "execution_count": null,
   "id": "6cc3c46d-e6dd-44f7-91dd-10b0f312f1fe",
   "metadata": {},
   "outputs": [],
   "source": []
  },
  {
   "cell_type": "code",
   "execution_count": null,
   "id": "e29c5723-d01d-4827-a155-fb06d5ba61e7",
   "metadata": {},
   "outputs": [],
   "source": []
  },
  {
   "cell_type": "code",
   "execution_count": null,
   "id": "01fd3e13-dd62-4a1c-9c47-9b296199cb54",
   "metadata": {},
   "outputs": [],
   "source": [
    "text = \"\"\"Портал о женском здоровье\n",
    "ГЕО: РФ\n",
    "ЦА: Ж 18+\n",
    "• Покупатели брендов конкурентов или категории препаратов (ОФД)\n",
    "• Аудитория, которая посещает сайты конкурентов\n",
    "• Аудитория с интересом к медицинским услугам по направлению \"Гинекология\"\n",
    "• Посетители онлайн-аптек, которых интересуют гинекологические препараты\n",
    "• Участники женских интернет-сообществ, посетители журналов и порталов для женщин\n",
    "• Гинекологи (посещение профильных сайтов, приложений для врачей гинекологического профиля, интерес к курсам повышения квалификации, интерес к выставкам/форумам/конференциям для гинекологов) \n",
    "• KW: эндометриоз, пероральные контрацептивы, лечение анке, прогестероновая недостаточность, бесплодие, выкидыш, синдром предменструального напряжения, дисменорея, аменорея, дисфункциональные маточные кровотечения, инфекции половых органов/кожи/слизистых оболочек, ВПЧ, вагинит, кольпит\n",
    "\"\"\""
   ]
  },
  {
   "cell_type": "code",
   "execution_count": null,
   "id": "7874af06-9604-4e0e-81c3-5b71e731bba9",
   "metadata": {},
   "outputs": [],
   "source": [
    "text"
   ]
  },
  {
   "cell_type": "code",
   "execution_count": null,
   "id": "f4d98c2f-002b-416e-a500-56dca8d9038c",
   "metadata": {},
   "outputs": [],
   "source": [
    "text = text.lower().strip()\n",
    "if 'гео:' in text:\n",
    "    geo = get_target_text('гео:', '\\n', text)\n",
    "if 'ца:' in text:\n",
    "    soc_dem = get_target_text('ца:', '\\n', text)\n"
   ]
  },
  {
   "cell_type": "code",
   "execution_count": null,
   "id": "fd894f6c-6122-405f-b871-342909d56456",
   "metadata": {},
   "outputs": [],
   "source": [
    "geo"
   ]
  },
  {
   "cell_type": "code",
   "execution_count": null,
   "id": "6a21a4d3-0f42-462a-8aaf-725b012c3ce3",
   "metadata": {},
   "outputs": [],
   "source": [
    "soc_dem"
   ]
  },
  {
   "cell_type": "code",
   "execution_count": null,
   "id": "eb4ff9fd-ea0d-4375-a160-27d66c86823b",
   "metadata": {},
   "outputs": [],
   "source": [
    "# создаем функцию для записи названий таргетингов в поля датаФрейма\n",
    "# на входе она принимает 2 параметра\n",
    "# column - поле с текстом, который нужно распарсить\n",
    "# source - название источника (какому поставщику принадлежит таблица - таким образом мы понимаем, какие правила парсинга применяются\n",
    "# для каждого таргетинга отдельно вызываем функцию, чтобы достать нужный текст\n",
    "# на выходе возвращаем список с текстом для каждого таргетинга\n",
    "# если таргеитнга не было в тексте, то вернутся пустые строки\n",
    "def get_targetings(column, source):\n",
    "    geo = ''\n",
    "    soc_dem = ''\n",
    "    text = column.lower().strip()\n",
    "    if 'гео:' in text or 'ца:' in text:\n",
    "        if source == 'firstdata':\n",
    "            geo = get_target_text('гео:', '\\n', text)\n",
    "            soc_dem = get_target_text('ца:', 'покупатели', text)\n",
    "        if source == 'beeline':\n",
    "            geo = get_target_text('гео:', '\\n', text)\n",
    "            soc_dem = get_target_text('ца:', '\\n', text)\n",
    "        if source=='hybrid':\n",
    "            soc_dem = get_target_text('ца:', '\\n', text)\n",
    "    return [geo, soc_dem]"
   ]
  },
  {
   "cell_type": "code",
   "execution_count": null,
   "id": "27021084-ee53-49dc-ba49-db53ed6a058a",
   "metadata": {},
   "outputs": [],
   "source": [
    "# создаем функцию для парсинга таргетингов из текста\n",
    "# на вход она принимает ключевое слово - start_pattern -какой именно таргетинг мы ищем гео: / ца: / интересы:\n",
    "# окончанием строки - end_pattern - передаем слово или символ, который будет считаться окончанием строки например -  \\n или слово покупатели\n",
    "# если таргетинг находится в конце текста, то возвращаем текст до конца\n",
    "# на выходе функция текст таргетинга БЕЗ ключевого слова\n",
    "def get_target_text(start_pattern, end_pattern, text):\n",
    "    start_index = text.index(start_pattern)\n",
    "    text = text[start_index:]\n",
    "    end_index = text.index(end_pattern)\n",
    "    target_text = text[len(start_pattern):end_index]\n",
    "\n",
    "    target_text = target_text.strip().replace('\\n', ' ')\n",
    "\n",
    "    return target_text"
   ]
  },
  {
   "cell_type": "code",
   "execution_count": null,
   "id": "7d955027-f06b-42a3-9748-4dd158fd895e",
   "metadata": {},
   "outputs": [],
   "source": [
    "geo"
   ]
  },
  {
   "cell_type": "code",
   "execution_count": null,
   "id": "dbaa9004-632b-4a42-9a7e-0beaeae9f962",
   "metadata": {},
   "outputs": [],
   "source": [
    "ca"
   ]
  },
  {
   "cell_type": "code",
   "execution_count": null,
   "id": "0e10825e-ce94-4874-ae33-3d650e6b4853",
   "metadata": {},
   "outputs": [],
   "source": [
    "interests"
   ]
  },
  {
   "cell_type": "code",
   "execution_count": null,
   "id": "f210fd9a-f3b0-4de8-8f06-79a8da8f856f",
   "metadata": {},
   "outputs": [],
   "source": [
    "start_index = text.index('ца')"
   ]
  },
  {
   "cell_type": "code",
   "execution_count": null,
   "id": "21b6edc4-5e9f-43ca-bbf1-d660e04f1ff2",
   "metadata": {},
   "outputs": [],
   "source": [
    "start_index "
   ]
  },
  {
   "cell_type": "code",
   "execution_count": null,
   "id": "64198d76-6361-4b64-97de-37a71daf7156",
   "metadata": {},
   "outputs": [],
   "source": [
    "end_index = text[start_index:].index('\\n')"
   ]
  },
  {
   "cell_type": "code",
   "execution_count": null,
   "id": "30ee0f9c-bab7-4b4a-ba92-5578feb01274",
   "metadata": {},
   "outputs": [],
   "source": [
    "end_index"
   ]
  },
  {
   "cell_type": "code",
   "execution_count": null,
   "id": "a6b7ce79-aec0-45dc-9732-f78fc27d8247",
   "metadata": {},
   "outputs": [],
   "source": [
    "target_text = text[8:18]"
   ]
  },
  {
   "cell_type": "code",
   "execution_count": null,
   "id": "ca4838b7-8ae5-4cf6-baa2-5a58ad50e16f",
   "metadata": {},
   "outputs": [],
   "source": [
    "target_text"
   ]
  },
  {
   "cell_type": "code",
   "execution_count": null,
   "id": "62ac34e9-8442-47b5-b1b7-19899c77f5d4",
   "metadata": {},
   "outputs": [],
   "source": [
    "text"
   ]
  },
  {
   "cell_type": "code",
   "execution_count": null,
   "id": "bc4f6c5f-a7be-4690-b4fe-301982da04e4",
   "metadata": {},
   "outputs": [],
   "source": []
  }
 ],
 "metadata": {
  "kernelspec": {
   "display_name": "Python 3 (ipykernel)",
   "language": "python",
   "name": "python3"
  },
  "language_info": {
   "codemirror_mode": {
    "name": "ipython",
    "version": 3
   },
   "file_extension": ".py",
   "mimetype": "text/x-python",
   "name": "python",
   "nbconvert_exporter": "python",
   "pygments_lexer": "ipython3",
   "version": "3.11.7"
  }
 },
 "nbformat": 4,
 "nbformat_minor": 5
}
