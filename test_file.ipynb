{
 "cells": [
  {
   "cell_type": "code",
   "execution_count": 30,
   "id": "c2ec9645-994c-48eb-83fe-1353d8d28a79",
   "metadata": {},
   "outputs": [
    {
     "name": "stdout",
     "output_type": "stream",
     "text": [
      "200\n"
     ]
    }
   ],
   "source": [
    "import pandas as pd\n",
    "import numpy as np\n",
    "from io import BytesIO\n",
    "import requests\n",
    "from urllib.parse import urlencode\n",
    "import urllib\n",
    "from requests.auth import HTTPBasicAuth\n",
    "from requests.exceptions import ChunkedEncodingError\n",
    "import os\n",
    "import json\n",
    "import yadisk\n",
    "from datetime import datetime, date, timedelta\n",
    "import locale\n",
    "from time import sleep\n",
    "import shutil\n",
    "import gc\n",
    "import turbodbc\n",
    "from turbodbc import connect\n",
    "import gc\n",
    "from pandas.api.types import is_string_dtype\n",
    "import numpy as np\n",
    "from sqlalchemy import create_engine\n",
    "import pyodbc\n",
    "import warnings\n",
    "import re\n",
    "\n",
    "import config\n",
    "from yandex_disk_func import *\n",
    "from parse_functions import *\n",
    "\n",
    "\n",
    "\n",
    "# # указываем путь и название файла с токеном для Яндекс Диск\n",
    "file_path = r'C:\\Users\\o.bogomolov\\Desktop\\Jupyter_notebook\\35_mediaplan_parser'\n",
    "\n",
    "public_key = config.public_key # обычная ссылка на доступ к папке одного данного ФЛАЙТА из личного кабинета\n",
    "\n",
    "# забираем список папок в нужной нам директории\n",
    "res = get_yandex_disk_folders(public_key)\n",
    "yandex_folders = res.json() # парсим ответ"
   ]
  },
  {
   "cell_type": "code",
   "execution_count": 2,
   "id": "161bc03c-7528-4267-afb3-77a959c63d2a",
   "metadata": {},
   "outputs": [],
   "source": [
    "# Включаем отображение всех колонок\n",
    "pd.set_option('display.max_columns', None)\n",
    "# Задаем ширину столбцов по контенту\n",
    "pd.set_option('display.max_colwidth', None)\n",
    "pd.set_option('display.max_rows', None)\n",
    "pd.options.mode.chained_assignment = None\n",
    "warnings.filterwarnings('ignore', category=UserWarning, module='openpyxl')\n",
    "pd.options.mode.chained_assignment = None"
   ]
  },
  {
   "cell_type": "code",
   "execution_count": 3,
   "id": "90a48357-4332-403f-9371-9242811751e7",
   "metadata": {},
   "outputs": [],
   "source": [
    "base_cols = ['supplier', 'report_name', 'sheet_name', 'brand', 'period', 'source', 'site/ssp', 'placement', \n",
    "                     'targeting', 'geo', 'soc_dem', 'ad copy format', 'rotation type', \n",
    "                     'unit price', 'frequency', 'reach', 'impressions', 'clicks', \n",
    "             'budget_without_nds', 'budget_nds', 'views', 'vtr, %']"
   ]
  },
  {
   "cell_type": "code",
   "execution_count": 40,
   "id": "1d99e039-3857-44da-a335-3d8ecec1af91",
   "metadata": {},
   "outputs": [
    {
     "name": "stdout",
     "output_type": "stream",
     "text": [
      "/01_yandex\n",
      "/02_prog\n",
      "Ингосстрах_Weborama_Igronik_OLV_Banner_06092024_OFD.xlsx\n",
      "/03_Полина\n"
     ]
    }
   ],
   "source": [
    "public_key = yandex_folders['public_key']  # из ответа Яндекс забираем public_key, чтобы использовать его для скачивания файлов\n",
    "\n",
    "for i in range(len(yandex_folders['_embedded']['items'])): # через цикл проходим по ответу Яндекса и забираем названия вложенных папок\n",
    "    file_type = yandex_folders['_embedded']['items'][i]['type']\n",
    "    if file_type=='dir':   # если находим файлы с типом dir (папка), то забираем путь к этой папке\n",
    "        folder_path = yandex_folders['_embedded']['items'][i]['path']\n",
    "        print(folder_path)\n",
    "        yandex_responce = get_yandex_disk_responce(base_public_url, public_key, folder_path) # отправляем запрос, чтобы получить содержимое папки\n",
    "\n",
    "        # Через цикл проходим по папке с файлами\n",
    "        # Нас интересуют файлы эксель. Причем каждая экселька будет парситься по своему, т.к. они относятся к разным рекламным площадкам\n",
    "        \n",
    "        # Проходим через цикл по содержимому папки (отдельный флайт)\n",
    "        for i in range(len(yandex_responce['_embedded']['items'])):\n",
    "            file_info = yandex_responce['_embedded']['items'][i]\n",
    "            if file_info['type']=='file':  # если документ является фалйом(не папкой или изображением), то забираем его название \n",
    "                file_name = file_info['name'] # сохраняем название файла\n",
    "                if 'xls' in file_name: # еслит тип файла является xlsx, то уберем расширение и будем его использовать в качесвте названия отчета\n",
    "                    file_path = file_info['path']\n",
    "                    \n",
    "                    # report_name = '.'.join(file_name.split('.')[:-1]) # убираем .xlsx из названия файла\n",
    "                    print(file_name)\n",
    "                    res_file_link = get_yandex_disk_responce(download_url, public_key, file_path) # получаем ссылку на скачивание отчета\n",
    "                    download_response = requests.get(res_file_link['href'])"
   ]
  },
  {
   "cell_type": "code",
   "execution_count": 41,
   "id": "72300c65-9a91-4fae-ac0b-e42eb32378fa",
   "metadata": {},
   "outputs": [],
   "source": [
    "data_link = download_response.content"
   ]
  },
  {
   "cell_type": "code",
   "execution_count": 42,
   "id": "5e2c698f-ed11-41c0-afa7-3c6ee4cd1bda",
   "metadata": {},
   "outputs": [],
   "source": [
    "sheet_names = pd.ExcelFile(BytesIO(data_link))"
   ]
  },
  {
   "cell_type": "code",
   "execution_count": null,
   "id": "3a60205c-19ba-41b8-8c6d-bc3b8122e902",
   "metadata": {},
   "outputs": [],
   "source": []
  },
  {
   "cell_type": "code",
   "execution_count": 44,
   "id": "05a69270-d25d-46da-89b1-964873a033d4",
   "metadata": {},
   "outputs": [
    {
     "data": {
      "text/plain": [
       "['OFD_Banner', 'OFD_Video', 'Data', 'ТТ', 'Banners']"
      ]
     },
     "execution_count": 44,
     "metadata": {},
     "output_type": "execute_result"
    }
   ],
   "source": [
    "sheet_names.sheet_names"
   ]
  },
  {
   "cell_type": "code",
   "execution_count": 9,
   "id": "946b2620-babe-4af7-a290-bc8f8422f90a",
   "metadata": {},
   "outputs": [],
   "source": []
  },
  {
   "cell_type": "code",
   "execution_count": 45,
   "id": "611a85ca-8504-4d3d-9416-a1148786e7b1",
   "metadata": {},
   "outputs": [
    {
     "name": "stdout",
     "output_type": "stream",
     "text": [
      "ofd_banner\n",
      "ofd_video\n"
     ]
    }
   ],
   "source": [
    "network = 'weborama'\n",
    "report_name = 'tst'\n",
    "tmp_dict = {}\n",
    "sheet_names = pd.ExcelFile(BytesIO(data_link))\n",
    "# в этом файле присутствуют скрытые листы\n",
    "# нам нужно исключить их из парсинга\n",
    "# поэтому добавляем дополнительный блок с проверкой статуса листа\n",
    "sheets = get_sheets_list(sheet_names, extention)\n",
    "for sheet in sheets:\n",
    "    sheet_name = check_excel_sheets(sheet, extention)\n",
    "    if sheet_name:\n",
    "        if 'banner' in sheet_name.lower() or 'video' in sheet_name.lower() \\\n",
    "        or 'баннер' in sheet_name.lower() or 'видео' in sheet_name.lower():\n",
    "            \n",
    "            df = pd.read_excel(BytesIO(data_link), sheet_name=sheet_name, header=None)\n",
    "            sheet_name = normalize_headers(sheet_name)\n",
    "            print(sheet_name)\n",
    "            # заголовки в файле состоят из 2-х строк, поэтому нужно выполнить заполнение вниз на 1 строку\n",
    "            # забираем название полей, в которых нужно сдвинуть строку вниз\n",
    "            ffill_columns = [1, 2, 3, 4, 5, 6, 7, 8, 9, 10, 11]\n",
    "            df[ffill_columns] = df[ffill_columns].ffill(limit=1) # заполняем вниз\n",
    "            \n",
    "            # т.к. мы выполнили заполнение вниз на 1 строку\n",
    "            # у нас дублируются заголовки, поэтому мы берем второе вхождение забираем индекс начала таблицы\n",
    "            start_index = get_index_row(df, 1, 'период') + 1\n",
    "            # забираем название полей из файла\n",
    "            col_names_list = df.iloc[start_index].fillna('').apply(normalize_headers)\n",
    "            pattern = 'показы'\n",
    "            # получаем индекс колонки\n",
    "            col_index = get_col_index(col_names_list, pattern, flag='equals')\n",
    "            df[col_index] = df[col_index].fillna('0')\n",
    "            df = df.fillna('')\n",
    "\n",
    "            # сохраняем название бренда\n",
    "            brand = df[1].loc[get_index_row(df, 1, 'клиент')]\n",
    "            brand = brand[len('Клиент:'):].strip()\n",
    "            \n",
    "            # если целевая аудитория НЕ будет указана в самой таблице\n",
    "            # то возьмем значение из описания НАД таблицей\n",
    "            ca = df[1].loc[get_index_row(df, 1, 'ца')]\n",
    "            ca = ca[len('ЦА:'):].strip()\n",
    "            \n",
    "                        \n",
    "            # т.к. одно из полей может менять название, нам нужно его к единому стандарту\n",
    "            # сначала получим индекс колонки, которая нам нужна. она тоже может менять положение (может быть втоорой или третьей)\n",
    "            pattern = 'сервис'\n",
    "            # получаем индекс колонки\n",
    "            col_index = get_col_index(col_names_list, pattern)\n",
    "            # получаем индекс строки\n",
    "            # row_index = get_index_row(df, col_index, pattern) + 1\n",
    "            # меняем название в нужнй ячейке\n",
    "            df[col_index].loc[start_index] = 'source'\n",
    "            \n",
    "            # меняем назвние еще одного поля\n",
    "            pattern = 'объем'\n",
    "             # получаем индекс колонки\n",
    "            col_index = get_col_index(col_names_list, pattern)\n",
    "            # получаем индекс строки\n",
    "            # row_index = get_index_row(df, col_index, pattern) + 1\n",
    "            # меняем название в нужнй ячейке\n",
    "            df[col_index].loc[start_index] = 'budget_without_nds'\n",
    "\n",
    "            # меняем назвние еще одного поля\n",
    "            pattern = 'частота'\n",
    "             # получаем индекс колонки\n",
    "            col_index = get_col_index(col_names_list, pattern)\n",
    "            # получаем индекс строки\n",
    "            # row_index = get_index_row(df, col_index, pattern) + 1\n",
    "            # меняем название в нужнй ячейке\n",
    "            df[col_index].loc[start_index] = 'frequency'\n",
    "            \n",
    "            # задаем названия полей\n",
    "            df.columns = df.iloc[start_index].apply(normalize_headers) # забираем название полей из файла\n",
    "            # обрезаем верхнюю часть таблицы. она больше не нужна\n",
    "            df = df.iloc[start_index+1:].reset_index(drop=True)\n",
    "            # обрезаем таблицу снизу\n",
    "            end_index = get_index_row(df, 'показы', '0')\n",
    "            df = df.iloc[:end_index]\n",
    "            # создаем базовый список полей, которые есть всегда вне зависимости от типа размещения\n",
    "            standart_columns = ['период', 'source', 'формат рекламы', 'гео', 'аудиторные данные перечислены через слэш (/)',\n",
    "                            'стоимость за единицу (до ндс)', 'budget_without_nds', 'показы', 'охват', 'клики', 'frequency', 'модель закупки']\n",
    "            \n",
    "            # проверяем наличие Видео размещений. Если они есть, то используем дополнительные поля из таблицы\n",
    "            # если Видео размещений нет, то добавляем дополнительно 2 поля с 0 (это нужно для нормализации общей таблицы     \n",
    "            if 'vtr' not in list(df.columns):\n",
    "                df['views'] = 0\n",
    "                df['vtr'] = 0.0\n",
    "            else:\n",
    "                df['views'] = df['vtr'].astype('float') * df['показы'].astype('float')\n",
    "                \n",
    "            if 'ца' not in list(df.columns):\n",
    "                df['ца'] = ca\n",
    "\n",
    "            standart_columns += ['ца', 'views', 'vtr']\n",
    "            # оставляем только нужные поля\n",
    "            df = df[standart_columns]\n",
    "            # приводим названия полей к единому стандарту\n",
    "            df = df.rename(columns={'период': 'period', 'формат рекламы': 'ad copy format', 'гео': 'geo',\n",
    "                                    'аудиторные данные перечислены через слэш (/)': 'targeting', 'ца': 'soc_dem', \n",
    "                                    'модель закупки': 'rotation type', 'стоимость за единицу (до ндс)': 'unit price',\n",
    "                                    'показы': 'impressions', 'охват': 'reach', 'клики': 'clicks', 'vtr': 'vtr, %'})\n",
    "            df['supplier'] = network\n",
    "            df['report_name'] = report_name\n",
    "            df['sheet_name'] = sheet_name\n",
    "            df['brand'] = brand\n",
    "            df['site/ssp'] = ''\n",
    "            df['placement'] = ''\n",
    "            df['budget_nds'] =(df['budget_without_nds'] * 1.2).astype('float').round(2)\n",
    "            \n",
    "            df = df[base_cols]"
   ]
  },
  {
   "cell_type": "code",
   "execution_count": 46,
   "id": "3866a21a-f448-4d80-8013-71fa14f049bd",
   "metadata": {},
   "outputs": [
    {
     "data": {
      "text/html": [
       "<div>\n",
       "<style scoped>\n",
       "    .dataframe tbody tr th:only-of-type {\n",
       "        vertical-align: middle;\n",
       "    }\n",
       "\n",
       "    .dataframe tbody tr th {\n",
       "        vertical-align: top;\n",
       "    }\n",
       "\n",
       "    .dataframe thead th {\n",
       "        text-align: right;\n",
       "    }\n",
       "</style>\n",
       "<table border=\"1\" class=\"dataframe\">\n",
       "  <thead>\n",
       "    <tr style=\"text-align: right;\">\n",
       "      <th>13</th>\n",
       "      <th>supplier</th>\n",
       "      <th>report_name</th>\n",
       "      <th>sheet_name</th>\n",
       "      <th>brand</th>\n",
       "      <th>period</th>\n",
       "      <th>source</th>\n",
       "      <th>site/ssp</th>\n",
       "      <th>placement</th>\n",
       "      <th>targeting</th>\n",
       "      <th>geo</th>\n",
       "      <th>soc_dem</th>\n",
       "      <th>ad copy format</th>\n",
       "      <th>rotation type</th>\n",
       "      <th>unit price</th>\n",
       "      <th>frequency</th>\n",
       "      <th>reach</th>\n",
       "      <th>impressions</th>\n",
       "      <th>clicks</th>\n",
       "      <th>budget_without_nds</th>\n",
       "      <th>budget_nds</th>\n",
       "      <th>views</th>\n",
       "      <th>vtr, %</th>\n",
       "    </tr>\n",
       "  </thead>\n",
       "  <tbody>\n",
       "    <tr>\n",
       "      <th>0</th>\n",
       "      <td>weborama</td>\n",
       "      <td>tst</td>\n",
       "      <td>ofd_video</td>\n",
       "      <td>Ингосстрах, продукт - Инго Экосистема</td>\n",
       "      <td>1 месяц</td>\n",
       "      <td>Видео сеть Weborama</td>\n",
       "      <td></td>\n",
       "      <td></td>\n",
       "      <td>Аудиторный сегмент покупателей сетей и посетителей сайтов;\\n• Золотое яблоко (не меньше 1 раза в месяц/последние 2-3 месяца)\\n• Ozon (не реже 1 раза в месяц/ последние 2-3 месяца)\\n• ЛЭтуаль (не реже 1 раза в 1-2 месяца)\\n• WB (не реже 1 раза в 1 месяц)</td>\n",
       "      <td>РФ</td>\n",
       "      <td>ALL 20-55</td>\n",
       "      <td>pre-roll 20 сек</td>\n",
       "      <td>CPM</td>\n",
       "      <td>400</td>\n",
       "      <td>2</td>\n",
       "      <td>3125000</td>\n",
       "      <td>6250000</td>\n",
       "      <td>62500</td>\n",
       "      <td>2500000</td>\n",
       "      <td>3000000.0</td>\n",
       "      <td>4687500.0</td>\n",
       "      <td>0.75</td>\n",
       "    </tr>\n",
       "  </tbody>\n",
       "</table>\n",
       "</div>"
      ],
      "text/plain": [
       "13  supplier report_name sheet_name                                  brand  \\\n",
       "0   weborama         tst  ofd_video  Ингосстрах, продукт - Инго Экосистема   \n",
       "\n",
       "13   period               source site/ssp placement  \\\n",
       "0   1 месяц  Видео сеть Weborama                      \n",
       "\n",
       "13                                                                                                                                                                                                                                                      targeting  \\\n",
       "0   Аудиторный сегмент покупателей сетей и посетителей сайтов;\\n• Золотое яблоко (не меньше 1 раза в месяц/последние 2-3 месяца)\\n• Ozon (не реже 1 раза в месяц/ последние 2-3 месяца)\\n• ЛЭтуаль (не реже 1 раза в 1-2 месяца)\\n• WB (не реже 1 раза в 1 месяц)   \n",
       "\n",
       "13 geo    soc_dem   ad copy format rotation type unit price frequency  \\\n",
       "0   РФ  ALL 20-55  pre-roll 20 сек           CPM        400         2   \n",
       "\n",
       "13    reach impressions clicks budget_without_nds  budget_nds      views  \\\n",
       "0   3125000     6250000  62500            2500000   3000000.0  4687500.0   \n",
       "\n",
       "13 vtr, %  \n",
       "0    0.75  "
      ]
     },
     "execution_count": 46,
     "metadata": {},
     "output_type": "execute_result"
    }
   ],
   "source": [
    "df"
   ]
  },
  {
   "cell_type": "code",
   "execution_count": null,
   "id": "ae5ba607-3e8b-41f7-8fb8-f18183b64d64",
   "metadata": {},
   "outputs": [],
   "source": []
  },
  {
   "cell_type": "code",
   "execution_count": null,
   "id": "7adcfd2b-2050-4c4f-92f2-b67ee6d2c0ff",
   "metadata": {},
   "outputs": [],
   "source": []
  },
  {
   "cell_type": "code",
   "execution_count": null,
   "id": "1e44fac8-08d2-47b0-8b8d-ca83739b140c",
   "metadata": {},
   "outputs": [],
   "source": []
  },
  {
   "cell_type": "code",
   "execution_count": null,
   "id": "8a9a80f5-6cd7-432d-833e-d96785732071",
   "metadata": {},
   "outputs": [],
   "source": []
  },
  {
   "cell_type": "code",
   "execution_count": null,
   "id": "e29c5723-d01d-4827-a155-fb06d5ba61e7",
   "metadata": {},
   "outputs": [],
   "source": []
  },
  {
   "cell_type": "code",
   "execution_count": null,
   "id": "01fd3e13-dd62-4a1c-9c47-9b296199cb54",
   "metadata": {},
   "outputs": [],
   "source": [
    "text = \"\"\"Гео: РФ\n",
    "Соц.дем: 25+\n",
    "GPT таргетинг: МСБ: (предприниматели, бизнес, услуги банков, РКО,  инвестиции, ВЭД)\n",
    "\"\"\""
   ]
  },
  {
   "cell_type": "code",
   "execution_count": null,
   "id": "7874af06-9604-4e0e-81c3-5b71e731bba9",
   "metadata": {},
   "outputs": [],
   "source": [
    "text"
   ]
  },
  {
   "cell_type": "code",
   "execution_count": null,
   "id": "f4d98c2f-002b-416e-a500-56dca8d9038c",
   "metadata": {},
   "outputs": [],
   "source": [
    "text = text.lower().strip()\n",
    "if 'гео:' in text:\n",
    "    geo = get_target_text('гео:', '\\n', text)\n",
    "if 'соц:' in text:\n",
    "    soc_dem = get_target_text('соц:', '\\n', text)\n"
   ]
  },
  {
   "cell_type": "code",
   "execution_count": null,
   "id": "bc4f6c5f-a7be-4690-b4fe-301982da04e4",
   "metadata": {},
   "outputs": [],
   "source": []
  }
 ],
 "metadata": {
  "kernelspec": {
   "display_name": "Python 3 (ipykernel)",
   "language": "python",
   "name": "python3"
  },
  "language_info": {
   "codemirror_mode": {
    "name": "ipython",
    "version": 3
   },
   "file_extension": ".py",
   "mimetype": "text/x-python",
   "name": "python",
   "nbconvert_exporter": "python",
   "pygments_lexer": "ipython3",
   "version": "3.11.7"
  }
 },
 "nbformat": 4,
 "nbformat_minor": 5
}
